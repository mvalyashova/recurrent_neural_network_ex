{
 "cells": [
  {
   "cell_type": "markdown",
   "metadata": {},
   "source": [
    "# Lyrics detector Challenge\n",
    "\n",
    "The goal is to leverage my knowledge of Deep Learning to design and train a lyrics classifier. For a given verse $X$, my model should learn to predict the artist $y$. The dataset consists of lyrics scrapped from the Genius website.\n",
    "\n",
    "### Objectives:\n",
    "- Text preprocessing\n",
    "- Text embedding\n",
    "- Train a RNN to detect the artist behind a set of lyrics"
   ]
  },
  {
   "cell_type": "code",
   "execution_count": 1,
   "metadata": {
    "ExecuteTime": {
     "end_time": "2021-06-25T17:22:16.205260Z",
     "start_time": "2021-06-25T17:22:11.396250Z"
    }
   },
   "outputs": [
    {
     "name": "stderr",
     "output_type": "stream",
     "text": [
      "C:\\Users\\mvalyashova\\AppData\\Local\\Continuum\\anaconda3\\lib\\site-packages\\gensim\\similarities\\__init__.py:15: UserWarning: The gensim.similarities.levenshtein submodule is disabled, because the optional Levenshtein package <https://pypi.org/project/python-Levenshtein/> is unavailable. Install Levenhstein (e.g. `pip install python-Levenshtein`) to suppress this warning.\n",
      "  warnings.warn(msg)\n"
     ]
    }
   ],
   "source": [
    "import numpy as np\n",
    "import pandas as pd\n",
    "import matplotlib.pyplot as plt\n",
    "import seaborn as sns\n",
    "\n",
    "import tensorflow as tf\n",
    "\n",
    "from tensorflow.keras import Sequential\n",
    "from tensorflow.keras.layers import Masking, LSTM, Dense, Dropout\n",
    "from tensorflow.keras.callbacks import EarlyStopping\n",
    "\n",
    "from unidecode import unidecode\n",
    "\n",
    "from gensim.models import Word2Vec\n",
    "\n",
    "from sklearn.dummy import DummyClassifier"
   ]
  },
  {
   "cell_type": "markdown",
   "metadata": {},
   "source": [
    "## 1. Data Cleaning\n",
    "\n",
    "The dataset contains around 4,000 verses of lyrics from different artists: Drake, Ed Sheeran and Kanye West (the verses are given in this order)."
   ]
  },
  {
   "cell_type": "code",
   "execution_count": 2,
   "metadata": {
    "ExecuteTime": {
     "end_time": "2021-06-25T17:22:16.654079Z",
     "start_time": "2021-06-25T17:22:16.207433Z"
    }
   },
   "outputs": [
    {
     "data": {
      "text/html": [
       "<div>\n",
       "<style scoped>\n",
       "    .dataframe tbody tr th:only-of-type {\n",
       "        vertical-align: middle;\n",
       "    }\n",
       "\n",
       "    .dataframe tbody tr th {\n",
       "        vertical-align: top;\n",
       "    }\n",
       "\n",
       "    .dataframe thead th {\n",
       "        text-align: right;\n",
       "    }\n",
       "</style>\n",
       "<table border=\"1\" class=\"dataframe\">\n",
       "  <thead>\n",
       "    <tr style=\"text-align: right;\">\n",
       "      <th></th>\n",
       "      <th>artist</th>\n",
       "      <th>verse</th>\n",
       "    </tr>\n",
       "  </thead>\n",
       "  <tbody>\n",
       "    <tr>\n",
       "      <th>0</th>\n",
       "      <td>Drake</td>\n",
       "      <td>Ayy, woah Ayy, ayy Yeah</td>\n",
       "    </tr>\n",
       "    <tr>\n",
       "      <th>1</th>\n",
       "      <td>Drake</td>\n",
       "      <td>I'm makin' a change today The liquor been taki...</td>\n",
       "    </tr>\n",
       "    <tr>\n",
       "      <th>2</th>\n",
       "      <td>Drake</td>\n",
       "      <td>I can't just be with you and only you Yeah, I ...</td>\n",
       "    </tr>\n",
       "    <tr>\n",
       "      <th>3</th>\n",
       "      <td>Drake</td>\n",
       "      <td>Well, summer, all I did was rest, okay? And Ne...</td>\n",
       "    </tr>\n",
       "    <tr>\n",
       "      <th>4</th>\n",
       "      <td>Drake</td>\n",
       "      <td>I'm makin' a change today The liquor been taki...</td>\n",
       "    </tr>\n",
       "  </tbody>\n",
       "</table>\n",
       "</div>"
      ],
      "text/plain": [
       "  artist                                              verse\n",
       "0  Drake                            Ayy, woah Ayy, ayy Yeah\n",
       "1  Drake  I'm makin' a change today The liquor been taki...\n",
       "2  Drake  I can't just be with you and only you Yeah, I ...\n",
       "3  Drake  Well, summer, all I did was rest, okay? And Ne...\n",
       "4  Drake  I'm makin' a change today The liquor been taki..."
      ]
     },
     "execution_count": 2,
     "metadata": {},
     "output_type": "execute_result"
    }
   ],
   "source": [
    "raw_data = pd.read_csv(\"https://wagon-public-datasets.s3.amazonaws.com/certification_france_2021_q2/verses.csv\")\n",
    "data = raw_data.copy() # From now on, update `data` as you see fit and don't touch raw_data\n",
    "data.head(5)"
   ]
  },
  {
   "cell_type": "markdown",
   "metadata": {},
   "source": [
    "❓ **Let's have a look at the verse index 18th**"
   ]
  },
  {
   "cell_type": "code",
   "execution_count": 3,
   "metadata": {},
   "outputs": [],
   "source": [
    "#data.loc[18,:]"
   ]
  },
  {
   "cell_type": "code",
   "execution_count": 6,
   "metadata": {},
   "outputs": [],
   "source": [
    "pd.options.display.max_colwidth = 300"
   ]
  },
  {
   "cell_type": "code",
   "execution_count": 7,
   "metadata": {},
   "outputs": [
    {
     "data": {
      "text/plain": [
       "'Ayy, yeah Pipe this shit up and I turn this shit up When I was down, I\\u2005was\\u2005down Now them diamonds\\u2005for fun like damn Ayy, yeah'"
      ]
     },
     "execution_count": 7,
     "metadata": {},
     "output_type": "execute_result"
    }
   ],
   "source": [
    "data.iloc[18, 1]"
   ]
  },
  {
   "cell_type": "code",
   "execution_count": 8,
   "metadata": {},
   "outputs": [
    {
     "data": {
      "text/plain": [
       "artist       3\n",
       "verse     3039\n",
       "dtype: int64"
      ]
     },
     "execution_count": 8,
     "metadata": {},
     "output_type": "execute_result"
    }
   ],
   "source": [
    "data.nunique()"
   ]
  },
  {
   "cell_type": "code",
   "execution_count": 9,
   "metadata": {},
   "outputs": [
    {
     "data": {
      "text/plain": [
       "(3975, 2)"
      ]
     },
     "execution_count": 9,
     "metadata": {},
     "output_type": "execute_result"
    }
   ],
   "source": [
    "data.shape"
   ]
  },
  {
   "cell_type": "markdown",
   "metadata": {},
   "source": [
    "❓ **Check if some verses are duplicated and remove them to avoid data leaks between train and test sets**"
   ]
  },
  {
   "cell_type": "code",
   "execution_count": 10,
   "metadata": {},
   "outputs": [
    {
     "name": "stdout",
     "output_type": "stream",
     "text": [
      "There are  936 duplicate verses.\n"
     ]
    }
   ],
   "source": [
    "print('There are ',len(data['verse']) - len(data['verse'].drop_duplicates()), 'duplicate verses.')"
   ]
  },
  {
   "cell_type": "code",
   "execution_count": 11,
   "metadata": {},
   "outputs": [],
   "source": [
    "data.drop_duplicates(subset='verse', inplace=True)"
   ]
  },
  {
   "cell_type": "code",
   "execution_count": 12,
   "metadata": {},
   "outputs": [
    {
     "data": {
      "text/plain": [
       "(3039, 2)"
      ]
     },
     "execution_count": 12,
     "metadata": {},
     "output_type": "execute_result"
    }
   ],
   "source": [
    "data.shape"
   ]
  },
  {
   "cell_type": "code",
   "execution_count": 13,
   "metadata": {},
   "outputs": [
    {
     "data": {
      "text/html": [
       "<div>\n",
       "<style scoped>\n",
       "    .dataframe tbody tr th:only-of-type {\n",
       "        vertical-align: middle;\n",
       "    }\n",
       "\n",
       "    .dataframe tbody tr th {\n",
       "        vertical-align: top;\n",
       "    }\n",
       "\n",
       "    .dataframe thead th {\n",
       "        text-align: right;\n",
       "    }\n",
       "</style>\n",
       "<table border=\"1\" class=\"dataframe\">\n",
       "  <thead>\n",
       "    <tr style=\"text-align: right;\">\n",
       "      <th></th>\n",
       "      <th>artist</th>\n",
       "      <th>verse</th>\n",
       "      <th>clean_text</th>\n",
       "    </tr>\n",
       "  </thead>\n",
       "  <tbody>\n",
       "    <tr>\n",
       "      <th>0</th>\n",
       "      <td>Drake</td>\n",
       "      <td>Ayy, woah Ayy, ayy Yeah</td>\n",
       "      <td>Ayy woah Ayy ayy Yeah</td>\n",
       "    </tr>\n",
       "    <tr>\n",
       "      <th>1</th>\n",
       "      <td>Drake</td>\n",
       "      <td>I'm makin' a change today The liquor been takin' the pain away I heard you was givin' your chain away That's kinda like givin' your fame away What's wrong with you? I sit in a box where the owners do A boss is a role that I've grown into I love you to death but I told you the truth</td>\n",
       "      <td>Im makin a change today The liquor been takin the pain away I heard you was givin your chain away Thats kinda like givin your fame away Whats wrong with you I sit in a box where the owners do A boss is a role that Ive grown into I love you to death but I told you the truth</td>\n",
       "    </tr>\n",
       "  </tbody>\n",
       "</table>\n",
       "</div>"
      ],
      "text/plain": [
       "  artist  \\\n",
       "0  Drake   \n",
       "1  Drake   \n",
       "\n",
       "                                                                                                                                                                                                                                                                                        verse  \\\n",
       "0                                                                                                                                                                                                                                                                     Ayy, woah Ayy, ayy Yeah   \n",
       "1  I'm makin' a change today The liquor been takin' the pain away I heard you was givin' your chain away That's kinda like givin' your fame away What's wrong with you? I sit in a box where the owners do A boss is a role that I've grown into I love you to death but I told you the truth   \n",
       "\n",
       "                                                                                                                                                                                                                                                                          clean_text  \n",
       "0                                                                                                                                                                                                                                                              Ayy woah Ayy ayy Yeah  \n",
       "1  Im makin a change today The liquor been takin the pain away I heard you was givin your chain away Thats kinda like givin your fame away Whats wrong with you I sit in a box where the owners do A boss is a role that Ive grown into I love you to death but I told you the truth  "
      ]
     },
     "execution_count": 13,
     "metadata": {},
     "output_type": "execute_result"
    }
   ],
   "source": [
    "import string\n",
    "\n",
    "#first I'll clean up punctuation\n",
    "def punctuation(text):\n",
    "    for punctuation in string.punctuation:\n",
    "        text = text.replace(punctuation, '')\n",
    "    return text\n",
    "\n",
    "data['clean_text'] = data['verse'].apply(punctuation)\n",
    "data.head(2)"
   ]
  },
  {
   "cell_type": "code",
   "execution_count": 14,
   "metadata": {},
   "outputs": [
    {
     "data": {
      "text/html": [
       "<div>\n",
       "<style scoped>\n",
       "    .dataframe tbody tr th:only-of-type {\n",
       "        vertical-align: middle;\n",
       "    }\n",
       "\n",
       "    .dataframe tbody tr th {\n",
       "        vertical-align: top;\n",
       "    }\n",
       "\n",
       "    .dataframe thead th {\n",
       "        text-align: right;\n",
       "    }\n",
       "</style>\n",
       "<table border=\"1\" class=\"dataframe\">\n",
       "  <thead>\n",
       "    <tr style=\"text-align: right;\">\n",
       "      <th></th>\n",
       "      <th>artist</th>\n",
       "      <th>verse</th>\n",
       "      <th>clean_text</th>\n",
       "    </tr>\n",
       "  </thead>\n",
       "  <tbody>\n",
       "    <tr>\n",
       "      <th>0</th>\n",
       "      <td>Drake</td>\n",
       "      <td>Ayy, woah Ayy, ayy Yeah</td>\n",
       "      <td>ayy woah ayy ayy yeah</td>\n",
       "    </tr>\n",
       "    <tr>\n",
       "      <th>1</th>\n",
       "      <td>Drake</td>\n",
       "      <td>I'm makin' a change today The liquor been takin' the pain away I heard you was givin' your chain away That's kinda like givin' your fame away What's wrong with you? I sit in a box where the owners do A boss is a role that I've grown into I love you to death but I told you the truth</td>\n",
       "      <td>im makin a change today the liquor been takin the pain away i heard you was givin your chain away thats kinda like givin your fame away whats wrong with you i sit in a box where the owners do a boss is a role that ive grown into i love you to death but i told you the truth</td>\n",
       "    </tr>\n",
       "  </tbody>\n",
       "</table>\n",
       "</div>"
      ],
      "text/plain": [
       "  artist  \\\n",
       "0  Drake   \n",
       "1  Drake   \n",
       "\n",
       "                                                                                                                                                                                                                                                                                        verse  \\\n",
       "0                                                                                                                                                                                                                                                                     Ayy, woah Ayy, ayy Yeah   \n",
       "1  I'm makin' a change today The liquor been takin' the pain away I heard you was givin' your chain away That's kinda like givin' your fame away What's wrong with you? I sit in a box where the owners do A boss is a role that I've grown into I love you to death but I told you the truth   \n",
       "\n",
       "                                                                                                                                                                                                                                                                          clean_text  \n",
       "0                                                                                                                                                                                                                                                              ayy woah ayy ayy yeah  \n",
       "1  im makin a change today the liquor been takin the pain away i heard you was givin your chain away thats kinda like givin your fame away whats wrong with you i sit in a box where the owners do a boss is a role that ive grown into i love you to death but i told you the truth  "
      ]
     },
     "execution_count": 14,
     "metadata": {},
     "output_type": "execute_result"
    }
   ],
   "source": [
    "#then lowercase it\n",
    "\n",
    "def lower_case(text):\n",
    "        text = text.lower()\n",
    "        return text\n",
    "        \n",
    "data['clean_text'] = data['clean_text'].apply(lower_case)\n",
    "data.head(2)"
   ]
  },
  {
   "cell_type": "code",
   "execution_count": 15,
   "metadata": {},
   "outputs": [
    {
     "data": {
      "text/html": [
       "<div>\n",
       "<style scoped>\n",
       "    .dataframe tbody tr th:only-of-type {\n",
       "        vertical-align: middle;\n",
       "    }\n",
       "\n",
       "    .dataframe tbody tr th {\n",
       "        vertical-align: top;\n",
       "    }\n",
       "\n",
       "    .dataframe thead th {\n",
       "        text-align: right;\n",
       "    }\n",
       "</style>\n",
       "<table border=\"1\" class=\"dataframe\">\n",
       "  <thead>\n",
       "    <tr style=\"text-align: right;\">\n",
       "      <th></th>\n",
       "      <th>artist</th>\n",
       "      <th>verse</th>\n",
       "      <th>clean_text</th>\n",
       "    </tr>\n",
       "  </thead>\n",
       "  <tbody>\n",
       "    <tr>\n",
       "      <th>0</th>\n",
       "      <td>Drake</td>\n",
       "      <td>Ayy, woah Ayy, ayy Yeah</td>\n",
       "      <td>ayy woah ayy ayy yeah</td>\n",
       "    </tr>\n",
       "    <tr>\n",
       "      <th>1</th>\n",
       "      <td>Drake</td>\n",
       "      <td>I'm makin' a change today The liquor been takin' the pain away I heard you was givin' your chain away That's kinda like givin' your fame away What's wrong with you? I sit in a box where the owners do A boss is a role that I've grown into I love you to death but I told you the truth</td>\n",
       "      <td>im makin a change today the liquor been takin the pain away i heard you was givin your chain away thats kinda like givin your fame away whats wrong with you i sit in a box where the owners do a boss is a role that ive grown into i love you to death but i told you the truth</td>\n",
       "    </tr>\n",
       "  </tbody>\n",
       "</table>\n",
       "</div>"
      ],
      "text/plain": [
       "  artist  \\\n",
       "0  Drake   \n",
       "1  Drake   \n",
       "\n",
       "                                                                                                                                                                                                                                                                                        verse  \\\n",
       "0                                                                                                                                                                                                                                                                     Ayy, woah Ayy, ayy Yeah   \n",
       "1  I'm makin' a change today The liquor been takin' the pain away I heard you was givin' your chain away That's kinda like givin' your fame away What's wrong with you? I sit in a box where the owners do A boss is a role that I've grown into I love you to death but I told you the truth   \n",
       "\n",
       "                                                                                                                                                                                                                                                                          clean_text  \n",
       "0                                                                                                                                                                                                                                                              ayy woah ayy ayy yeah  \n",
       "1  im makin a change today the liquor been takin the pain away i heard you was givin your chain away thats kinda like givin your fame away whats wrong with you i sit in a box where the owners do a boss is a role that ive grown into i love you to death but i told you the truth  "
      ]
     },
     "execution_count": 15,
     "metadata": {},
     "output_type": "execute_result"
    }
   ],
   "source": [
    "#and remove potential numbers\n",
    "\n",
    "def numbers(text):\n",
    "    return ''.join(word for word in text if not word.isdigit())\n",
    "    \n",
    "\n",
    "data['clean_text'] = data['clean_text'].apply(numbers)\n",
    "data.head(2)"
   ]
  },
  {
   "cell_type": "code",
   "execution_count": 16,
   "metadata": {},
   "outputs": [],
   "source": [
    "from nltk.corpus import stopwords"
   ]
  },
  {
   "cell_type": "code",
   "execution_count": 17,
   "metadata": {},
   "outputs": [],
   "source": [
    "# and stop words\n",
    "from nltk.tokenize import word_tokenize\n",
    "from nltk.tokenize import sent_tokenize\n",
    "import nltk"
   ]
  },
  {
   "cell_type": "code",
   "execution_count": 18,
   "metadata": {},
   "outputs": [
    {
     "name": "stderr",
     "output_type": "stream",
     "text": [
      "[nltk_data] Downloading package stopwords to\n",
      "[nltk_data]     C:\\Users\\mvalyashova\\AppData\\Roaming\\nltk_data...\n",
      "[nltk_data]   Package stopwords is already up-to-date!\n"
     ]
    },
    {
     "data": {
      "text/plain": [
       "True"
      ]
     },
     "execution_count": 18,
     "metadata": {},
     "output_type": "execute_result"
    }
   ],
   "source": [
    "nltk.download('stopwords')"
   ]
  },
  {
   "cell_type": "code",
   "execution_count": 19,
   "metadata": {},
   "outputs": [
    {
     "name": "stderr",
     "output_type": "stream",
     "text": [
      "[nltk_data] Downloading package punkt to\n",
      "[nltk_data]     C:\\Users\\mvalyashova\\AppData\\Roaming\\nltk_data...\n",
      "[nltk_data]   Package punkt is already up-to-date!\n"
     ]
    },
    {
     "data": {
      "text/plain": [
       "True"
      ]
     },
     "execution_count": 19,
     "metadata": {},
     "output_type": "execute_result"
    }
   ],
   "source": [
    "nltk.download('punkt')"
   ]
  },
  {
   "cell_type": "code",
   "execution_count": 20,
   "metadata": {},
   "outputs": [],
   "source": [
    "stop_word = set(stopwords.words('english')) \n",
    "\n",
    "def stop_words(text):\n",
    "    word_tokens = word_tokenize(text)\n",
    "    text = [w for w in word_tokens if not w in stop_word]\n",
    "    return text\n",
    "\n",
    "data['clean_text'] = data['clean_text'].apply(stop_words)"
   ]
  },
  {
   "cell_type": "code",
   "execution_count": 21,
   "metadata": {},
   "outputs": [
    {
     "data": {
      "text/html": [
       "<div>\n",
       "<style scoped>\n",
       "    .dataframe tbody tr th:only-of-type {\n",
       "        vertical-align: middle;\n",
       "    }\n",
       "\n",
       "    .dataframe tbody tr th {\n",
       "        vertical-align: top;\n",
       "    }\n",
       "\n",
       "    .dataframe thead th {\n",
       "        text-align: right;\n",
       "    }\n",
       "</style>\n",
       "<table border=\"1\" class=\"dataframe\">\n",
       "  <thead>\n",
       "    <tr style=\"text-align: right;\">\n",
       "      <th></th>\n",
       "      <th>artist</th>\n",
       "      <th>verse</th>\n",
       "      <th>clean_text</th>\n",
       "    </tr>\n",
       "  </thead>\n",
       "  <tbody>\n",
       "    <tr>\n",
       "      <th>0</th>\n",
       "      <td>Drake</td>\n",
       "      <td>Ayy, woah Ayy, ayy Yeah</td>\n",
       "      <td>[ayy, woah, ayy, ayy, yeah]</td>\n",
       "    </tr>\n",
       "    <tr>\n",
       "      <th>1</th>\n",
       "      <td>Drake</td>\n",
       "      <td>I'm makin' a change today The liquor been takin' the pain away I heard you was givin' your chain away That's kinda like givin' your fame away What's wrong with you? I sit in a box where the owners do A boss is a role that I've grown into I love you to death but I told you the truth</td>\n",
       "      <td>[im, makin, change, today, liquor, takin, pain, away, heard, givin, chain, away, thats, kinda, like, givin, fame, away, whats, wrong, sit, box, owners, boss, role, ive, grown, love, death, told, truth]</td>\n",
       "    </tr>\n",
       "  </tbody>\n",
       "</table>\n",
       "</div>"
      ],
      "text/plain": [
       "  artist  \\\n",
       "0  Drake   \n",
       "1  Drake   \n",
       "\n",
       "                                                                                                                                                                                                                                                                                        verse  \\\n",
       "0                                                                                                                                                                                                                                                                     Ayy, woah Ayy, ayy Yeah   \n",
       "1  I'm makin' a change today The liquor been takin' the pain away I heard you was givin' your chain away That's kinda like givin' your fame away What's wrong with you? I sit in a box where the owners do A boss is a role that I've grown into I love you to death but I told you the truth   \n",
       "\n",
       "                                                                                                                                                                                                  clean_text  \n",
       "0                                                                                                                                                                                [ayy, woah, ayy, ayy, yeah]  \n",
       "1  [im, makin, change, today, liquor, takin, pain, away, heard, givin, chain, away, thats, kinda, like, givin, fame, away, whats, wrong, sit, box, owners, boss, role, ive, grown, love, death, told, truth]  "
      ]
     },
     "execution_count": 21,
     "metadata": {},
     "output_type": "execute_result"
    }
   ],
   "source": [
    "data.head(2)"
   ]
  },
  {
   "cell_type": "code",
   "execution_count": 22,
   "metadata": {},
   "outputs": [],
   "source": [
    "#another method\n",
    "#X = data.verse\n",
    "#import re\n",
    "#removing accents: X_clean=X.apply(lambda x: unidecode(x))\n",
    "\n",
    "#lowering text: X_clean=X_clean.apply(lambda x: x.lower())\n",
    "#regex = re.compile('[^a-z]')\n",
    "\n",
    "#data['verse']=X_clean.apply(lambda x : regex.sub(' ', x))"
   ]
  },
  {
   "cell_type": "code",
   "execution_count": 23,
   "metadata": {
    "ExecuteTime": {
     "end_time": "2021-06-25T17:22:16.861084Z",
     "start_time": "2021-06-25T17:22:16.854026Z"
    }
   },
   "outputs": [],
   "source": [
    "from nbresult import ChallengeResult\n",
    "result = ChallengeResult(\n",
    "    'data_loading',\n",
    "    shape=data.shape,\n",
    "    verses=data.verse[:50]\n",
    ")\n",
    "\n",
    "result.write()"
   ]
  },
  {
   "cell_type": "markdown",
   "metadata": {},
   "source": [
    "## 2. Data Analysis"
   ]
  },
  {
   "cell_type": "markdown",
   "metadata": {},
   "source": [
    "👉 **check the number of unique artist and the number of verses per artist**"
   ]
  },
  {
   "cell_type": "code",
   "execution_count": 24,
   "metadata": {
    "ExecuteTime": {
     "end_time": "2021-06-25T17:22:19.182432Z",
     "start_time": "2021-06-25T17:22:19.175936Z"
    }
   },
   "outputs": [
    {
     "data": {
      "text/plain": [
       "Drake         1394\n",
       "Ed Sheeran     867\n",
       "Kanye West     778\n",
       "Name: artist, dtype: int64"
      ]
     },
     "execution_count": 24,
     "metadata": {},
     "output_type": "execute_result"
    }
   ],
   "source": [
    "data.artist.value_counts()"
   ]
  },
  {
   "cell_type": "markdown",
   "metadata": {},
   "source": [
    "👉 **For each artist, let's have a look at the top-10 most used words to see if they look similar?**\n",
    "\n",
    "I'll use Tensorflow's [`Tokenizer`](https://www.tensorflow.org/api_docs/python/tf/keras/preprocessing/text/Tokenizer)'s index_word"
   ]
  },
  {
   "cell_type": "code",
   "execution_count": 27,
   "metadata": {},
   "outputs": [],
   "source": [
    "drake = data[data.artist =='Drake'].clean_text\n",
    "ed = data[data.artist =='Ed Sheeran'].clean_text\n",
    "kanye = data[data.artist =='Kanye West'].clean_text"
   ]
  },
  {
   "cell_type": "code",
   "execution_count": 28,
   "metadata": {
    "ExecuteTime": {
     "end_time": "2021-06-25T17:22:19.438880Z",
     "start_time": "2021-06-25T17:22:19.193277Z"
    }
   },
   "outputs": [],
   "source": [
    "tokenizer_drake = tf.keras.preprocessing.text.Tokenizer()\n",
    "tokenizer_ed = tf.keras.preprocessing.text.Tokenizer()\n",
    "tokenizer_kanye = tf.keras.preprocessing.text.Tokenizer()\n",
    "\n",
    "tokenizer_drake.fit_on_texts(drake)\n",
    "tokenizer_ed.fit_on_texts(ed)\n",
    "tokenizer_kanye.fit_on_texts(kanye)"
   ]
  },
  {
   "cell_type": "code",
   "execution_count": 29,
   "metadata": {
    "ExecuteTime": {
     "end_time": "2021-06-25T17:22:19.457776Z",
     "start_time": "2021-06-25T17:22:19.441016Z"
    }
   },
   "outputs": [
    {
     "data": {
      "text/html": [
       "<div>\n",
       "<style scoped>\n",
       "    .dataframe tbody tr th:only-of-type {\n",
       "        vertical-align: middle;\n",
       "    }\n",
       "\n",
       "    .dataframe tbody tr th {\n",
       "        vertical-align: top;\n",
       "    }\n",
       "\n",
       "    .dataframe thead th {\n",
       "        text-align: right;\n",
       "    }\n",
       "</style>\n",
       "<table border=\"1\" class=\"dataframe\">\n",
       "  <thead>\n",
       "    <tr style=\"text-align: right;\">\n",
       "      <th></th>\n",
       "      <th>Drake</th>\n",
       "      <th>Ed Sheeran</th>\n",
       "      <th>Kanye West</th>\n",
       "    </tr>\n",
       "  </thead>\n",
       "  <tbody>\n",
       "    <tr>\n",
       "      <th>1</th>\n",
       "      <td>im</td>\n",
       "      <td>im</td>\n",
       "      <td>im</td>\n",
       "    </tr>\n",
       "    <tr>\n",
       "      <th>2</th>\n",
       "      <td>like</td>\n",
       "      <td>need</td>\n",
       "      <td>like</td>\n",
       "    </tr>\n",
       "    <tr>\n",
       "      <th>3</th>\n",
       "      <td>know</td>\n",
       "      <td>love</td>\n",
       "      <td>know</td>\n",
       "    </tr>\n",
       "    <tr>\n",
       "      <th>4</th>\n",
       "      <td>got</td>\n",
       "      <td>’</td>\n",
       "      <td>get</td>\n",
       "    </tr>\n",
       "    <tr>\n",
       "      <th>5</th>\n",
       "      <td>yeah</td>\n",
       "      <td>dont</td>\n",
       "      <td>got</td>\n",
       "    </tr>\n",
       "    <tr>\n",
       "      <th>6</th>\n",
       "      <td>dont</td>\n",
       "      <td>like</td>\n",
       "      <td>dont</td>\n",
       "    </tr>\n",
       "    <tr>\n",
       "      <th>7</th>\n",
       "      <td>get</td>\n",
       "      <td>know</td>\n",
       "      <td>oh</td>\n",
       "    </tr>\n",
       "    <tr>\n",
       "      <th>8</th>\n",
       "      <td>shit</td>\n",
       "      <td>ill</td>\n",
       "      <td>aint</td>\n",
       "    </tr>\n",
       "    <tr>\n",
       "      <th>9</th>\n",
       "      <td>’</td>\n",
       "      <td>man</td>\n",
       "      <td>yeah</td>\n",
       "    </tr>\n",
       "    <tr>\n",
       "      <th>10</th>\n",
       "      <td>go</td>\n",
       "      <td>oh</td>\n",
       "      <td>cant</td>\n",
       "    </tr>\n",
       "  </tbody>\n",
       "</table>\n",
       "</div>"
      ],
      "text/plain": [
       "   Drake Ed Sheeran Kanye West\n",
       "1     im         im         im\n",
       "2   like       need       like\n",
       "3   know       love       know\n",
       "4    got          ’        get\n",
       "5   yeah       dont        got\n",
       "6   dont       like       dont\n",
       "7    get       know         oh\n",
       "8   shit        ill       aint\n",
       "9      ’        man       yeah\n",
       "10    go         oh       cant"
      ]
     },
     "execution_count": 29,
     "metadata": {},
     "output_type": "execute_result"
    }
   ],
   "source": [
    "pd.DataFrame(data={\n",
    "    \"Drake\": pd.Series(tokenizer_drake.index_word)[:10],\n",
    "    \"Ed Sheeran\": pd.Series(tokenizer_ed.index_word)[:10],\n",
    "    \"Kanye West\": pd.Series(tokenizer_kanye.index_word)[:10],\n",
    "})"
   ]
  },
  {
   "cell_type": "markdown",
   "metadata": {},
   "source": [
    "👉 **Let's quantify how much vocabulary do they have in common**\n",
    "\n",
    "- An artist **vocabulary** is the **set** of all unique used words\n",
    "- I compute the `ratio` of (i) the length of vocabulary they **share**, over (ii) the length of the **total** vocabulary of the dataset"
   ]
  },
  {
   "cell_type": "code",
   "execution_count": 30,
   "metadata": {
    "ExecuteTime": {
     "end_time": "2021-06-25T17:22:19.465228Z",
     "start_time": "2021-06-25T17:22:19.460132Z"
    }
   },
   "outputs": [],
   "source": [
    "drake_vocabulary = set(tokenizer_drake.index_word.values())\n",
    "ed_vocabulary = set(tokenizer_ed.index_word.values())\n",
    "kanye_vocabulary = set(tokenizer_kanye.index_word.values())"
   ]
  },
  {
   "cell_type": "code",
   "execution_count": 31,
   "metadata": {
    "ExecuteTime": {
     "end_time": "2021-06-25T17:22:19.474902Z",
     "start_time": "2021-06-25T17:22:19.467454Z"
    }
   },
   "outputs": [
    {
     "name": "stdout",
     "output_type": "stream",
     "text": [
      "13.95% of the artists' vocabulary is common\n"
     ]
    }
   ],
   "source": [
    "common_vocabulary = drake_vocabulary.intersection(ed_vocabulary).intersection(kanye_vocabulary)\n",
    "global_vocabulary = drake_vocabulary.union(ed_vocabulary).union(kanye_vocabulary)\n",
    "\n",
    "ratio = len(common_vocabulary)/len(global_vocabulary)\n",
    "print(f\"{ratio*100:.2f}% of the artists' vocabulary is common\")"
   ]
  },
  {
   "cell_type": "markdown",
   "metadata": {},
   "source": [
    "## 3. Data Preprocessing"
   ]
  },
  {
   "cell_type": "markdown",
   "metadata": {},
   "source": [
    "### 3.1 Word Embedding\n",
    "Perform embedding of sentences into numbers by[`gensim.models.Word2Vec`](https://radimrehurek.com/gensim/models/word2vec.html#gensim.models.word2vec.Word2Vec) to embed each word of the sentence and concatenate the embeddings of the words forming the sentence."
   ]
  },
  {
   "cell_type": "markdown",
   "metadata": {},
   "source": [
    "❓ **Transform the list of strings (verses) into a list of word sequences (a word sequence is a list of words contained in a string)**"
   ]
  },
  {
   "cell_type": "code",
   "execution_count": 32,
   "metadata": {
    "ExecuteTime": {
     "end_time": "2021-06-25T17:22:19.569442Z",
     "start_time": "2021-06-25T17:22:19.478291Z"
    },
    "tags": [
     "challengify"
    ]
   },
   "outputs": [],
   "source": [
    "from tensorflow.keras.preprocessing.text import text_to_word_sequence"
   ]
  },
  {
   "cell_type": "code",
   "execution_count": 33,
   "metadata": {},
   "outputs": [
    {
     "data": {
      "text/html": [
       "<div>\n",
       "<style scoped>\n",
       "    .dataframe tbody tr th:only-of-type {\n",
       "        vertical-align: middle;\n",
       "    }\n",
       "\n",
       "    .dataframe tbody tr th {\n",
       "        vertical-align: top;\n",
       "    }\n",
       "\n",
       "    .dataframe thead th {\n",
       "        text-align: right;\n",
       "    }\n",
       "</style>\n",
       "<table border=\"1\" class=\"dataframe\">\n",
       "  <thead>\n",
       "    <tr style=\"text-align: right;\">\n",
       "      <th></th>\n",
       "      <th>artist</th>\n",
       "      <th>verse</th>\n",
       "      <th>seq</th>\n",
       "    </tr>\n",
       "  </thead>\n",
       "  <tbody>\n",
       "    <tr>\n",
       "      <th>0</th>\n",
       "      <td>Drake</td>\n",
       "      <td>Ayy, woah Ayy, ayy Yeah</td>\n",
       "      <td>[ayy, woah, ayy, ayy, yeah]</td>\n",
       "    </tr>\n",
       "    <tr>\n",
       "      <th>1</th>\n",
       "      <td>Drake</td>\n",
       "      <td>I'm makin' a change today The liquor been takin' the pain away I heard you was givin' your chain away That's kinda like givin' your fame away What's wrong with you? I sit in a box where the owners do A boss is a role that I've grown into I love you to death but I told you the truth</td>\n",
       "      <td>[im, makin, change, today, liquor, takin, pain, away, heard, givin, chain, away, thats, kinda, like, givin, fame, away, whats, wrong, sit, box, owners, boss, role, ive, grown, love, death, told, truth]</td>\n",
       "    </tr>\n",
       "    <tr>\n",
       "      <th>2</th>\n",
       "      <td>Drake</td>\n",
       "      <td>I can't just be with you and only you Yeah, I got one, Virgil got one and that there is the only two Man, how many times have I shown improvement? How many nights I been (Woah) Swervin' them potholes Not tryna fuck up the wheels on the road, okay Funny how life goes He thought he was sick, now h...</td>\n",
       "      <td>[cant, yeah, got, one, virgil, got, one, two, man, many, times, shown, improvement, many, nights, woah, swervin, potholes, tryna, fuck, wheels, road, okay, funny, life, goes, thought, sick, wipin, nose, okay, soon, give, em, soul, blow, say, youre, sеlling, soul, okay, want, life, exposеd, wan, ...</td>\n",
       "    </tr>\n",
       "    <tr>\n",
       "      <th>3</th>\n",
       "      <td>Drake</td>\n",
       "      <td>Well, summer, all I did was rest, okay? And New Year's, all I did was stretch, okay? And Valentine's Day, I had sex, okay? We'll see what's 'bout to happen next Okay? Okay? Okay? We'll see what's 'bout to happen next Okay? Okay? Okay? We'll see what's 'bout to happen, ayy, ayy We'll see what's '...</td>\n",
       "      <td>[well, summer, rest, okay, new, years, stretch, okay, valentines, day, sex, okay, well, see, whats, bout, happen, next, okay, okay, okay, well, see, whats, bout, happen, next, okay, okay, okay, well, see, whats, bout, happen, ayy, ayy, well, see, whats, bout, happen, ayy, well, see, whats, bout,...</td>\n",
       "    </tr>\n",
       "    <tr>\n",
       "      <th>4</th>\n",
       "      <td>Drake</td>\n",
       "      <td>I'm makin' a change today The liquor been takin' the pain away I heard you was givin' your chain away That's kinda like givin' your fame away What's wrong with you? I sit in a box where the owners do A boss is a role that I've grown into I love you to death but I told you the truth I–</td>\n",
       "      <td>[im, makin, change, today, liquor, takin, pain, away, heard, givin, chain, away, thats, kinda, like, givin, fame, away, whats, wrong, sit, box, owners, boss, role, ive, grown, love, death, told, truth, i–]</td>\n",
       "    </tr>\n",
       "    <tr>\n",
       "      <th>5</th>\n",
       "      <td>Drake</td>\n",
       "      <td>Ayy, yeah I got one, Laurie got one and that there is the only two Man, how many times have I told you the truth? Man, how many nights I been (Woah) Swervin' them potholes Not tryna fuck up the wheels or fuck up the deals I'm posted in Stockholm It's me, the owls and the twins, it's only the rea...</td>\n",
       "      <td>[ayy, yeah, got, one, laurie, got, one, two, man, many, times, told, truth, man, many, nights, woah, swervin, potholes, tryna, fuck, wheels, fuck, deals, im, posted, stockholm, owls, twins, real, im, movin, way, humble, weezy, handed, still, got, fumbles, im, hot, one, hundo, numero, uno, one, a...</td>\n",
       "    </tr>\n",
       "    <tr>\n",
       "      <th>8</th>\n",
       "      <td>Drake</td>\n",
       "      <td>(Six) Yeah Yeah Yeah</td>\n",
       "      <td>[six, yeah, yeah, yeah]</td>\n",
       "    </tr>\n",
       "    <tr>\n",
       "      <th>9</th>\n",
       "      <td>Drake</td>\n",
       "      <td>Leave me out the comments, leave me out the nonsense Speakin' out of context, people need some content Niggas tryna keep up, shit is not a contest Whippin' Benz concept Heaven-sent, God-sent Least that's what my mom says Proof is in the progress, money's not a object Busy than a motherfucker, yo...</td>\n",
       "      <td>[leave, comments, leave, nonsense, speakin, context, people, need, content, niggas, tryna, keep, shit, contest, whippin, benz, concept, heavensent, godsent, least, thats, mom, says, proof, progress, moneys, object, busy, motherfucker, know, job, get, barkin, wrong, tree, know, dogs, get, havent,...</td>\n",
       "    </tr>\n",
       "    <tr>\n",
       "      <th>10</th>\n",
       "      <td>Drake</td>\n",
       "      <td>Sins, I got sins on my mind And some M's, got a lot of M's on my mind And my friends, yeah, I keep my friends on my mind I'm in love, I'm in love with two girls at one time And they tens, that's why I got ten on my mind I got M's, got a lot of M's on my mind And my friends, yeah, I keep my frien...</td>\n",
       "      <td>[sins, got, sins, mind, ms, got, lot, ms, mind, friends, yeah, keep, friends, mind, im, love, im, love, two, girls, one, time, tens, thats, got, ten, mind, got, ms, got, lot, ms, mind, friends, yeah, keep, friends, mind, repent, need, jesus, life, amen]</td>\n",
       "    </tr>\n",
       "    <tr>\n",
       "      <th>11</th>\n",
       "      <td>Drake</td>\n",
       "      <td>I'm from the four, but I love me a threesome DM her, delete it, she my lil' secret He tryna diss me to blow up, I peep it I can't respond, we just go at your people If I left some racks on the bed, you can keep it This shit gettin' deeper and deeper, I dig it My shovel wasn't bent, I was broke, ...</td>\n",
       "      <td>[im, four, love, threesome, dm, delete, lil, secret, tryna, diss, blow, peep, cant, respond, go, people, left, racks, bed, keep, shit, gettin, deeper, deeper, dig, shovel, wasnt, bent, broke, fix, shark, water, swim, lil, fishes, hit, today, tomorrow, miss, grab, neck, look, kiss, im, goat, fit,...</td>\n",
       "    </tr>\n",
       "    <tr>\n",
       "      <th>13</th>\n",
       "      <td>Drake</td>\n",
       "      <td>Tryin', tryin', tryin', tryin' I pray these niggas understand how passionate the tale is To get you under my pressure Richer I been tryin', tryin', tryin', tryin' To get you under my pressure Yes, uh Biggest, you feel me? (M-M-M-Maybach Music)</td>\n",
       "      <td>[tryin, tryin, tryin, tryin, pray, niggas, understand, passionate, tale, get, pressure, richer, tryin, tryin, tryin, tryin, get, pressure, yes, uh, biggest, feel, mmmmaybach, music]</td>\n",
       "    </tr>\n",
       "    <tr>\n",
       "      <th>14</th>\n",
       "      <td>Drake</td>\n",
       "      <td>Godfather with a garden full of snakes Call Porsche, time to give away a Wraith Bricks boy, tryna turn 'em into bass Big boy, I been tryin' buy the Braves Courtroom soundin' like I'm in the opera Went and got it, now these niggas wanna knock us Bitches fallin' 'cause they need a couple dollars B...</td>\n",
       "      <td>[godfather, garden, full, snakes, call, porsche, time, give, away, wraith, bricks, boy, tryna, turn, em, bass, big, boy, tryin, buy, braves, courtroom, soundin, like, im, opera, went, got, niggas, wan, na, knock, us, bitches, fallin, cause, need, couple, dollars, aint, problem, cause, nigga, rea...</td>\n",
       "    </tr>\n",
       "    <tr>\n",
       "      <th>15</th>\n",
       "      <td>Drake</td>\n",
       "      <td>I been tryin', tryin', tryin', tryin' To get you under my pressure I been tryin', tryin', tryin', tryin' To get you under my pressure Tryin', tryin', tryin', tryin'</td>\n",
       "      <td>[tryin, tryin, tryin, tryin, get, pressure, tryin, tryin, tryin, tryin, get, pressure, tryin, tryin, tryin, tryin]</td>\n",
       "    </tr>\n",
       "    <tr>\n",
       "      <th>16</th>\n",
       "      <td>Drake</td>\n",
       "      <td>Yeah, heart just turned purple Three-sixty up front, it all comes full circle Class photographs, Sandy had me on my Urkel (I been tryin', tryin', tryin', tryin') Patty Mahomes, 'bout to fall short a couple hunnid Signed, sealed, delivered, I fucked the notary public She witnessed me sign off on ...</td>\n",
       "      <td>[yeah, heart, turned, purple, threesixty, front, comes, full, circle, class, photographs, sandy, urkel, tryin, tryin, tryin, tryin, patty, mahomes, bout, fall, short, couple, hunnid, signed, sealed, delivered, fucked, notary, public, witnessed, sign, undeniable, numbers, tryin, tryin, tryin, try...</td>\n",
       "    </tr>\n",
       "    <tr>\n",
       "      <th>17</th>\n",
       "      <td>Drake</td>\n",
       "      <td>I been tryin', tryin', tryin', tryin' To get you under my pressure I been tryin', tryin', tryin', tryin' To get you under my pressure</td>\n",
       "      <td>[tryin, tryin, tryin, tryin, get, pressure, tryin, tryin, tryin, tryin, get, pressure]</td>\n",
       "    </tr>\n",
       "    <tr>\n",
       "      <th>18</th>\n",
       "      <td>Drake</td>\n",
       "      <td>Ayy, yeah Pipe this shit up and I turn this shit up When I was down, I was down Now them diamonds for fun like damn Ayy, yeah</td>\n",
       "      <td>[ayy, yeah, pipe, shit, turn, shit, diamonds, fun, like, damn, ayy, yeah]</td>\n",
       "    </tr>\n",
       "    <tr>\n",
       "      <th>19</th>\n",
       "      <td>Drake</td>\n",
       "      <td>Trendsetter, Ben Frank getter (Yeah) Whip whatever, whip whatever I buy diamonds when I'm under pressure (Yeah) When I apply it, shit don’t ever let up, yeah Look, I'm in the cut, The Boy in the cut Jump in the whip where the ceilings go up, we up All of this grindin' for what? It’s funny when y...</td>\n",
       "      <td>[trendsetter, ben, frank, getter, yeah, whip, whatever, whip, whatever, buy, diamonds, im, pressure, yeah, apply, shit, ’, ever, let, yeah, look, im, cut, boy, cut, jump, whip, ceilings, go, grindin, ’, funny, niggas, thought, luck, give, pass, play, money, family, friends, compete, niggas, comp...</td>\n",
       "    </tr>\n",
       "    <tr>\n",
       "      <th>20</th>\n",
       "      <td>Drake</td>\n",
       "      <td>Still in the cut, The Boy in the cut Hop in the whip where the ceilings go up, we up</td>\n",
       "      <td>[still, cut, boy, cut, hop, whip, ceilings, go]</td>\n",
       "    </tr>\n",
       "    <tr>\n",
       "      <th>21</th>\n",
       "      <td>Drake</td>\n",
       "      <td>And I'm way up at the top of the loft Gotta stay up, ain't no knockin' me off Pull up smooth, A.I. with the cross (Haha) Countin' up wins on wins on wins, for all of my dawgs I lost I might call Pharrell, get the new Chanel Thugger got the YSL, huh I remember when the Feds did the sweep, I pray ...</td>\n",
       "      <td>[im, way, top, loft, got, ta, stay, aint, knockin, pull, smooth, ai, cross, haha, countin, wins, wins, wins, dawgs, lost, might, call, pharrell, get, new, chanel, thugger, got, ysl, huh, remember, feds, sweep, pray, dawgs, didnt, tell, huh, cruisin, ’, biscayne, miami, gave, top, top, cartier, w...</td>\n",
       "    </tr>\n",
       "    <tr>\n",
       "      <th>22</th>\n",
       "      <td>Drake</td>\n",
       "      <td>Still in the cut, The Boy in the cut, yeah Hop in the whip where the ceilings go up, we up</td>\n",
       "      <td>[still, cut, boy, cut, yeah, hop, whip, ceilings, go]</td>\n",
       "    </tr>\n",
       "    <tr>\n",
       "      <th>23</th>\n",
       "      <td>Drake</td>\n",
       "      <td>Ayy (Now you know how) Now I gotta tell you how lucky I am (Oh, now you know) This shit could have went a hundred different ways on a thousand different days for real Yeah, whoop, ayy</td>\n",
       "      <td>[ayy, know, got, ta, tell, lucky, oh, know, shit, could, went, hundred, different, ways, thousand, different, days, real, yeah, whoop, ayy]</td>\n",
       "    </tr>\n",
       "    <tr>\n",
       "      <th>24</th>\n",
       "      <td>Drake</td>\n",
       "      <td>On my way to the boat like I ain't just have on a coat when I landed Owl branded Perched at the edge of the branches They don't wanna talk mansions, mine look like a campus And I'm all about my brothers like the niggas I'm samplin' I'll leave you red-shirted like the twins from Kansas Really liv...</td>\n",
       "      <td>[way, boat, like, aint, coat, landed, owl, branded, perched, edge, branches, dont, wan, na, talk, mansions, mine, look, like, campus, im, brothers, like, niggas, im, samplin, ill, leave, redshirted, like, twins, kansas, really, livin, dreams, used, aunts, crib, might, throw, rockefeller, chain, ...</td>\n",
       "    </tr>\n",
       "    <tr>\n",
       "      <th>25</th>\n",
       "      <td>Drake</td>\n",
       "      <td>Woah, woah Yeah</td>\n",
       "      <td>[woah, woah, yeah]</td>\n",
       "    </tr>\n",
       "    <tr>\n",
       "      <th>26</th>\n",
       "      <td>Drake</td>\n",
       "      <td>Sometimes we laugh and sometimes we cry, but I guess you know now, baby I took a half and she took the whole thing, slow down, baby We took a trip, now we on your block and it's like a ghost town, baby Where do these niggas be at when they say they doin' all this and all that?</td>\n",
       "      <td>[sometimes, laugh, sometimes, cry, guess, know, baby, took, half, took, whole, thing, slow, baby, took, trip, block, like, ghost, town, baby, niggas, say, doin]</td>\n",
       "    </tr>\n",
       "    <tr>\n",
       "      <th>27</th>\n",
       "      <td>Drake</td>\n",
       "      <td>Tired of beefin' you bums, you can't even pay me enough to react Been wakin' up in the crib and sometimes I don't even know where I'm at Please don't play that nigga songs in this party, I can't even listen to that Anytime that I ran into somebody, it must be a victory lap, ayy Shawty, come sit ...</td>\n",
       "      <td>[tired, beefin, bums, cant, even, pay, enough, react, wakin, crib, sometimes, dont, even, know, im, please, dont, play, nigga, songs, party, cant, even, listen, anytime, ran, somebody, must, victory, lap, ayy, shawty, come, sit, lap, ayy, sayin, drizzy, snap, distance, us, like, store, isnt, clo...</td>\n",
       "    </tr>\n",
       "    <tr>\n",
       "      <th>28</th>\n",
       "      <td>Drake</td>\n",
       "      <td>I know that they at the crib goin' crazy, down bad What they had didn't last, damn, baby</td>\n",
       "      <td>[know, crib, goin, crazy, bad, didnt, last, damn, baby]</td>\n",
       "    </tr>\n",
       "    <tr>\n",
       "      <th>30</th>\n",
       "      <td>Drake</td>\n",
       "      <td>I'm in the trenches, relax Can you not play that lil' boy in the club? 'Cause we do not listen to rats We in Atlanta, I buy her a wig, she tellin' me Tae is the best Point at the nigga who act like a killer, but you only one from the 'net I'm like DaBaby, I'm not just a rapper, you play with me,...</td>\n",
       "      <td>[im, trenches, relax, play, lil, boy, club, cause, listen, rats, atlanta, buy, wig, tellin, tae, best, point, nigga, act, like, killer, one, net, im, like, dababy, im, rapper, play, gon, get, stretched, oohoh, bring, drake, hood, surround, drake, around, dracs, even, though, got, case, ima, take...</td>\n",
       "    </tr>\n",
       "    <tr>\n",
       "      <th>33</th>\n",
       "      <td>Drake</td>\n",
       "      <td>When he tell the story, that's not how it went Know they be lyin', a hundred percent Moved out the Ritz and forgot 'bout the Bent' Valet just called me to tell me come get it Knocked that boy off and I don't want no credit If it was me, they wouldn't regret it Left me for dead and now they wan' ...</td>\n",
       "      <td>[tell, story, thats, went, know, lyin, hundred, percent, moved, ritz, forgot, bout, bent, valet, called, tell, come, get, knocked, boy, dont, want, credit, wouldnt, regret, left, dead, wan, dead, yeah, heart, still, beatin, niggas, still, eatin, backyard, look, like, garden, eden, pillow, talk, ...</td>\n",
       "    </tr>\n",
       "    <tr>\n",
       "      <th>36</th>\n",
       "      <td>Drake</td>\n",
       "      <td>Yeah Yeah, ayy</td>\n",
       "      <td>[yeah, yeah, ayy]</td>\n",
       "    </tr>\n",
       "    <tr>\n",
       "      <th>37</th>\n",
       "      <td>Drake</td>\n",
       "      <td>It was meant to happen, the most trusted going triple platinum Link with Mac, link with Fee, if I'm down in Baton Link with Tez, link with Zhii, when I'm down in Jackson Just got back, overseas I was the main attraction This ain't them, this is me, so you know what's crackin'</td>\n",
       "      <td>[meant, happen, trusted, going, triple, platinum, link, mac, link, fee, im, baton, link, tez, link, zhii, im, jackson, got, back, overseas, main, attraction, aint, know, whats, crackin]</td>\n",
       "    </tr>\n",
       "    <tr>\n",
       "      <th>...</th>\n",
       "      <td>...</td>\n",
       "      <td>...</td>\n",
       "      <td>...</td>\n",
       "    </tr>\n",
       "    <tr>\n",
       "      <th>3945</th>\n",
       "      <td>Kanye West</td>\n",
       "      <td>Rain, rain, rain go away Let the sun come out and all the children say Rain, rain, rain go away Let the sun come out and all the children say</td>\n",
       "      <td>[rain, rain, rain, go, away, let, sun, come, children, say, rain, rain, rain, go, away, let, sun, come, children, say]</td>\n",
       "    </tr>\n",
       "    <tr>\n",
       "      <th>3946</th>\n",
       "      <td>Kanye West</td>\n",
       "      <td>I woke up early this morning with a new state of mind A creative way to rhyme without using knives and guns Keep your nose out the sky, keep your heart to God And keep your face to the risin' sun All my niggas from the Chi, that's my family, dog And my niggas ain't my guys, they my family, dog I...</td>\n",
       "      <td>[woke, early, morning, new, state, mind, creative, way, rhyme, without, using, knives, guns, keep, nose, sky, keep, heart, god, keep, face, risin, sun, niggas, chi, thats, family, dog, niggas, aint, guys, family, dog, feel, like, one, day, youll, understand, dog, still, love, man, manly, dog, ai...</td>\n",
       "    </tr>\n",
       "    <tr>\n",
       "      <th>3947</th>\n",
       "      <td>Kanye West</td>\n",
       "      <td>(All all all the diamond rings diamond rings) They don't mean a thing (all, all, all the things) They don't mean a thing (all, all, all the things) (All all that glitters is not gold, now gold is not reality) They don't mean a thing a thing (All, all, all the things) They don't mean a thing a th...</td>\n",
       "      <td>[diamond, rings, diamond, rings, dont, mean, thing, things, dont, mean, thing, things, glitters, gold, gold, reality, dont, mean, thing, thing, things, dont, mean, thing, thing, thing, dont, care, dont, mean, thing, things, fancy, things, tell, weight, gold, know, know, things, things, things, t...</td>\n",
       "    </tr>\n",
       "    <tr>\n",
       "      <th>3948</th>\n",
       "      <td>Kanye West</td>\n",
       "      <td>CLK Mercedes Benz All these things, all these things ... All these things, all these things ... All these things, all these things ... A whole lotta money All these things, all these things All these things, all these things All these things, all these things Mommy and Daddy, will you please sto...</td>\n",
       "      <td>[clk, mercedes, benz, things, things, things, things, things, things, whole, lotta, money, things, things, things, things, things, things, mommy, daddy, please, stop, fighting, things, things, things, dont, care, things, things, things, things, things, lets, get, stevie, outta, jail]</td>\n",
       "    </tr>\n",
       "    <tr>\n",
       "      <th>3949</th>\n",
       "      <td>Kanye West</td>\n",
       "      <td>Yo fuck you, Kanye, first and foremost For making me do this shit. Muh'fucker Had to throw everybody out the motherfucking room Cause they don't fucking</td>\n",
       "      <td>[yo, fuck, kanye, first, foremost, making, shit, muhfucker, throw, everybody, motherfucking, room, cause, dont, fucking]</td>\n",
       "    </tr>\n",
       "    <tr>\n",
       "      <th>3950</th>\n",
       "      <td>Kanye West</td>\n",
       "      <td>I'd like to propose a toast I said toast motherfucker!</td>\n",
       "      <td>[id, like, propose, toast, said, toast, motherfucker]</td>\n",
       "    </tr>\n",
       "    <tr>\n",
       "      <th>3951</th>\n",
       "      <td>Kanye West</td>\n",
       "      <td>And I am (Here's to the Roc) And they ask me, they ask me, they ask me, I tell them (Here's to Roc-A-Fella) Raise your glasses, your glasses, your glasses to the sky and (Here's to the Roc) This is the last call for alcohol, for the (Mr. Rockefeller) So get your ass up off the wall</td>\n",
       "      <td>[heres, roc, ask, ask, ask, tell, heres, rocafella, raise, glasses, glasses, glasses, sky, heres, roc, last, call, alcohol, mr, rockefeller, get, ass, wall]</td>\n",
       "    </tr>\n",
       "    <tr>\n",
       "      <th>3952</th>\n",
       "      <td>Kanye West</td>\n",
       "      <td>The all around the world Digital Underground Pac The Rudolph the red-nosed reindeer of the Roc I take my chain, my 15 seconds of fame And come back next year with the whole fucking game Ain't nobody expect Kanye to end up on top They expected that College Dropout to drop and then flop Then maybe...</td>\n",
       "      <td>[around, world, digital, underground, pac, rudolph, rednosed, reindeer, roc, take, chain, seconds, fame, come, back, next, year, whole, fucking, game, aint, nobody, expect, kanye, end, top, expected, college, dropout, drop, flop, maybe, stop, savin, good, beats, rocafellas, niggas, helped, money...</td>\n",
       "    </tr>\n",
       "    <tr>\n",
       "      <th>3953</th>\n",
       "      <td>Kanye West</td>\n",
       "      <td>Now I am (Here's to the Roc) And they ask me, they ask me, they ask me, I tell them (Here's to Roc-A-Fella) Raise your glasses, your glasses, your glasses to the sky and (Here's to the Roc) This is the last call for alcohol, for the (Mr. Rockefeller) So get your ass up off the wall</td>\n",
       "      <td>[heres, roc, ask, ask, ask, tell, heres, rocafella, raise, glasses, glasses, glasses, sky, heres, roc, last, call, alcohol, mr, rockefeller, get, ass, wall]</td>\n",
       "    </tr>\n",
       "    <tr>\n",
       "      <th>3954</th>\n",
       "      <td>Kanye West</td>\n",
       "      <td>Now was Kanye the most overlooked? Yes sir Now is Kanye the most overbooked? Yes sir Though the fans want the feeling of A Tribe Called Quest But all they got left is this guy called West That'll take Freeway, throw him on tracks with Mos Def Call him Kwa-li or Kwe-li, I put him on songs with JA...</td>\n",
       "      <td>[kanye, overlooked, yes, sir, kanye, overbooked, yes, sir, though, fans, want, feeling, tribe, called, quest, got, left, guy, called, west, thatll, take, freeway, throw, tracks, mos, def, call, kwali, kweli, put, songs, jayz, im, gap, like, banana, republic, old, navy, oooh, come, sweeter, old, ...</td>\n",
       "    </tr>\n",
       "    <tr>\n",
       "      <th>3955</th>\n",
       "      <td>Kanye West</td>\n",
       "      <td>And I am (Here's to the Roc) And they ask me, they ask me, they ask me, I tell them (Here's to Roc-A-Fella) Raise your glasses, your glasses, your glasses to the sky and (Here's to the Roc) This is the last call for alcohol, for my niggas (Mr. Rockefeller) So get your ass up off the wall</td>\n",
       "      <td>[heres, roc, ask, ask, ask, tell, heres, rocafella, raise, glasses, glasses, glasses, sky, heres, roc, last, call, alcohol, niggas, mr, rockefeller, get, ass, wall]</td>\n",
       "    </tr>\n",
       "    <tr>\n",
       "      <th>3956</th>\n",
       "      <td>Kanye West</td>\n",
       "      <td>So this A&amp;R over at Roc-A-Fella, named Hip Hop Picked the \"Truth\" beat for Beanie. And I was in the session with him. I had my demo with me. You know, like I always do. I play the songs, he's like \"Who that spittin'?\" I'm like \"It's me.\" He's like \"Oh, well okay.\" Uhh, he started talkin' to me o...</td>\n",
       "      <td>[ar, rocafella, named, hip, hop, picked, truth, beat, beanie, session, demo, know, like, always, play, songs, hes, like, spittin, im, like, hes, like, oh, well, okay, uhh, started, talkin, phone, going, back, forth, askin, send, beats, im, thinking, hes, trying, get, managing, producers, cause, ...</td>\n",
       "    </tr>\n",
       "    <tr>\n",
       "      <th>3957</th>\n",
       "      <td>Kanye West</td>\n",
       "      <td>I was all, I dunno if he was gassin' me or not but he's like he wanna manage me as a rapper AND a producer</td>\n",
       "      <td>[dunno, gassin, hes, like, wan, na, manage, rapper, producer]</td>\n",
       "    </tr>\n",
       "    <tr>\n",
       "      <th>3958</th>\n",
       "      <td>Kanye West</td>\n",
       "      <td>I'm like oh shit. I was messin' with, uh, D-Dot also. People were like this, started talking about the ghost production but that's how I got in the game. If it wasn't for that, I wouldn't be here. So you know, after they picked that \"Truth\" beat I was figuring I was gonna do some more work but s...</td>\n",
       "      <td>[im, like, oh, shit, messin, uh, ddot, also, people, like, started, talking, ghost, production, thats, got, game, wasnt, wouldnt, know, picked, truth, beat, figuring, gon, na, work, shit, wasnt, poppin, like, stayin, chicago, apartment, doin, like, beats, local, acts, try, keep, lights, go, buy,...</td>\n",
       "    </tr>\n",
       "    <tr>\n",
       "      <th>3959</th>\n",
       "      <td>Kanye West</td>\n",
       "      <td>And he, uh, played the song cause he already spit his verse by the time I got to the studio. You know how he do it, one take. And he said</td>\n",
       "      <td>[uh, played, song, cause, already, spit, verse, time, got, studio, know, one, take, said]</td>\n",
       "    </tr>\n",
       "    <tr>\n",
       "      <th>3960</th>\n",
       "      <td>Kanye West</td>\n",
       "      <td>\"Tell me what you think of this.\" And I heard it, and I was thinking like, man, I really wanted more like of the simple type JAY-Z. I ain't want like the, the more introspective, complicated rhy- or the... in my personal opinion. So he asked me, \"What you think of it?\"</td>\n",
       "      <td>[tell, think, heard, thinking, like, man, really, wanted, like, simple, type, jayz, aint, want, like, introspective, complicated, rhy, personal, opinion, asked, think]</td>\n",
       "    </tr>\n",
       "    <tr>\n",
       "      <th>3961</th>\n",
       "      <td>Kanye West</td>\n",
       "      <td>And I was like, \"Man that shit tight,\" you know what I'm sayin', man what I'ma tell him? I was on the train, man, you know. So after that, I went back home. And man I'm, I'm just in Chicago, I'm trying to do my thing. You know, I got groups. I got acts I'm trying to get on, and like there wasn't...</td>\n",
       "      <td>[like, man, shit, tight, know, im, sayin, man, ima, tell, train, man, know, went, back, home, man, im, im, chicago, im, trying, thing, know, got, groups, got, acts, im, trying, get, like, wasnt, nothin, really, like, poppin, way, one, homies, one, artists, got, signed, supposed, really, go, prod...</td>\n",
       "    </tr>\n",
       "    <tr>\n",
       "      <th>3962</th>\n",
       "      <td>Kanye West</td>\n",
       "      <td>...Newark, New Jersey. I hadn't even seen my apartment. I remember I pulled up...</td>\n",
       "      <td>[newark, new, jersey, hadnt, even, seen, apartment, remember, pulled]</td>\n",
       "    </tr>\n",
       "    <tr>\n",
       "      <th>3963</th>\n",
       "      <td>Kanye West</td>\n",
       "      <td>...I unpacked all my shit. You know, we went to Ikea, I bought a bed, I put the bed together myself. I loaded up all my equipment, and the first beat I made was, uh, \"Heart of the City.\" And Beans was still working on his album at that time, so I came up there to Baseline, it was Beans' birthday...</td>\n",
       "      <td>[unpacked, shit, know, went, ikea, bought, bed, put, bed, together, loaded, equipment, first, beat, made, uh, heart, city, beans, still, working, album, time, came, baseline, beans, birthday, matter, fact, played, like, seven, beats, know, guess, zone, already, beats, wanted, nothing, like, alre...</td>\n",
       "    </tr>\n",
       "    <tr>\n",
       "      <th>3964</th>\n",
       "      <td>Kanye West</td>\n",
       "      <td>And I played another beat, and I played another beat. And I remember that Gucci bucket, he took it and like put it over his face and made one of them faces like 'OOOOOOOOOOH.' Two days later I'm in Baseline and I seen Dame. Dame didn't know who I was and I was like, \"Yo what's up I'm Kanye.\"</td>\n",
       "      <td>[played, another, beat, played, another, beat, remember, gucci, bucket, took, like, put, face, made, one, faces, like, ooooooooooh, two, days, later, im, baseline, seen, dame, dame, didnt, know, like, yo, whats, im, kanye]</td>\n",
       "    </tr>\n",
       "    <tr>\n",
       "      <th>3965</th>\n",
       "      <td>Kanye West</td>\n",
       "      <td>\"You that kid that gave all them beats to Jay? Yo, this nigga got classics to your beats\"</td>\n",
       "      <td>[kid, gave, beats, jay, yo, nigga, got, classics, beats]</td>\n",
       "    </tr>\n",
       "    <tr>\n",
       "      <th>3966</th>\n",
       "      <td>Kanye West</td>\n",
       "      <td>You know I ain't talkin' shit. I'm like \"oh shit.\" And all this time I'm starstruck, man. I'm still thinking 'bout, you know I'm picturing these niggas on the show, The Streets is Watching, I'm lookin', these were superstars in my eyes. And they still are, you know. So, Jay came in and he spit a...</td>\n",
       "      <td>[know, aint, talkin, shit, im, like, oh, shit, time, im, starstruck, man, im, still, thinking, bout, know, im, picturing, niggas, show, streets, watching, im, lookin, superstars, eyes, still, know, jay, came, spit, songs, like, one, day, two, days, got, ta, bring, one, thing, know, come, back, s...</td>\n",
       "    </tr>\n",
       "    <tr>\n",
       "      <th>3967</th>\n",
       "      <td>Kanye West</td>\n",
       "      <td>That was it. You know, I ain't get no deal then, hehe. Okay, fast forward. So, Blueprint, \"H to the Izzo,\" my first hit single. And I just took that proudly, built relationships with people. My relationship with Kweli I think was one of the best ones to ever happen to my career as a rapper. Beca...</td>\n",
       "      <td>[know, aint, get, deal, hehe, okay, fast, forward, blueprint, h, izzo, first, hit, single, took, proudly, built, relationships, people, relationship, kweli, think, one, best, ones, ever, happen, career, rapper, know, course, later, allowed, go, tour, man, appre, love, time, know, didnt, deal, so...</td>\n",
       "    </tr>\n",
       "    <tr>\n",
       "      <th>3968</th>\n",
       "      <td>Kanye West</td>\n",
       "      <td>I'm not gonna say nothin' to mess my promotion up</td>\n",
       "      <td>[im, gon, na, say, nothin, mess, promotion]</td>\n",
       "    </tr>\n",
       "    <tr>\n",
       "      <th>3969</th>\n",
       "      <td>Kanye West</td>\n",
       "      <td>Let's just say I didn't get my deal. The nigga that was behind me, I mean, he wasn't even a nigga, you know? The person who actually kicked everything off was Joe 3H from Capitol Records. He wanted to sign me really bad</td>\n",
       "      <td>[lets, say, didnt, get, deal, nigga, behind, mean, wasnt, even, nigga, know, person, actually, kicked, everything, joe, h, capitol, records, wanted, sign, really, bad]</td>\n",
       "    </tr>\n",
       "    <tr>\n",
       "      <th>3970</th>\n",
       "      <td>Kanye West</td>\n",
       "      <td>Dame was like, \"Yo you got a deal with Capitol? Okay man, just make sure it's not wack.\"</td>\n",
       "      <td>[dame, like, yo, got, deal, capitol, okay, man, make, sure, wack]</td>\n",
       "    </tr>\n",
       "    <tr>\n",
       "      <th>3971</th>\n",
       "      <td>Kanye West</td>\n",
       "      <td>Then one day I just went ahead and played it, I wanted to play some songs, cause you know Cam was in the room, Young Guru, and Dame was in the room. So I played... actually it's a song that you'll never hear, but maybe I might use it. So, it's called 'Wow.' \"I go to Jacob with 25 thou, you go wi...</td>\n",
       "      <td>[one, day, went, ahead, played, wanted, play, songs, cause, know, cam, room, young, guru, dame, room, played, actually, song, youll, never, hear, maybe, might, use, called, wow, go, jacob, thou, go, hundred, wow, got, plaques, walls, right, got, first, gold, single, damn, nigga, wow, like, choru...</td>\n",
       "    </tr>\n",
       "    <tr>\n",
       "      <th>3972</th>\n",
       "      <td>Kanye West</td>\n",
       "      <td>\"I ain't gonna front, it's kinda hot.\"</td>\n",
       "      <td>[aint, gon, na, front, kinda, hot]</td>\n",
       "    </tr>\n",
       "    <tr>\n",
       "      <th>3973</th>\n",
       "      <td>Kanye West</td>\n",
       "      <td>Like they still weren't looking at me like a rapper. And I'm sure Dame figured, 'Like man. If he do a whole album, if his raps is wack at least we can throw Cam on every song and save the album, you know. So uh Dame took me into the office, and he's like \"yo man, B, B, you don't want a brick, yo...</td>\n",
       "      <td>[like, still, werent, looking, like, rapper, im, sure, dame, figured, like, man, whole, album, raps, wack, least, throw, cam, every, song, save, album, know, uh, dame, took, office, hes, like, yo, man, b, b, dont, want, brick, dont, want, brick]</td>\n",
       "    </tr>\n",
       "    <tr>\n",
       "      <th>3974</th>\n",
       "      <td>Kanye West</td>\n",
       "      <td>\"You gotta be under an umbrella, you'll get rained on.\" I told Hip-hop and Hip-hop was all, \"oh, word?\" Actually, even with that, I was still about to take the deal with Capitol cause it was already on the table and cause of my relationship with 3H. That, you know, cause I told him I was gonna d...</td>\n",
       "      <td>[got, ta, umbrella, youll, get, rained, told, hiphop, hiphop, oh, word, actually, even, still, take, deal, capitol, cause, already, table, cause, relationship, h, know, cause, told, gon, na, im, man, word, gon, na, roll, said, gon, na, know, im, gon, na, name, names, people, told, oh, hes, produ...</td>\n",
       "    </tr>\n",
       "  </tbody>\n",
       "</table>\n",
       "<p>3039 rows × 3 columns</p>\n",
       "</div>"
      ],
      "text/plain": [
       "          artist  \\\n",
       "0          Drake   \n",
       "1          Drake   \n",
       "2          Drake   \n",
       "3          Drake   \n",
       "4          Drake   \n",
       "5          Drake   \n",
       "8          Drake   \n",
       "9          Drake   \n",
       "10         Drake   \n",
       "11         Drake   \n",
       "13         Drake   \n",
       "14         Drake   \n",
       "15         Drake   \n",
       "16         Drake   \n",
       "17         Drake   \n",
       "18         Drake   \n",
       "19         Drake   \n",
       "20         Drake   \n",
       "21         Drake   \n",
       "22         Drake   \n",
       "23         Drake   \n",
       "24         Drake   \n",
       "25         Drake   \n",
       "26         Drake   \n",
       "27         Drake   \n",
       "28         Drake   \n",
       "30         Drake   \n",
       "33         Drake   \n",
       "36         Drake   \n",
       "37         Drake   \n",
       "...          ...   \n",
       "3945  Kanye West   \n",
       "3946  Kanye West   \n",
       "3947  Kanye West   \n",
       "3948  Kanye West   \n",
       "3949  Kanye West   \n",
       "3950  Kanye West   \n",
       "3951  Kanye West   \n",
       "3952  Kanye West   \n",
       "3953  Kanye West   \n",
       "3954  Kanye West   \n",
       "3955  Kanye West   \n",
       "3956  Kanye West   \n",
       "3957  Kanye West   \n",
       "3958  Kanye West   \n",
       "3959  Kanye West   \n",
       "3960  Kanye West   \n",
       "3961  Kanye West   \n",
       "3962  Kanye West   \n",
       "3963  Kanye West   \n",
       "3964  Kanye West   \n",
       "3965  Kanye West   \n",
       "3966  Kanye West   \n",
       "3967  Kanye West   \n",
       "3968  Kanye West   \n",
       "3969  Kanye West   \n",
       "3970  Kanye West   \n",
       "3971  Kanye West   \n",
       "3972  Kanye West   \n",
       "3973  Kanye West   \n",
       "3974  Kanye West   \n",
       "\n",
       "                                                                                                                                                                                                                                                                                                            verse  \\\n",
       "0                                                                                                                                                                                                                                                                                         Ayy, woah Ayy, ayy Yeah   \n",
       "1                      I'm makin' a change today The liquor been takin' the pain away I heard you was givin' your chain away That's kinda like givin' your fame away What's wrong with you? I sit in a box where the owners do A boss is a role that I've grown into I love you to death but I told you the truth   \n",
       "2     I can't just be with you and only you Yeah, I got one, Virgil got one and that there is the only two Man, how many times have I shown improvement? How many nights I been (Woah) Swervin' them potholes Not tryna fuck up the wheels on the road, okay Funny how life goes He thought he was sick, now h...   \n",
       "3     Well, summer, all I did was rest, okay? And New Year's, all I did was stretch, okay? And Valentine's Day, I had sex, okay? We'll see what's 'bout to happen next Okay? Okay? Okay? We'll see what's 'bout to happen next Okay? Okay? Okay? We'll see what's 'bout to happen, ayy, ayy We'll see what's '...   \n",
       "4                   I'm makin' a change today The liquor been takin' the pain away I heard you was givin' your chain away That's kinda like givin' your fame away What's wrong with you? I sit in a box where the owners do A boss is a role that I've grown into I love you to death but I told you the truth I–   \n",
       "5     Ayy, yeah I got one, Laurie got one and that there is the only two Man, how many times have I told you the truth? Man, how many nights I been (Woah) Swervin' them potholes Not tryna fuck up the wheels or fuck up the deals I'm posted in Stockholm It's me, the owls and the twins, it's only the rea...   \n",
       "8                                                                                                                                                                                                                                                                                            (Six) Yeah Yeah Yeah   \n",
       "9     Leave me out the comments, leave me out the nonsense Speakin' out of context, people need some content Niggas tryna keep up, shit is not a contest Whippin' Benz concept Heaven-sent, God-sent Least that's what my mom says Proof is in the progress, money's not a object Busy than a motherfucker, yo...   \n",
       "10    Sins, I got sins on my mind And some M's, got a lot of M's on my mind And my friends, yeah, I keep my friends on my mind I'm in love, I'm in love with two girls at one time And they tens, that's why I got ten on my mind I got M's, got a lot of M's on my mind And my friends, yeah, I keep my frien...   \n",
       "11    I'm from the four, but I love me a threesome DM her, delete it, she my lil' secret He tryna diss me to blow up, I peep it I can't respond, we just go at your people If I left some racks on the bed, you can keep it This shit gettin' deeper and deeper, I dig it My shovel wasn't bent, I was broke, ...   \n",
       "13                                                            Tryin', tryin', tryin', tryin' I pray these niggas understand how passionate the tale is To get you under my pressure Richer I been tryin', tryin', tryin', tryin' To get you under my pressure Yes, uh Biggest, you feel me? (M-M-M-Maybach Music)   \n",
       "14    Godfather with a garden full of snakes Call Porsche, time to give away a Wraith Bricks boy, tryna turn 'em into bass Big boy, I been tryin' buy the Braves Courtroom soundin' like I'm in the opera Went and got it, now these niggas wanna knock us Bitches fallin' 'cause they need a couple dollars B...   \n",
       "15                                                                                                                                           I been tryin', tryin', tryin', tryin' To get you under my pressure I been tryin', tryin', tryin', tryin' To get you under my pressure Tryin', tryin', tryin', tryin'   \n",
       "16    Yeah, heart just turned purple Three-sixty up front, it all comes full circle Class photographs, Sandy had me on my Urkel (I been tryin', tryin', tryin', tryin') Patty Mahomes, 'bout to fall short a couple hunnid Signed, sealed, delivered, I fucked the notary public She witnessed me sign off on ...   \n",
       "17                                                                                                                                                                          I been tryin', tryin', tryin', tryin' To get you under my pressure I been tryin', tryin', tryin', tryin' To get you under my pressure   \n",
       "18                                                                                                                                                                                  Ayy, yeah Pipe this shit up and I turn this shit up When I was down, I was down Now them diamonds for fun like damn Ayy, yeah   \n",
       "19    Trendsetter, Ben Frank getter (Yeah) Whip whatever, whip whatever I buy diamonds when I'm under pressure (Yeah) When I apply it, shit don’t ever let up, yeah Look, I'm in the cut, The Boy in the cut Jump in the whip where the ceilings go up, we up All of this grindin' for what? It’s funny when y...   \n",
       "20                                                                                                                                                                                                                           Still in the cut, The Boy in the cut Hop in the whip where the ceilings go up, we up   \n",
       "21    And I'm way up at the top of the loft Gotta stay up, ain't no knockin' me off Pull up smooth, A.I. with the cross (Haha) Countin' up wins on wins on wins, for all of my dawgs I lost I might call Pharrell, get the new Chanel Thugger got the YSL, huh I remember when the Feds did the sweep, I pray ...   \n",
       "22                                                                                                                                                                                                                     Still in the cut, The Boy in the cut, yeah Hop in the whip where the ceilings go up, we up   \n",
       "23                                                                                                                        Ayy (Now you know how) Now I gotta tell you how lucky I am (Oh, now you know) This shit could have went a hundred different ways on a thousand different days for real Yeah, whoop, ayy   \n",
       "24    On my way to the boat like I ain't just have on a coat when I landed Owl branded Perched at the edge of the branches They don't wanna talk mansions, mine look like a campus And I'm all about my brothers like the niggas I'm samplin' I'll leave you red-shirted like the twins from Kansas Really liv...   \n",
       "25                                                                                                                                                                                                                                                                                                Woah, woah Yeah   \n",
       "26                          Sometimes we laugh and sometimes we cry, but I guess you know now, baby I took a half and she took the whole thing, slow down, baby We took a trip, now we on your block and it's like a ghost town, baby Where do these niggas be at when they say they doin' all this and all that?   \n",
       "27    Tired of beefin' you bums, you can't even pay me enough to react Been wakin' up in the crib and sometimes I don't even know where I'm at Please don't play that nigga songs in this party, I can't even listen to that Anytime that I ran into somebody, it must be a victory lap, ayy Shawty, come sit ...   \n",
       "28                                                                                                                                                                                                                       I know that they at the crib goin' crazy, down bad What they had didn't last, damn, baby   \n",
       "30    I'm in the trenches, relax Can you not play that lil' boy in the club? 'Cause we do not listen to rats We in Atlanta, I buy her a wig, she tellin' me Tae is the best Point at the nigga who act like a killer, but you only one from the 'net I'm like DaBaby, I'm not just a rapper, you play with me,...   \n",
       "33    When he tell the story, that's not how it went Know they be lyin', a hundred percent Moved out the Ritz and forgot 'bout the Bent' Valet just called me to tell me come get it Knocked that boy off and I don't want no credit If it was me, they wouldn't regret it Left me for dead and now they wan' ...   \n",
       "36                                                                                                                                                                                                                                                                                                 Yeah Yeah, ayy   \n",
       "37                           It was meant to happen, the most trusted going triple platinum Link with Mac, link with Fee, if I'm down in Baton Link with Tez, link with Zhii, when I'm down in Jackson Just got back, overseas I was the main attraction This ain't them, this is me, so you know what's crackin'   \n",
       "...                                                                                                                                                                                                                                                                                                           ...   \n",
       "3945                                                                                                                                                                Rain, rain, rain go away Let the sun come out and all the children say Rain, rain, rain go away Let the sun come out and all the children say   \n",
       "3946  I woke up early this morning with a new state of mind A creative way to rhyme without using knives and guns Keep your nose out the sky, keep your heart to God And keep your face to the risin' sun All my niggas from the Chi, that's my family, dog And my niggas ain't my guys, they my family, dog I...   \n",
       "3947  (All all all the diamond rings diamond rings) They don't mean a thing (all, all, all the things) They don't mean a thing (all, all, all the things) (All all that glitters is not gold, now gold is not reality) They don't mean a thing a thing (All, all, all the things) They don't mean a thing a th...   \n",
       "3948  CLK Mercedes Benz All these things, all these things ... All these things, all these things ... All these things, all these things ... A whole lotta money All these things, all these things All these things, all these things All these things, all these things Mommy and Daddy, will you please sto...   \n",
       "3949                                                                                                                                                     Yo fuck you, Kanye, first and foremost For making me do this shit. Muh'fucker Had to throw everybody out the motherfucking room Cause they don't fucking   \n",
       "3950                                                                                                                                                                                                                                                       I'd like to propose a toast I said toast motherfucker!   \n",
       "3951                   And I am (Here's to the Roc) And they ask me, they ask me, they ask me, I tell them (Here's to Roc-A-Fella) Raise your glasses, your glasses, your glasses to the sky and (Here's to the Roc) This is the last call for alcohol, for the (Mr. Rockefeller) So get your ass up off the wall   \n",
       "3952  The all around the world Digital Underground Pac The Rudolph the red-nosed reindeer of the Roc I take my chain, my 15 seconds of fame And come back next year with the whole fucking game Ain't nobody expect Kanye to end up on top They expected that College Dropout to drop and then flop Then maybe...   \n",
       "3953                   Now I am (Here's to the Roc) And they ask me, they ask me, they ask me, I tell them (Here's to Roc-A-Fella) Raise your glasses, your glasses, your glasses to the sky and (Here's to the Roc) This is the last call for alcohol, for the (Mr. Rockefeller) So get your ass up off the wall   \n",
       "3954  Now was Kanye the most overlooked? Yes sir Now is Kanye the most overbooked? Yes sir Though the fans want the feeling of A Tribe Called Quest But all they got left is this guy called West That'll take Freeway, throw him on tracks with Mos Def Call him Kwa-li or Kwe-li, I put him on songs with JA...   \n",
       "3955             And I am (Here's to the Roc) And they ask me, they ask me, they ask me, I tell them (Here's to Roc-A-Fella) Raise your glasses, your glasses, your glasses to the sky and (Here's to the Roc) This is the last call for alcohol, for my niggas (Mr. Rockefeller) So get your ass up off the wall   \n",
       "3956  So this A&R over at Roc-A-Fella, named Hip Hop Picked the \"Truth\" beat for Beanie. And I was in the session with him. I had my demo with me. You know, like I always do. I play the songs, he's like \"Who that spittin'?\" I'm like \"It's me.\" He's like \"Oh, well okay.\" Uhh, he started talkin' to me o...   \n",
       "3957                                                                                                                                                                                                   I was all, I dunno if he was gassin' me or not but he's like he wanna manage me as a rapper AND a producer   \n",
       "3958  I'm like oh shit. I was messin' with, uh, D-Dot also. People were like this, started talking about the ghost production but that's how I got in the game. If it wasn't for that, I wouldn't be here. So you know, after they picked that \"Truth\" beat I was figuring I was gonna do some more work but s...   \n",
       "3959                                                                                                                                                                    And he, uh, played the song cause he already spit his verse by the time I got to the studio. You know how he do it, one take. And he said   \n",
       "3960                                \"Tell me what you think of this.\" And I heard it, and I was thinking like, man, I really wanted more like of the simple type JAY-Z. I ain't want like the, the more introspective, complicated rhy- or the... in my personal opinion. So he asked me, \"What you think of it?\"   \n",
       "3961  And I was like, \"Man that shit tight,\" you know what I'm sayin', man what I'ma tell him? I was on the train, man, you know. So after that, I went back home. And man I'm, I'm just in Chicago, I'm trying to do my thing. You know, I got groups. I got acts I'm trying to get on, and like there wasn't...   \n",
       "3962                                                                                                                                                                                                                            ...Newark, New Jersey. I hadn't even seen my apartment. I remember I pulled up...   \n",
       "3963  ...I unpacked all my shit. You know, we went to Ikea, I bought a bed, I put the bed together myself. I loaded up all my equipment, and the first beat I made was, uh, \"Heart of the City.\" And Beans was still working on his album at that time, so I came up there to Baseline, it was Beans' birthday...   \n",
       "3964         And I played another beat, and I played another beat. And I remember that Gucci bucket, he took it and like put it over his face and made one of them faces like 'OOOOOOOOOOH.' Two days later I'm in Baseline and I seen Dame. Dame didn't know who I was and I was like, \"Yo what's up I'm Kanye.\"   \n",
       "3965                                                                                                                                                                                                                    \"You that kid that gave all them beats to Jay? Yo, this nigga got classics to your beats\"   \n",
       "3966  You know I ain't talkin' shit. I'm like \"oh shit.\" And all this time I'm starstruck, man. I'm still thinking 'bout, you know I'm picturing these niggas on the show, The Streets is Watching, I'm lookin', these were superstars in my eyes. And they still are, you know. So, Jay came in and he spit a...   \n",
       "3967  That was it. You know, I ain't get no deal then, hehe. Okay, fast forward. So, Blueprint, \"H to the Izzo,\" my first hit single. And I just took that proudly, built relationships with people. My relationship with Kweli I think was one of the best ones to ever happen to my career as a rapper. Beca...   \n",
       "3968                                                                                                                                                                                                                                                            I'm not gonna say nothin' to mess my promotion up   \n",
       "3969                                                                                  Let's just say I didn't get my deal. The nigga that was behind me, I mean, he wasn't even a nigga, you know? The person who actually kicked everything off was Joe 3H from Capitol Records. He wanted to sign me really bad   \n",
       "3970                                                                                                                                                                                                                     Dame was like, \"Yo you got a deal with Capitol? Okay man, just make sure it's not wack.\"   \n",
       "3971  Then one day I just went ahead and played it, I wanted to play some songs, cause you know Cam was in the room, Young Guru, and Dame was in the room. So I played... actually it's a song that you'll never hear, but maybe I might use it. So, it's called 'Wow.' \"I go to Jacob with 25 thou, you go wi...   \n",
       "3972                                                                                                                                                                                                                                                                       \"I ain't gonna front, it's kinda hot.\"   \n",
       "3973  Like they still weren't looking at me like a rapper. And I'm sure Dame figured, 'Like man. If he do a whole album, if his raps is wack at least we can throw Cam on every song and save the album, you know. So uh Dame took me into the office, and he's like \"yo man, B, B, you don't want a brick, yo...   \n",
       "3974  \"You gotta be under an umbrella, you'll get rained on.\" I told Hip-hop and Hip-hop was all, \"oh, word?\" Actually, even with that, I was still about to take the deal with Capitol cause it was already on the table and cause of my relationship with 3H. That, you know, cause I told him I was gonna d...   \n",
       "\n",
       "                                                                                                                                                                                                                                                                                                              seq  \n",
       "0                                                                                                                                                                                                                                                                                     [ayy, woah, ayy, ayy, yeah]  \n",
       "1                                                                                                       [im, makin, change, today, liquor, takin, pain, away, heard, givin, chain, away, thats, kinda, like, givin, fame, away, whats, wrong, sit, box, owners, boss, role, ive, grown, love, death, told, truth]  \n",
       "2     [cant, yeah, got, one, virgil, got, one, two, man, many, times, shown, improvement, many, nights, woah, swervin, potholes, tryna, fuck, wheels, road, okay, funny, life, goes, thought, sick, wipin, nose, okay, soon, give, em, soul, blow, say, youre, sеlling, soul, okay, want, life, exposеd, wan, ...  \n",
       "3     [well, summer, rest, okay, new, years, stretch, okay, valentines, day, sex, okay, well, see, whats, bout, happen, next, okay, okay, okay, well, see, whats, bout, happen, next, okay, okay, okay, well, see, whats, bout, happen, ayy, ayy, well, see, whats, bout, happen, ayy, well, see, whats, bout,...  \n",
       "4                                                                                                   [im, makin, change, today, liquor, takin, pain, away, heard, givin, chain, away, thats, kinda, like, givin, fame, away, whats, wrong, sit, box, owners, boss, role, ive, grown, love, death, told, truth, i–]  \n",
       "5     [ayy, yeah, got, one, laurie, got, one, two, man, many, times, told, truth, man, many, nights, woah, swervin, potholes, tryna, fuck, wheels, fuck, deals, im, posted, stockholm, owls, twins, real, im, movin, way, humble, weezy, handed, still, got, fumbles, im, hot, one, hundo, numero, uno, one, a...  \n",
       "8                                                                                                                                                                                                                                                                                         [six, yeah, yeah, yeah]  \n",
       "9     [leave, comments, leave, nonsense, speakin, context, people, need, content, niggas, tryna, keep, shit, contest, whippin, benz, concept, heavensent, godsent, least, thats, mom, says, proof, progress, moneys, object, busy, motherfucker, know, job, get, barkin, wrong, tree, know, dogs, get, havent,...  \n",
       "10                                                  [sins, got, sins, mind, ms, got, lot, ms, mind, friends, yeah, keep, friends, mind, im, love, im, love, two, girls, one, time, tens, thats, got, ten, mind, got, ms, got, lot, ms, mind, friends, yeah, keep, friends, mind, repent, need, jesus, life, amen]  \n",
       "11    [im, four, love, threesome, dm, delete, lil, secret, tryna, diss, blow, peep, cant, respond, go, people, left, racks, bed, keep, shit, gettin, deeper, deeper, dig, shovel, wasnt, bent, broke, fix, shark, water, swim, lil, fishes, hit, today, tomorrow, miss, grab, neck, look, kiss, im, goat, fit,...  \n",
       "13                                                                                                                          [tryin, tryin, tryin, tryin, pray, niggas, understand, passionate, tale, get, pressure, richer, tryin, tryin, tryin, tryin, get, pressure, yes, uh, biggest, feel, mmmmaybach, music]  \n",
       "14    [godfather, garden, full, snakes, call, porsche, time, give, away, wraith, bricks, boy, tryna, turn, em, bass, big, boy, tryin, buy, braves, courtroom, soundin, like, im, opera, went, got, niggas, wan, na, knock, us, bitches, fallin, cause, need, couple, dollars, aint, problem, cause, nigga, rea...  \n",
       "15                                                                                                                                                                                             [tryin, tryin, tryin, tryin, get, pressure, tryin, tryin, tryin, tryin, get, pressure, tryin, tryin, tryin, tryin]  \n",
       "16    [yeah, heart, turned, purple, threesixty, front, comes, full, circle, class, photographs, sandy, urkel, tryin, tryin, tryin, tryin, patty, mahomes, bout, fall, short, couple, hunnid, signed, sealed, delivered, fucked, notary, public, witnessed, sign, undeniable, numbers, tryin, tryin, tryin, try...  \n",
       "17                                                                                                                                                                                                                         [tryin, tryin, tryin, tryin, get, pressure, tryin, tryin, tryin, tryin, get, pressure]  \n",
       "18                                                                                                                                                                                                                                      [ayy, yeah, pipe, shit, turn, shit, diamonds, fun, like, damn, ayy, yeah]  \n",
       "19    [trendsetter, ben, frank, getter, yeah, whip, whatever, whip, whatever, buy, diamonds, im, pressure, yeah, apply, shit, ’, ever, let, yeah, look, im, cut, boy, cut, jump, whip, ceilings, go, grindin, ’, funny, niggas, thought, luck, give, pass, play, money, family, friends, compete, niggas, comp...  \n",
       "20                                                                                                                                                                                                                                                                [still, cut, boy, cut, hop, whip, ceilings, go]  \n",
       "21    [im, way, top, loft, got, ta, stay, aint, knockin, pull, smooth, ai, cross, haha, countin, wins, wins, wins, dawgs, lost, might, call, pharrell, get, new, chanel, thugger, got, ysl, huh, remember, feds, sweep, pray, dawgs, didnt, tell, huh, cruisin, ’, biscayne, miami, gave, top, top, cartier, w...  \n",
       "22                                                                                                                                                                                                                                                          [still, cut, boy, cut, yeah, hop, whip, ceilings, go]  \n",
       "23                                                                                                                                                                    [ayy, know, got, ta, tell, lucky, oh, know, shit, could, went, hundred, different, ways, thousand, different, days, real, yeah, whoop, ayy]  \n",
       "24    [way, boat, like, aint, coat, landed, owl, branded, perched, edge, branches, dont, wan, na, talk, mansions, mine, look, like, campus, im, brothers, like, niggas, im, samplin, ill, leave, redshirted, like, twins, kansas, really, livin, dreams, used, aunts, crib, might, throw, rockefeller, chain, ...  \n",
       "25                                                                                                                                                                                                                                                                                             [woah, woah, yeah]  \n",
       "26                                                                                                                                               [sometimes, laugh, sometimes, cry, guess, know, baby, took, half, took, whole, thing, slow, baby, took, trip, block, like, ghost, town, baby, niggas, say, doin]  \n",
       "27    [tired, beefin, bums, cant, even, pay, enough, react, wakin, crib, sometimes, dont, even, know, im, please, dont, play, nigga, songs, party, cant, even, listen, anytime, ran, somebody, must, victory, lap, ayy, shawty, come, sit, lap, ayy, sayin, drizzy, snap, distance, us, like, store, isnt, clo...  \n",
       "28                                                                                                                                                                                                                                                        [know, crib, goin, crazy, bad, didnt, last, damn, baby]  \n",
       "30    [im, trenches, relax, play, lil, boy, club, cause, listen, rats, atlanta, buy, wig, tellin, tae, best, point, nigga, act, like, killer, one, net, im, like, dababy, im, rapper, play, gon, get, stretched, oohoh, bring, drake, hood, surround, drake, around, dracs, even, though, got, case, ima, take...  \n",
       "33    [tell, story, thats, went, know, lyin, hundred, percent, moved, ritz, forgot, bout, bent, valet, called, tell, come, get, knocked, boy, dont, want, credit, wouldnt, regret, left, dead, wan, dead, yeah, heart, still, beatin, niggas, still, eatin, backyard, look, like, garden, eden, pillow, talk, ...  \n",
       "36                                                                                                                                                                                                                                                                                              [yeah, yeah, ayy]  \n",
       "37                                                                                                                      [meant, happen, trusted, going, triple, platinum, link, mac, link, fee, im, baton, link, tez, link, zhii, im, jackson, got, back, overseas, main, attraction, aint, know, whats, crackin]  \n",
       "...                                                                                                                                                                                                                                                                                                           ...  \n",
       "3945                                                                                                                                                                                       [rain, rain, rain, go, away, let, sun, come, children, say, rain, rain, rain, go, away, let, sun, come, children, say]  \n",
       "3946  [woke, early, morning, new, state, mind, creative, way, rhyme, without, using, knives, guns, keep, nose, sky, keep, heart, god, keep, face, risin, sun, niggas, chi, thats, family, dog, niggas, aint, guys, family, dog, feel, like, one, day, youll, understand, dog, still, love, man, manly, dog, ai...  \n",
       "3947  [diamond, rings, diamond, rings, dont, mean, thing, things, dont, mean, thing, things, glitters, gold, gold, reality, dont, mean, thing, thing, things, dont, mean, thing, thing, thing, dont, care, dont, mean, thing, things, fancy, things, tell, weight, gold, know, know, things, things, things, t...  \n",
       "3948                 [clk, mercedes, benz, things, things, things, things, things, things, whole, lotta, money, things, things, things, things, things, things, mommy, daddy, please, stop, fighting, things, things, things, dont, care, things, things, things, things, things, lets, get, stevie, outta, jail]  \n",
       "3949                                                                                                                                                                                     [yo, fuck, kanye, first, foremost, making, shit, muhfucker, throw, everybody, motherfucking, room, cause, dont, fucking]  \n",
       "3950                                                                                                                                                                                                                                                        [id, like, propose, toast, said, toast, motherfucker]  \n",
       "3951                                                                                                                                                 [heres, roc, ask, ask, ask, tell, heres, rocafella, raise, glasses, glasses, glasses, sky, heres, roc, last, call, alcohol, mr, rockefeller, get, ass, wall]  \n",
       "3952  [around, world, digital, underground, pac, rudolph, rednosed, reindeer, roc, take, chain, seconds, fame, come, back, next, year, whole, fucking, game, aint, nobody, expect, kanye, end, top, expected, college, dropout, drop, flop, maybe, stop, savin, good, beats, rocafellas, niggas, helped, money...  \n",
       "3953                                                                                                                                                 [heres, roc, ask, ask, ask, tell, heres, rocafella, raise, glasses, glasses, glasses, sky, heres, roc, last, call, alcohol, mr, rockefeller, get, ass, wall]  \n",
       "3954  [kanye, overlooked, yes, sir, kanye, overbooked, yes, sir, though, fans, want, feeling, tribe, called, quest, got, left, guy, called, west, thatll, take, freeway, throw, tracks, mos, def, call, kwali, kweli, put, songs, jayz, im, gap, like, banana, republic, old, navy, oooh, come, sweeter, old, ...  \n",
       "3955                                                                                                                                         [heres, roc, ask, ask, ask, tell, heres, rocafella, raise, glasses, glasses, glasses, sky, heres, roc, last, call, alcohol, niggas, mr, rockefeller, get, ass, wall]  \n",
       "3956  [ar, rocafella, named, hip, hop, picked, truth, beat, beanie, session, demo, know, like, always, play, songs, hes, like, spittin, im, like, hes, like, oh, well, okay, uhh, started, talkin, phone, going, back, forth, askin, send, beats, im, thinking, hes, trying, get, managing, producers, cause, ...  \n",
       "3957                                                                                                                                                                                                                                                [dunno, gassin, hes, like, wan, na, manage, rapper, producer]  \n",
       "3958  [im, like, oh, shit, messin, uh, ddot, also, people, like, started, talking, ghost, production, thats, got, game, wasnt, wouldnt, know, picked, truth, beat, figuring, gon, na, work, shit, wasnt, poppin, like, stayin, chicago, apartment, doin, like, beats, local, acts, try, keep, lights, go, buy,...  \n",
       "3959                                                                                                                                                                                                                    [uh, played, song, cause, already, spit, verse, time, got, studio, know, one, take, said]  \n",
       "3960                                                                                                                                      [tell, think, heard, thinking, like, man, really, wanted, like, simple, type, jayz, aint, want, like, introspective, complicated, rhy, personal, opinion, asked, think]  \n",
       "3961  [like, man, shit, tight, know, im, sayin, man, ima, tell, train, man, know, went, back, home, man, im, im, chicago, im, trying, thing, know, got, groups, got, acts, im, trying, get, like, wasnt, nothin, really, like, poppin, way, one, homies, one, artists, got, signed, supposed, really, go, prod...  \n",
       "3962                                                                                                                                                                                                                                        [newark, new, jersey, hadnt, even, seen, apartment, remember, pulled]  \n",
       "3963  [unpacked, shit, know, went, ikea, bought, bed, put, bed, together, loaded, equipment, first, beat, made, uh, heart, city, beans, still, working, album, time, came, baseline, beans, birthday, matter, fact, played, like, seven, beats, know, guess, zone, already, beats, wanted, nothing, like, alre...  \n",
       "3964                                                                               [played, another, beat, played, another, beat, remember, gucci, bucket, took, like, put, face, made, one, faces, like, ooooooooooh, two, days, later, im, baseline, seen, dame, dame, didnt, know, like, yo, whats, im, kanye]  \n",
       "3965                                                                                                                                                                                                                                                     [kid, gave, beats, jay, yo, nigga, got, classics, beats]  \n",
       "3966  [know, aint, talkin, shit, im, like, oh, shit, time, im, starstruck, man, im, still, thinking, bout, know, im, picturing, niggas, show, streets, watching, im, lookin, superstars, eyes, still, know, jay, came, spit, songs, like, one, day, two, days, got, ta, bring, one, thing, know, come, back, s...  \n",
       "3967  [know, aint, get, deal, hehe, okay, fast, forward, blueprint, h, izzo, first, hit, single, took, proudly, built, relationships, people, relationship, kweli, think, one, best, ones, ever, happen, career, rapper, know, course, later, allowed, go, tour, man, appre, love, time, know, didnt, deal, so...  \n",
       "3968                                                                                                                                                                                                                                                                  [im, gon, na, say, nothin, mess, promotion]  \n",
       "3969                                                                                                                                      [lets, say, didnt, get, deal, nigga, behind, mean, wasnt, even, nigga, know, person, actually, kicked, everything, joe, h, capitol, records, wanted, sign, really, bad]  \n",
       "3970                                                                                                                                                                                                                                            [dame, like, yo, got, deal, capitol, okay, man, make, sure, wack]  \n",
       "3971  [one, day, went, ahead, played, wanted, play, songs, cause, know, cam, room, young, guru, dame, room, played, actually, song, youll, never, hear, maybe, might, use, called, wow, go, jacob, thou, go, hundred, wow, got, plaques, walls, right, got, first, gold, single, damn, nigga, wow, like, choru...  \n",
       "3972                                                                                                                                                                                                                                                                           [aint, gon, na, front, kinda, hot]  \n",
       "3973                                                        [like, still, werent, looking, like, rapper, im, sure, dame, figured, like, man, whole, album, raps, wack, least, throw, cam, every, song, save, album, know, uh, dame, took, office, hes, like, yo, man, b, b, dont, want, brick, dont, want, brick]  \n",
       "3974  [got, ta, umbrella, youll, get, rained, told, hiphop, hiphop, oh, word, actually, even, still, take, deal, capitol, cause, already, table, cause, relationship, h, know, cause, told, gon, na, im, man, word, gon, na, roll, said, gon, na, know, im, gon, na, name, names, people, told, oh, hes, produ...  \n",
       "\n",
       "[3039 rows x 3 columns]"
      ]
     },
     "execution_count": 33,
     "metadata": {},
     "output_type": "execute_result"
    }
   ],
   "source": [
    "data.rename(columns={'clean_text':'seq'}, inplace=True)\n",
    "data"
   ]
  },
  {
   "cell_type": "code",
   "execution_count": 44,
   "metadata": {},
   "outputs": [],
   "source": [
    "#data['seq_1'] = data['seq'].apply(tf.keras.preprocessing.text.text_to_word_sequence)"
   ]
  },
  {
   "cell_type": "markdown",
   "metadata": {},
   "source": [
    "❓ **Let's cap the length of each sequences without losing too much information**\n",
    "- Plot the distribution of sequences lengths using the [`seaborn.kdeplot`](https://seaborn.pydata.org/generated/seaborn.displot.html#seaborn-displot) function"
   ]
  },
  {
   "cell_type": "code",
   "execution_count": 36,
   "metadata": {},
   "outputs": [
    {
     "name": "stderr",
     "output_type": "stream",
     "text": [
      "C:\\Users\\mvalyashova\\AppData\\Local\\Continuum\\anaconda3\\lib\\site-packages\\scipy\\stats\\stats.py:1713: FutureWarning: Using a non-tuple sequence for multidimensional indexing is deprecated; use `arr[tuple(seq)]` instead of `arr[seq]`. In the future this will be interpreted as an array index, `arr[np.array(seq)]`, which will result either in an error or a different result.\n",
      "  return np.add.reduce(sorted[indexer] * weights, axis=axis) / sumval\n"
     ]
    },
    {
     "data": {
      "text/plain": [
       "<matplotlib.axes._subplots.AxesSubplot at 0x20fee397c50>"
      ]
     },
     "execution_count": 36,
     "metadata": {},
     "output_type": "execute_result"
    },
    {
     "data": {
      "image/png": "[encoded data removed]",
      "text/plain": [
       "<Figure size 432x288 with 1 Axes>"
      ]
     },
     "metadata": {
      "needs_background": "light"
     },
     "output_type": "display_data"
    }
   ],
   "source": [
    "import seaborn as sns\n",
    "\n",
    "sns.kdeplot([len(verse) for verse in data['seq']])"
   ]
  },
  {
   "cell_type": "markdown",
   "metadata": {},
   "source": [
    "❓ **Keep only the first `300` words of each sequences to reduce the useless long tail of long verses**"
   ]
  },
  {
   "cell_type": "code",
   "execution_count": null,
   "metadata": {},
   "outputs": [],
   "source": [
    "data_new = data['seq'].str.slice(stop=299)"
   ]
  },
  {
   "cell_type": "code",
   "execution_count": 39,
   "metadata": {},
   "outputs": [],
   "source": [
    "# YOUR CODE HERE\n",
    "for seq in data['seq']:\n",
    "    seq = seq[:300]"
   ]
  },
  {
   "cell_type": "code",
   "execution_count": 40,
   "metadata": {
    "ExecuteTime": {
     "end_time": "2021-06-25T17:22:19.797635Z",
     "start_time": "2021-06-25T17:22:19.786221Z"
    },
    "tags": [
     "challengify"
    ]
   },
   "outputs": [
    {
     "data": {
      "text/plain": [
       "<matplotlib.axes._subplots.AxesSubplot at 0x20fee5cd8d0>"
      ]
     },
     "execution_count": 40,
     "metadata": {},
     "output_type": "execute_result"
    },
    {
     "data": {
      "image/png": "[encoded data removed]",
      "text/plain": [
       "<Figure size 432x288 with 1 Axes>"
      ]
     },
     "metadata": {
      "needs_background": "light"
     },
     "output_type": "display_data"
    }
   ],
   "source": [
    "# YOUR CODE HERE\n",
    "sns.kdeplot(data_new.str.len(),color='green',shade=True)"
   ]
  },
  {
   "cell_type": "markdown",
   "metadata": {},
   "source": [
    "❓ **Train a `gensim.models.Word2Vec` model ** \n",
    "- Embed each word into vectors of dimension `100`\n",
    "- No word is excluded\n",
    "- at least 50 epochs to be sure it converges"
   ]
  },
  {
   "cell_type": "code",
   "execution_count": 45,
   "metadata": {},
   "outputs": [],
   "source": [
    "word2vec = Word2Vec(sentences=data['seq'], vector_size=100, min_count=0, epochs=50)"
   ]
  },
  {
   "cell_type": "code",
   "execution_count": 46,
   "metadata": {},
   "outputs": [],
   "source": [
    "def embed_sentence(word2vec, sentence):\n",
    "    embedded_sentence = []\n",
    "    for word in sentence:\n",
    "        if word in word2vec.wv:\n",
    "            embedded_sentence.append(word2vec.wv[word])\n",
    "        \n",
    "    return np.array(embedded_sentence)\n",
    "\n",
    "# Function that converts a list of sentences into a list of matrices\n",
    "def embedding(word2vec, sentences):\n",
    "    embed = []\n",
    "    \n",
    "    for sentence in sentences:\n",
    "        embedded_sentence = embed_sentence(word2vec, sentence)\n",
    "        embed.append(embedded_sentence)\n",
    "        \n",
    "    return embed"
   ]
  },
  {
   "cell_type": "code",
   "execution_count": 47,
   "metadata": {},
   "outputs": [
    {
     "data": {
      "text/html": [
       "<div>\n",
       "<style scoped>\n",
       "    .dataframe tbody tr th:only-of-type {\n",
       "        vertical-align: middle;\n",
       "    }\n",
       "\n",
       "    .dataframe tbody tr th {\n",
       "        vertical-align: top;\n",
       "    }\n",
       "\n",
       "    .dataframe thead th {\n",
       "        text-align: right;\n",
       "    }\n",
       "</style>\n",
       "<table border=\"1\" class=\"dataframe\">\n",
       "  <thead>\n",
       "    <tr style=\"text-align: right;\">\n",
       "      <th></th>\n",
       "      <th>artist</th>\n",
       "      <th>verse</th>\n",
       "      <th>seq</th>\n",
       "      <th>embed</th>\n",
       "    </tr>\n",
       "  </thead>\n",
       "  <tbody>\n",
       "    <tr>\n",
       "      <th>0</th>\n",
       "      <td>Drake</td>\n",
       "      <td>Ayy, woah Ayy, ayy Yeah</td>\n",
       "      <td>[ayy, woah, ayy, ayy, yeah]</td>\n",
       "      <td>[[-1.7489973, -0.9353843, 3.045907, 0.9955156, -1.635011, -2.6825666, -2.8498957, -0.4187155, -2.2020597, -3.6119843, -1.2225274, -1.0093552, 1.962218, -0.17295271, -0.50632375, -1.619458, 2.9927113, -2.140632, -1.690715, 0.56156003, -2.682254, -1.3792729, 0.7983511, 1.8024687, -1.0167673, 4.902...</td>\n",
       "    </tr>\n",
       "    <tr>\n",
       "      <th>1</th>\n",
       "      <td>Drake</td>\n",
       "      <td>I'm makin' a change today The liquor been takin' the pain away I heard you was givin' your chain away That's kinda like givin' your fame away What's wrong with you? I sit in a box where the owners do A boss is a role that I've grown into I love you to death but I told you the truth</td>\n",
       "      <td>[im, makin, change, today, liquor, takin, pain, away, heard, givin, chain, away, thats, kinda, like, givin, fame, away, whats, wrong, sit, box, owners, boss, role, ive, grown, love, death, told, truth]</td>\n",
       "      <td>[[0.12188834, -0.43565154, 0.34084073, -0.8060796, 0.19205038, -0.71717757, 1.2678972, 1.3213547, -1.465972, -0.5656701, -0.08051969, 1.2891339, 1.1333524, 0.58948636, -0.4443255, -0.030862061, 1.2154992, 1.5816468, -1.8806332, -0.15031587, -0.2930959, 0.8411025, 1.1549904, -1.1008632, 1.5331802...</td>\n",
       "    </tr>\n",
       "    <tr>\n",
       "      <th>2</th>\n",
       "      <td>Drake</td>\n",
       "      <td>I can't just be with you and only you Yeah, I got one, Virgil got one and that there is the only two Man, how many times have I shown improvement? How many nights I been (Woah) Swervin' them potholes Not tryna fuck up the wheels on the road, okay Funny how life goes He thought he was sick, now h...</td>\n",
       "      <td>[cant, yeah, got, one, virgil, got, one, two, man, many, times, shown, improvement, many, nights, woah, swervin, potholes, tryna, fuck, wheels, road, okay, funny, life, goes, thought, sick, wipin, nose, okay, soon, give, em, soul, blow, say, youre, sеlling, soul, okay, want, life, exposеd, wan, ...</td>\n",
       "      <td>[[-0.41990274, -1.8070214, 0.13869573, 1.2310233, 4.422825, 1.4408568, 2.1579492, -1.9580184, -4.0459065, 2.6522543, -0.6429453, -0.25377318, 2.5535347, -1.0946152, 0.044761296, -1.0322977, 1.8113909, -0.590022, 0.0065212916, -2.8506484, 0.783814, 0.19879872, 0.29670212, 0.061386555, -2.666102, ...</td>\n",
       "    </tr>\n",
       "    <tr>\n",
       "      <th>3</th>\n",
       "      <td>Drake</td>\n",
       "      <td>Well, summer, all I did was rest, okay? And New Year's, all I did was stretch, okay? And Valentine's Day, I had sex, okay? We'll see what's 'bout to happen next Okay? Okay? Okay? We'll see what's 'bout to happen next Okay? Okay? Okay? We'll see what's 'bout to happen, ayy, ayy We'll see what's '...</td>\n",
       "      <td>[well, summer, rest, okay, new, years, stretch, okay, valentines, day, sex, okay, well, see, whats, bout, happen, next, okay, okay, okay, well, see, whats, bout, happen, next, okay, okay, okay, well, see, whats, bout, happen, ayy, ayy, well, see, whats, bout, happen, ayy, well, see, whats, bout,...</td>\n",
       "      <td>[[-1.9030457, 0.06557344, 2.8034348, 0.8055785, -0.09644601, -1.9527825, -0.807977, 0.13190414, -2.2703588, 0.44500765, -1.894376, 0.08083263, -0.032572586, -0.7127829, 0.97846824, 0.55727345, 1.6884733, -0.64981437, 1.291722, -3.1601233, -1.2796681, 2.426292, -0.42562303, -0.5862727, 1.9018502,...</td>\n",
       "    </tr>\n",
       "    <tr>\n",
       "      <th>4</th>\n",
       "      <td>Drake</td>\n",
       "      <td>I'm makin' a change today The liquor been takin' the pain away I heard you was givin' your chain away That's kinda like givin' your fame away What's wrong with you? I sit in a box where the owners do A boss is a role that I've grown into I love you to death but I told you the truth I–</td>\n",
       "      <td>[im, makin, change, today, liquor, takin, pain, away, heard, givin, chain, away, thats, kinda, like, givin, fame, away, whats, wrong, sit, box, owners, boss, role, ive, grown, love, death, told, truth, i–]</td>\n",
       "      <td>[[0.12188834, -0.43565154, 0.34084073, -0.8060796, 0.19205038, -0.71717757, 1.2678972, 1.3213547, -1.465972, -0.5656701, -0.08051969, 1.2891339, 1.1333524, 0.58948636, -0.4443255, -0.030862061, 1.2154992, 1.5816468, -1.8806332, -0.15031587, -0.2930959, 0.8411025, 1.1549904, -1.1008632, 1.5331802...</td>\n",
       "    </tr>\n",
       "    <tr>\n",
       "      <th>5</th>\n",
       "      <td>Drake</td>\n",
       "      <td>Ayy, yeah I got one, Laurie got one and that there is the only two Man, how many times have I told you the truth? Man, how many nights I been (Woah) Swervin' them potholes Not tryna fuck up the wheels or fuck up the deals I'm posted in Stockholm It's me, the owls and the twins, it's only the rea...</td>\n",
       "      <td>[ayy, yeah, got, one, laurie, got, one, two, man, many, times, told, truth, man, many, nights, woah, swervin, potholes, tryna, fuck, wheels, fuck, deals, im, posted, stockholm, owls, twins, real, im, movin, way, humble, weezy, handed, still, got, fumbles, im, hot, one, hundo, numero, uno, one, a...</td>\n",
       "      <td>[[-1.7489973, -0.9353843, 3.045907, 0.9955156, -1.635011, -2.6825666, -2.8498957, -0.4187155, -2.2020597, -3.6119843, -1.2225274, -1.0093552, 1.962218, -0.17295271, -0.50632375, -1.619458, 2.9927113, -2.140632, -1.690715, 0.56156003, -2.682254, -1.3792729, 0.7983511, 1.8024687, -1.0167673, 4.902...</td>\n",
       "    </tr>\n",
       "    <tr>\n",
       "      <th>8</th>\n",
       "      <td>Drake</td>\n",
       "      <td>(Six) Yeah Yeah Yeah</td>\n",
       "      <td>[six, yeah, yeah, yeah]</td>\n",
       "      <td>[[-0.37601957, 0.37893364, -0.95591813, -0.39351973, -0.3807331, -0.4940039, -0.3962252, 0.3960694, -0.34640217, 0.09036681, 0.79668707, -1.0847745, 0.6397608, 0.10298203, 0.3429729, -1.2738565, 0.4092755, -0.96095777, 2.2326386, 0.6650753, 1.3856046, -0.34493932, 0.010077048, 0.7201997, -0.6693...</td>\n",
       "    </tr>\n",
       "    <tr>\n",
       "      <th>9</th>\n",
       "      <td>Drake</td>\n",
       "      <td>Leave me out the comments, leave me out the nonsense Speakin' out of context, people need some content Niggas tryna keep up, shit is not a contest Whippin' Benz concept Heaven-sent, God-sent Least that's what my mom says Proof is in the progress, money's not a object Busy than a motherfucker, yo...</td>\n",
       "      <td>[leave, comments, leave, nonsense, speakin, context, people, need, content, niggas, tryna, keep, shit, contest, whippin, benz, concept, heavensent, godsent, least, thats, mom, says, proof, progress, moneys, object, busy, motherfucker, know, job, get, barkin, wrong, tree, know, dogs, get, havent,...</td>\n",
       "      <td>[[-1.1586243, 0.09630344, 1.9987541, 0.6637372, 0.38799202, -1.0370307, 0.01620656, 0.6668379, -1.2514604, 2.1471684, -0.12455832, -2.5115292, 3.562884, 0.15019101, 0.16633753, 0.56509036, -0.72725964, 0.20625708, 0.29627535, -0.82739216, 1.291424, 0.6240084, 1.353739, -0.59022987, 1.1367245, 1....</td>\n",
       "    </tr>\n",
       "    <tr>\n",
       "      <th>10</th>\n",
       "      <td>Drake</td>\n",
       "      <td>Sins, I got sins on my mind And some M's, got a lot of M's on my mind And my friends, yeah, I keep my friends on my mind I'm in love, I'm in love with two girls at one time And they tens, that's why I got ten on my mind I got M's, got a lot of M's on my mind And my friends, yeah, I keep my frien...</td>\n",
       "      <td>[sins, got, sins, mind, ms, got, lot, ms, mind, friends, yeah, keep, friends, mind, im, love, im, love, two, girls, one, time, tens, thats, got, ten, mind, got, ms, got, lot, ms, mind, friends, yeah, keep, friends, mind, repent, need, jesus, life, amen]</td>\n",
       "      <td>[[0.26012045, 0.291193, -0.018313313, 0.08242044, 0.11480901, -0.41633517, -0.2497544, 0.5395485, 0.05406977, -0.063417934, 0.045260284, -0.05692018, -0.04305594, 0.010886482, 0.47268495, -0.5757606, 0.12948525, -0.46310812, 0.16336203, -0.13019708, -0.068484284, -0.49168146, 0.014735492, -0.215...</td>\n",
       "    </tr>\n",
       "    <tr>\n",
       "      <th>11</th>\n",
       "      <td>Drake</td>\n",
       "      <td>I'm from the four, but I love me a threesome DM her, delete it, she my lil' secret He tryna diss me to blow up, I peep it I can't respond, we just go at your people If I left some racks on the bed, you can keep it This shit gettin' deeper and deeper, I dig it My shovel wasn't bent, I was broke, ...</td>\n",
       "      <td>[im, four, love, threesome, dm, delete, lil, secret, tryna, diss, blow, peep, cant, respond, go, people, left, racks, bed, keep, shit, gettin, deeper, deeper, dig, shovel, wasnt, bent, broke, fix, shark, water, swim, lil, fishes, hit, today, tomorrow, miss, grab, neck, look, kiss, im, goat, fit,...</td>\n",
       "      <td>[[0.12188834, -0.43565154, 0.34084073, -0.8060796, 0.19205038, -0.71717757, 1.2678972, 1.3213547, -1.465972, -0.5656701, -0.08051969, 1.2891339, 1.1333524, 0.58948636, -0.4443255, -0.030862061, 1.2154992, 1.5816468, -1.8806332, -0.15031587, -0.2930959, 0.8411025, 1.1549904, -1.1008632, 1.5331802...</td>\n",
       "    </tr>\n",
       "    <tr>\n",
       "      <th>13</th>\n",
       "      <td>Drake</td>\n",
       "      <td>Tryin', tryin', tryin', tryin' I pray these niggas understand how passionate the tale is To get you under my pressure Richer I been tryin', tryin', tryin', tryin' To get you under my pressure Yes, uh Biggest, you feel me? (M-M-M-Maybach Music)</td>\n",
       "      <td>[tryin, tryin, tryin, tryin, pray, niggas, understand, passionate, tale, get, pressure, richer, tryin, tryin, tryin, tryin, get, pressure, yes, uh, biggest, feel, mmmmaybach, music]</td>\n",
       "      <td>[[1.3129358, 2.1400907, 1.3453498, 1.0927886, 0.78227085, 1.1999841, 0.88403845, -1.4472708, -2.699282, 1.5272716, 0.30816054, 1.5772566, 0.17625782, 1.2386523, 1.3226773, 0.9180362, 1.6873157, 2.041435, -0.3802084, 1.110457, 0.5579264, -1.2266839, -4.7939095, 2.1367002, -1.2116785, -1.0746092, ...</td>\n",
       "    </tr>\n",
       "    <tr>\n",
       "      <th>14</th>\n",
       "      <td>Drake</td>\n",
       "      <td>Godfather with a garden full of snakes Call Porsche, time to give away a Wraith Bricks boy, tryna turn 'em into bass Big boy, I been tryin' buy the Braves Courtroom soundin' like I'm in the opera Went and got it, now these niggas wanna knock us Bitches fallin' 'cause they need a couple dollars B...</td>\n",
       "      <td>[godfather, garden, full, snakes, call, porsche, time, give, away, wraith, bricks, boy, tryna, turn, em, bass, big, boy, tryin, buy, braves, courtroom, soundin, like, im, opera, went, got, niggas, wan, na, knock, us, bitches, fallin, cause, need, couple, dollars, aint, problem, cause, nigga, rea...</td>\n",
       "      <td>[[0.0020762004, 0.11376761, 0.0015357075, -0.037033424, 0.093040496, -0.015032881, -0.10925501, 0.062300306, 0.024345864, -0.041811924, 0.011940432, -0.05911974, -0.0998498, 0.013440089, -0.05295357, -0.043619536, -0.04752746, -0.10602296, 0.12965405, -0.020147998, -0.03547794, -0.08845158, 0.02...</td>\n",
       "    </tr>\n",
       "    <tr>\n",
       "      <th>15</th>\n",
       "      <td>Drake</td>\n",
       "      <td>I been tryin', tryin', tryin', tryin' To get you under my pressure I been tryin', tryin', tryin', tryin' To get you under my pressure Tryin', tryin', tryin', tryin'</td>\n",
       "      <td>[tryin, tryin, tryin, tryin, get, pressure, tryin, tryin, tryin, tryin, get, pressure, tryin, tryin, tryin, tryin]</td>\n",
       "      <td>[[1.3129358, 2.1400907, 1.3453498, 1.0927886, 0.78227085, 1.1999841, 0.88403845, -1.4472708, -2.699282, 1.5272716, 0.30816054, 1.5772566, 0.17625782, 1.2386523, 1.3226773, 0.9180362, 1.6873157, 2.041435, -0.3802084, 1.110457, 0.5579264, -1.2266839, -4.7939095, 2.1367002, -1.2116785, -1.0746092, ...</td>\n",
       "    </tr>\n",
       "    <tr>\n",
       "      <th>16</th>\n",
       "      <td>Drake</td>\n",
       "      <td>Yeah, heart just turned purple Three-sixty up front, it all comes full circle Class photographs, Sandy had me on my Urkel (I been tryin', tryin', tryin', tryin') Patty Mahomes, 'bout to fall short a couple hunnid Signed, sealed, delivered, I fucked the notary public She witnessed me sign off on ...</td>\n",
       "      <td>[yeah, heart, turned, purple, threesixty, front, comes, full, circle, class, photographs, sandy, urkel, tryin, tryin, tryin, tryin, patty, mahomes, bout, fall, short, couple, hunnid, signed, sealed, delivered, fucked, notary, public, witnessed, sign, undeniable, numbers, tryin, tryin, tryin, try...</td>\n",
       "      <td>[[-0.801846, 0.029387932, -0.33697376, -1.7749062, -1.7970122, -0.10777654, 0.043245822, -1.484089, -1.348094, -0.4362428, -1.8203331, 0.037582755, 0.026335642, -0.70667225, 0.034614686, -1.2491779, -1.2504231, -1.1737561, -0.51277906, -1.3706106, -0.79421115, -0.97691894, 1.3720274, 0.4050224, ...</td>\n",
       "    </tr>\n",
       "    <tr>\n",
       "      <th>17</th>\n",
       "      <td>Drake</td>\n",
       "      <td>I been tryin', tryin', tryin', tryin' To get you under my pressure I been tryin', tryin', tryin', tryin' To get you under my pressure</td>\n",
       "      <td>[tryin, tryin, tryin, tryin, get, pressure, tryin, tryin, tryin, tryin, get, pressure]</td>\n",
       "      <td>[[1.3129358, 2.1400907, 1.3453498, 1.0927886, 0.78227085, 1.1999841, 0.88403845, -1.4472708, -2.699282, 1.5272716, 0.30816054, 1.5772566, 0.17625782, 1.2386523, 1.3226773, 0.9180362, 1.6873157, 2.041435, -0.3802084, 1.110457, 0.5579264, -1.2266839, -4.7939095, 2.1367002, -1.2116785, -1.0746092, ...</td>\n",
       "    </tr>\n",
       "    <tr>\n",
       "      <th>18</th>\n",
       "      <td>Drake</td>\n",
       "      <td>Ayy, yeah Pipe this shit up and I turn this shit up When I was down, I was down Now them diamonds for fun like damn Ayy, yeah</td>\n",
       "      <td>[ayy, yeah, pipe, shit, turn, shit, diamonds, fun, like, damn, ayy, yeah]</td>\n",
       "      <td>[[-1.7489973, -0.9353843, 3.045907, 0.9955156, -1.635011, -2.6825666, -2.8498957, -0.4187155, -2.2020597, -3.6119843, -1.2225274, -1.0093552, 1.962218, -0.17295271, -0.50632375, -1.619458, 2.9927113, -2.140632, -1.690715, 0.56156003, -2.682254, -1.3792729, 0.7983511, 1.8024687, -1.0167673, 4.902...</td>\n",
       "    </tr>\n",
       "    <tr>\n",
       "      <th>19</th>\n",
       "      <td>Drake</td>\n",
       "      <td>Trendsetter, Ben Frank getter (Yeah) Whip whatever, whip whatever I buy diamonds when I'm under pressure (Yeah) When I apply it, shit don’t ever let up, yeah Look, I'm in the cut, The Boy in the cut Jump in the whip where the ceilings go up, we up All of this grindin' for what? It’s funny when y...</td>\n",
       "      <td>[trendsetter, ben, frank, getter, yeah, whip, whatever, whip, whatever, buy, diamonds, im, pressure, yeah, apply, shit, ’, ever, let, yeah, look, im, cut, boy, cut, jump, whip, ceilings, go, grindin, ’, funny, niggas, thought, luck, give, pass, play, money, family, friends, compete, niggas, comp...</td>\n",
       "      <td>[[-0.040128138, 0.043025438, -0.11310103, 0.011343542, -0.08253471, -0.09548894, 0.02353579, 0.16450842, -0.111879066, -0.012311347, -0.03946012, -0.058607824, -0.0791504, 0.044042278, 0.0607148, -0.096286945, 0.01978017, -0.15613534, -0.023496222, -0.087664485, 0.08950917, -0.06011488, 0.087832...</td>\n",
       "    </tr>\n",
       "    <tr>\n",
       "      <th>20</th>\n",
       "      <td>Drake</td>\n",
       "      <td>Still in the cut, The Boy in the cut Hop in the whip where the ceilings go up, we up</td>\n",
       "      <td>[still, cut, boy, cut, hop, whip, ceilings, go]</td>\n",
       "      <td>[[-1.0551273, -1.3319361, -0.4293386, -4.5953217, 3.2028055, -0.3867253, -0.6526863, -0.7590355, -2.3279395, -1.7614179, -0.9365841, 0.26150835, 2.2889335, -0.20843624, -0.2650608, -2.3733106, 1.3541001, 0.05127336, -0.7007374, -1.9194276, -1.7377979, 1.9450965, -0.06894601, 0.24076706, -0.64336...</td>\n",
       "    </tr>\n",
       "    <tr>\n",
       "      <th>21</th>\n",
       "      <td>Drake</td>\n",
       "      <td>And I'm way up at the top of the loft Gotta stay up, ain't no knockin' me off Pull up smooth, A.I. with the cross (Haha) Countin' up wins on wins on wins, for all of my dawgs I lost I might call Pharrell, get the new Chanel Thugger got the YSL, huh I remember when the Feds did the sweep, I pray ...</td>\n",
       "      <td>[im, way, top, loft, got, ta, stay, aint, knockin, pull, smooth, ai, cross, haha, countin, wins, wins, wins, dawgs, lost, might, call, pharrell, get, new, chanel, thugger, got, ysl, huh, remember, feds, sweep, pray, dawgs, didnt, tell, huh, cruisin, ’, biscayne, miami, gave, top, top, cartier, w...</td>\n",
       "      <td>[[0.12188834, -0.43565154, 0.34084073, -0.8060796, 0.19205038, -0.71717757, 1.2678972, 1.3213547, -1.465972, -0.5656701, -0.08051969, 1.2891339, 1.1333524, 0.58948636, -0.4443255, -0.030862061, 1.2154992, 1.5816468, -1.8806332, -0.15031587, -0.2930959, 0.8411025, 1.1549904, -1.1008632, 1.5331802...</td>\n",
       "    </tr>\n",
       "    <tr>\n",
       "      <th>22</th>\n",
       "      <td>Drake</td>\n",
       "      <td>Still in the cut, The Boy in the cut, yeah Hop in the whip where the ceilings go up, we up</td>\n",
       "      <td>[still, cut, boy, cut, yeah, hop, whip, ceilings, go]</td>\n",
       "      <td>[[-1.0551273, -1.3319361, -0.4293386, -4.5953217, 3.2028055, -0.3867253, -0.6526863, -0.7590355, -2.3279395, -1.7614179, -0.9365841, 0.26150835, 2.2889335, -0.20843624, -0.2650608, -2.3733106, 1.3541001, 0.05127336, -0.7007374, -1.9194276, -1.7377979, 1.9450965, -0.06894601, 0.24076706, -0.64336...</td>\n",
       "    </tr>\n",
       "    <tr>\n",
       "      <th>23</th>\n",
       "      <td>Drake</td>\n",
       "      <td>Ayy (Now you know how) Now I gotta tell you how lucky I am (Oh, now you know) This shit could have went a hundred different ways on a thousand different days for real Yeah, whoop, ayy</td>\n",
       "      <td>[ayy, know, got, ta, tell, lucky, oh, know, shit, could, went, hundred, different, ways, thousand, different, days, real, yeah, whoop, ayy]</td>\n",
       "      <td>[[-1.7489973, -0.9353843, 3.045907, 0.9955156, -1.635011, -2.6825666, -2.8498957, -0.4187155, -2.2020597, -3.6119843, -1.2225274, -1.0093552, 1.962218, -0.17295271, -0.50632375, -1.619458, 2.9927113, -2.140632, -1.690715, 0.56156003, -2.682254, -1.3792729, 0.7983511, 1.8024687, -1.0167673, 4.902...</td>\n",
       "    </tr>\n",
       "    <tr>\n",
       "      <th>24</th>\n",
       "      <td>Drake</td>\n",
       "      <td>On my way to the boat like I ain't just have on a coat when I landed Owl branded Perched at the edge of the branches They don't wanna talk mansions, mine look like a campus And I'm all about my brothers like the niggas I'm samplin' I'll leave you red-shirted like the twins from Kansas Really liv...</td>\n",
       "      <td>[way, boat, like, aint, coat, landed, owl, branded, perched, edge, branches, dont, wan, na, talk, mansions, mine, look, like, campus, im, brothers, like, niggas, im, samplin, ill, leave, redshirted, like, twins, kansas, really, livin, dreams, used, aunts, crib, might, throw, rockefeller, chain, ...</td>\n",
       "      <td>[[1.7998718, -1.6037016, 0.6505064, 3.3458574, -1.5497414, 0.15612547, -0.72092545, 0.3614656, -3.000924, -1.2369602, -0.77465564, -0.57229847, 3.7183867, -0.4200391, 1.260235, -1.2921445, -1.1852366, 1.6780864, -0.98916936, 0.018707203, 3.0836182, 1.7572626, -3.3276348, -0.48637697, 1.5961368, ...</td>\n",
       "    </tr>\n",
       "    <tr>\n",
       "      <th>25</th>\n",
       "      <td>Drake</td>\n",
       "      <td>Woah, woah Yeah</td>\n",
       "      <td>[woah, woah, yeah]</td>\n",
       "      <td>[[-1.2332963, 0.099240094, -1.2694288, 1.2276123, -0.4224163, -1.195942, -0.8494697, 0.39352906, -2.0592463, 1.2703395, -2.0926576, -2.1525114, 0.5180665, 1.3897152, 1.3673908, 0.794638, 1.8735675, -3.3023996, 1.4863169, -2.7879212, 0.42327556, -0.4044043, 1.5641094, 0.09876001, -2.1324172, -1.5...</td>\n",
       "    </tr>\n",
       "    <tr>\n",
       "      <th>26</th>\n",
       "      <td>Drake</td>\n",
       "      <td>Sometimes we laugh and sometimes we cry, but I guess you know now, baby I took a half and she took the whole thing, slow down, baby We took a trip, now we on your block and it's like a ghost town, baby Where do these niggas be at when they say they doin' all this and all that?</td>\n",
       "      <td>[sometimes, laugh, sometimes, cry, guess, know, baby, took, half, took, whole, thing, slow, baby, took, trip, block, like, ghost, town, baby, niggas, say, doin]</td>\n",
       "      <td>[[-0.7775285, 1.92143, 1.0312474, -1.0730075, 2.1723473, -0.5404956, 0.6365258, -0.85602427, -0.18706103, 2.3102262, -0.27620897, -0.07959128, -1.3154289, 1.0713091, 0.58592725, 0.5483903, 0.97249943, -0.33886856, 1.5385785, -2.6495297, -0.86487114, 0.8986464, -0.20016932, 0.073668435, 1.7880846...</td>\n",
       "    </tr>\n",
       "    <tr>\n",
       "      <th>27</th>\n",
       "      <td>Drake</td>\n",
       "      <td>Tired of beefin' you bums, you can't even pay me enough to react Been wakin' up in the crib and sometimes I don't even know where I'm at Please don't play that nigga songs in this party, I can't even listen to that Anytime that I ran into somebody, it must be a victory lap, ayy Shawty, come sit ...</td>\n",
       "      <td>[tired, beefin, bums, cant, even, pay, enough, react, wakin, crib, sometimes, dont, even, know, im, please, dont, play, nigga, songs, party, cant, even, listen, anytime, ran, somebody, must, victory, lap, ayy, shawty, come, sit, lap, ayy, sayin, drizzy, snap, distance, us, like, store, isnt, clo...</td>\n",
       "      <td>[[-1.3307753, -0.39927927, 0.6554601, -1.6975374, -0.31615144, -0.6022589, 0.86622685, 1.8951231, -0.97311336, -0.70782286, -0.19925937, 0.6046611, 0.38645905, 1.3742422, -0.21997768, -0.35150814, -1.3776596, -0.9307303, -1.2278517, -0.46567804, -0.4562777, -0.37189046, 0.4293165, -1.2798699, -0...</td>\n",
       "    </tr>\n",
       "    <tr>\n",
       "      <th>28</th>\n",
       "      <td>Drake</td>\n",
       "      <td>I know that they at the crib goin' crazy, down bad What they had didn't last, damn, baby</td>\n",
       "      <td>[know, crib, goin, crazy, bad, didnt, last, damn, baby]</td>\n",
       "      <td>[[0.18528189, 0.07605789, 0.27870965, 0.62764734, -0.24788415, -0.70944, -0.06095344, -0.8869798, -0.7481392, 0.8215228, -0.4787756, -0.6763346, 0.39255664, -1.0512404, 0.104630165, -1.5296086, 0.69743615, 1.5963961, -0.8875299, -0.13858247, -1.4532378, 0.1170003, 0.38015673, -1.5760437, 0.35502...</td>\n",
       "    </tr>\n",
       "    <tr>\n",
       "      <th>30</th>\n",
       "      <td>Drake</td>\n",
       "      <td>I'm in the trenches, relax Can you not play that lil' boy in the club? 'Cause we do not listen to rats We in Atlanta, I buy her a wig, she tellin' me Tae is the best Point at the nigga who act like a killer, but you only one from the 'net I'm like DaBaby, I'm not just a rapper, you play with me,...</td>\n",
       "      <td>[im, trenches, relax, play, lil, boy, club, cause, listen, rats, atlanta, buy, wig, tellin, tae, best, point, nigga, act, like, killer, one, net, im, like, dababy, im, rapper, play, gon, get, stretched, oohoh, bring, drake, hood, surround, drake, around, dracs, even, though, got, case, ima, take...</td>\n",
       "      <td>[[0.12188834, -0.43565154, 0.34084073, -0.8060796, 0.19205038, -0.71717757, 1.2678972, 1.3213547, -1.465972, -0.5656701, -0.08051969, 1.2891339, 1.1333524, 0.58948636, -0.4443255, -0.030862061, 1.2154992, 1.5816468, -1.8806332, -0.15031587, -0.2930959, 0.8411025, 1.1549904, -1.1008632, 1.5331802...</td>\n",
       "    </tr>\n",
       "    <tr>\n",
       "      <th>33</th>\n",
       "      <td>Drake</td>\n",
       "      <td>When he tell the story, that's not how it went Know they be lyin', a hundred percent Moved out the Ritz and forgot 'bout the Bent' Valet just called me to tell me come get it Knocked that boy off and I don't want no credit If it was me, they wouldn't regret it Left me for dead and now they wan' ...</td>\n",
       "      <td>[tell, story, thats, went, know, lyin, hundred, percent, moved, ritz, forgot, bout, bent, valet, called, tell, come, get, knocked, boy, dont, want, credit, wouldnt, regret, left, dead, wan, dead, yeah, heart, still, beatin, niggas, still, eatin, backyard, look, like, garden, eden, pillow, talk, ...</td>\n",
       "      <td>[[-0.8033328, 1.262377, -1.3314614, 1.1227783, 0.21895535, 0.4479252, 1.9903641, 0.39137977, 0.7223997, -0.7987705, -1.112227, 0.31747302, -1.8072064, 0.27538264, -2.6281564, 2.8306427, -0.2640844, -2.3837366, -2.1674888, -1.4400388, -2.2658339, 1.0824118, 2.10024, 1.1949687, 1.1499217, -2.37152...</td>\n",
       "    </tr>\n",
       "    <tr>\n",
       "      <th>36</th>\n",
       "      <td>Drake</td>\n",
       "      <td>Yeah Yeah, ayy</td>\n",
       "      <td>[yeah, yeah, ayy]</td>\n",
       "      <td>[[-0.801846, 0.029387932, -0.33697376, -1.7749062, -1.7970122, -0.10777654, 0.043245822, -1.484089, -1.348094, -0.4362428, -1.8203331, 0.037582755, 0.026335642, -0.70667225, 0.034614686, -1.2491779, -1.2504231, -1.1737561, -0.51277906, -1.3706106, -0.79421115, -0.97691894, 1.3720274, 0.4050224, ...</td>\n",
       "    </tr>\n",
       "    <tr>\n",
       "      <th>37</th>\n",
       "      <td>Drake</td>\n",
       "      <td>It was meant to happen, the most trusted going triple platinum Link with Mac, link with Fee, if I'm down in Baton Link with Tez, link with Zhii, when I'm down in Jackson Just got back, overseas I was the main attraction This ain't them, this is me, so you know what's crackin'</td>\n",
       "      <td>[meant, happen, trusted, going, triple, platinum, link, mac, link, fee, im, baton, link, tez, link, zhii, im, jackson, got, back, overseas, main, attraction, aint, know, whats, crackin]</td>\n",
       "      <td>[[0.8699848, -0.4178891, -0.4304151, 0.57655275, -0.7109562, -0.31270838, -0.0056399056, 1.3379636, -0.29557976, -0.3567626, -0.0067888745, -0.24625239, 0.10929344, 0.6773883, -0.68945754, -0.56451523, 0.6035881, 0.5254881, 0.5591933, -0.83714986, 1.3467976, -0.5028145, 0.4369666, -0.2804609, 0....</td>\n",
       "    </tr>\n",
       "    <tr>\n",
       "      <th>...</th>\n",
       "      <td>...</td>\n",
       "      <td>...</td>\n",
       "      <td>...</td>\n",
       "      <td>...</td>\n",
       "    </tr>\n",
       "    <tr>\n",
       "      <th>3945</th>\n",
       "      <td>Kanye West</td>\n",
       "      <td>Rain, rain, rain go away Let the sun come out and all the children say Rain, rain, rain go away Let the sun come out and all the children say</td>\n",
       "      <td>[rain, rain, rain, go, away, let, sun, come, children, say, rain, rain, rain, go, away, let, sun, come, children, say]</td>\n",
       "      <td>[[0.8905007, -0.44041649, -0.39841667, -1.6479619, 0.82377654, -1.0306683, -0.810066, 0.58298695, 0.84287024, -1.8951313, 0.10026765, -2.2364416, 1.955923, -0.46850306, 0.78535753, 0.6586583, 1.060585, -0.73036873, 0.39507082, -2.5421798, 1.0683022, -0.21319091, -0.46741173, -0.8916144, 0.619219...</td>\n",
       "    </tr>\n",
       "    <tr>\n",
       "      <th>3946</th>\n",
       "      <td>Kanye West</td>\n",
       "      <td>I woke up early this morning with a new state of mind A creative way to rhyme without using knives and guns Keep your nose out the sky, keep your heart to God And keep your face to the risin' sun All my niggas from the Chi, that's my family, dog And my niggas ain't my guys, they my family, dog I...</td>\n",
       "      <td>[woke, early, morning, new, state, mind, creative, way, rhyme, without, using, knives, guns, keep, nose, sky, keep, heart, god, keep, face, risin, sun, niggas, chi, thats, family, dog, niggas, aint, guys, family, dog, feel, like, one, day, youll, understand, dog, still, love, man, manly, dog, ai...</td>\n",
       "      <td>[[0.28875676, 0.19182575, 0.7089262, -0.35769698, -0.1454836, -1.7464666, -0.43503925, 0.52178866, -0.4193695, -0.5663543, 0.27606067, -0.83148545, -0.5531231, -0.2740835, -0.17717686, 0.26403785, 0.37933636, -0.7716921, 0.19382587, -1.0414834, 1.0766233, 0.11813296, -0.005549765, -0.19206528, -...</td>\n",
       "    </tr>\n",
       "    <tr>\n",
       "      <th>3947</th>\n",
       "      <td>Kanye West</td>\n",
       "      <td>(All all all the diamond rings diamond rings) They don't mean a thing (all, all, all the things) They don't mean a thing (all, all, all the things) (All all that glitters is not gold, now gold is not reality) They don't mean a thing a thing (All, all, all the things) They don't mean a thing a th...</td>\n",
       "      <td>[diamond, rings, diamond, rings, dont, mean, thing, things, dont, mean, thing, things, glitters, gold, gold, reality, dont, mean, thing, thing, things, dont, mean, thing, thing, thing, dont, care, dont, mean, thing, things, fancy, things, tell, weight, gold, know, know, things, things, things, t...</td>\n",
       "      <td>[[-0.16351746, 0.52117133, -0.19081609, -0.55474025, 0.7275279, -0.5474024, -0.65487355, -0.2770105, -0.030722355, 0.8911534, -0.67207545, 0.6353495, -0.6533718, 0.5323602, 0.66299146, -1.3037337, -0.11724521, -0.30759314, -1.0258617, 0.16881332, -0.21517508, -0.17508242, 0.03339766, -0.744135, ...</td>\n",
       "    </tr>\n",
       "    <tr>\n",
       "      <th>3948</th>\n",
       "      <td>Kanye West</td>\n",
       "      <td>CLK Mercedes Benz All these things, all these things ... All these things, all these things ... All these things, all these things ... A whole lotta money All these things, all these things All these things, all these things All these things, all these things Mommy and Daddy, will you please sto...</td>\n",
       "      <td>[clk, mercedes, benz, things, things, things, things, things, things, whole, lotta, money, things, things, things, things, things, things, mommy, daddy, please, stop, fighting, things, things, things, dont, care, things, things, things, things, things, lets, get, stevie, outta, jail]</td>\n",
       "      <td>[[-0.0074744597, 0.040896982, -0.11899728, 0.058776297, 0.03264584, -0.043447345, 0.00036059204, 0.1395137, -0.006824301, -0.062596776, 0.028546255, -0.11163594, -0.06259385, 0.028317735, 0.06927496, -0.04142386, 0.07701298, -0.11985729, -0.004132402, -0.04798355, 0.06645186, 0.0107599655, -0.00...</td>\n",
       "    </tr>\n",
       "    <tr>\n",
       "      <th>3949</th>\n",
       "      <td>Kanye West</td>\n",
       "      <td>Yo fuck you, Kanye, first and foremost For making me do this shit. Muh'fucker Had to throw everybody out the motherfucking room Cause they don't fucking</td>\n",
       "      <td>[yo, fuck, kanye, first, foremost, making, shit, muhfucker, throw, everybody, motherfucking, room, cause, dont, fucking]</td>\n",
       "      <td>[[-1.4584669, 1.6060878, -1.1865829, 0.7235078, -1.0040756, -1.0000627, -0.77406275, -0.81099206, 0.54772365, -0.27981162, 0.8590145, -2.1151874, -0.87139195, 1.3327084, -2.5747986, 0.51363474, -0.38087058, -1.0869547, 0.4544942, -1.060921, -0.61580765, -0.7446827, -0.24485488, 3.0944204, 0.0205...</td>\n",
       "    </tr>\n",
       "    <tr>\n",
       "      <th>3950</th>\n",
       "      <td>Kanye West</td>\n",
       "      <td>I'd like to propose a toast I said toast motherfucker!</td>\n",
       "      <td>[id, like, propose, toast, said, toast, motherfucker]</td>\n",
       "      <td>[[-1.190572, -2.6399562, 0.8119916, -1.9589714, 0.20147057, -3.05736, 1.2068486, 2.0359485, 0.91239405, -1.0890715, -2.9725168, 1.644289, -1.2673262, -1.5411611, -2.2186427, -1.353724, -0.9453871, 0.7665443, 0.94538367, -1.0817577, 0.9154615, 1.4880432, -1.8332211, 2.69634, 0.4165321, 1.1023589,...</td>\n",
       "    </tr>\n",
       "    <tr>\n",
       "      <th>3951</th>\n",
       "      <td>Kanye West</td>\n",
       "      <td>And I am (Here's to the Roc) And they ask me, they ask me, they ask me, I tell them (Here's to Roc-A-Fella) Raise your glasses, your glasses, your glasses to the sky and (Here's to the Roc) This is the last call for alcohol, for the (Mr. Rockefeller) So get your ass up off the wall</td>\n",
       "      <td>[heres, roc, ask, ask, ask, tell, heres, rocafella, raise, glasses, glasses, glasses, sky, heres, roc, last, call, alcohol, mr, rockefeller, get, ass, wall]</td>\n",
       "      <td>[[1.2372874, 0.66172487, -0.43082052, 0.51327056, 0.5478736, 0.89017963, 0.2475656, 1.2327819, 0.9606356, -0.08445845, -0.4465077, -1.0945772, -1.1713679, 0.37591892, -0.13878143, -0.21658383, 0.46553135, -0.07795094, 0.22468324, -0.7911976, 0.15595865, -0.30749983, -0.1755399, 2.2586625, 0.9340...</td>\n",
       "    </tr>\n",
       "    <tr>\n",
       "      <th>3952</th>\n",
       "      <td>Kanye West</td>\n",
       "      <td>The all around the world Digital Underground Pac The Rudolph the red-nosed reindeer of the Roc I take my chain, my 15 seconds of fame And come back next year with the whole fucking game Ain't nobody expect Kanye to end up on top They expected that College Dropout to drop and then flop Then maybe...</td>\n",
       "      <td>[around, world, digital, underground, pac, rudolph, rednosed, reindeer, roc, take, chain, seconds, fame, come, back, next, year, whole, fucking, game, aint, nobody, expect, kanye, end, top, expected, college, dropout, drop, flop, maybe, stop, savin, good, beats, rocafellas, niggas, helped, money...</td>\n",
       "      <td>[[1.2929103, -2.2129247, -0.9177675, -2.1894505, -0.62845683, 0.61443293, -0.4102747, 0.52969724, 2.6268148, -2.0801775, 1.1174002, -1.9807894, 3.2394574, 0.042014703, 0.79176503, -0.98807156, 1.4740094, 1.4654176, -2.526319, 2.564561, 1.8058634, 1.3403279, 0.9850799, 4.4162607, 0.45878997, -0.0...</td>\n",
       "    </tr>\n",
       "    <tr>\n",
       "      <th>3953</th>\n",
       "      <td>Kanye West</td>\n",
       "      <td>Now I am (Here's to the Roc) And they ask me, they ask me, they ask me, I tell them (Here's to Roc-A-Fella) Raise your glasses, your glasses, your glasses to the sky and (Here's to the Roc) This is the last call for alcohol, for the (Mr. Rockefeller) So get your ass up off the wall</td>\n",
       "      <td>[heres, roc, ask, ask, ask, tell, heres, rocafella, raise, glasses, glasses, glasses, sky, heres, roc, last, call, alcohol, mr, rockefeller, get, ass, wall]</td>\n",
       "      <td>[[1.2372874, 0.66172487, -0.43082052, 0.51327056, 0.5478736, 0.89017963, 0.2475656, 1.2327819, 0.9606356, -0.08445845, -0.4465077, -1.0945772, -1.1713679, 0.37591892, -0.13878143, -0.21658383, 0.46553135, -0.07795094, 0.22468324, -0.7911976, 0.15595865, -0.30749983, -0.1755399, 2.2586625, 0.9340...</td>\n",
       "    </tr>\n",
       "    <tr>\n",
       "      <th>3954</th>\n",
       "      <td>Kanye West</td>\n",
       "      <td>Now was Kanye the most overlooked? Yes sir Now is Kanye the most overbooked? Yes sir Though the fans want the feeling of A Tribe Called Quest But all they got left is this guy called West That'll take Freeway, throw him on tracks with Mos Def Call him Kwa-li or Kwe-li, I put him on songs with JA...</td>\n",
       "      <td>[kanye, overlooked, yes, sir, kanye, overbooked, yes, sir, though, fans, want, feeling, tribe, called, quest, got, left, guy, called, west, thatll, take, freeway, throw, tracks, mos, def, call, kwali, kweli, put, songs, jayz, im, gap, like, banana, republic, old, navy, oooh, come, sweeter, old, ...</td>\n",
       "      <td>[[2.1944602, -1.5609143, 0.29563534, -0.828212, -1.2882856, -0.12145205, 0.95379126, 1.127666, 0.27030414, -1.3536502, -1.303941, -0.5149675, -0.3544533, -0.8164072, -1.2695043, -0.5753519, -0.1673983, -1.4916153, 0.36314526, -1.9408063, 0.58126754, 0.9752602, -0.61445755, 0.37312996, -1.7736664...</td>\n",
       "    </tr>\n",
       "    <tr>\n",
       "      <th>3955</th>\n",
       "      <td>Kanye West</td>\n",
       "      <td>And I am (Here's to the Roc) And they ask me, they ask me, they ask me, I tell them (Here's to Roc-A-Fella) Raise your glasses, your glasses, your glasses to the sky and (Here's to the Roc) This is the last call for alcohol, for my niggas (Mr. Rockefeller) So get your ass up off the wall</td>\n",
       "      <td>[heres, roc, ask, ask, ask, tell, heres, rocafella, raise, glasses, glasses, glasses, sky, heres, roc, last, call, alcohol, niggas, mr, rockefeller, get, ass, wall]</td>\n",
       "      <td>[[1.2372874, 0.66172487, -0.43082052, 0.51327056, 0.5478736, 0.89017963, 0.2475656, 1.2327819, 0.9606356, -0.08445845, -0.4465077, -1.0945772, -1.1713679, 0.37591892, -0.13878143, -0.21658383, 0.46553135, -0.07795094, 0.22468324, -0.7911976, 0.15595865, -0.30749983, -0.1755399, 2.2586625, 0.9340...</td>\n",
       "    </tr>\n",
       "    <tr>\n",
       "      <th>3956</th>\n",
       "      <td>Kanye West</td>\n",
       "      <td>So this A&amp;R over at Roc-A-Fella, named Hip Hop Picked the \"Truth\" beat for Beanie. And I was in the session with him. I had my demo with me. You know, like I always do. I play the songs, he's like \"Who that spittin'?\" I'm like \"It's me.\" He's like \"Oh, well okay.\" Uhh, he started talkin' to me o...</td>\n",
       "      <td>[ar, rocafella, named, hip, hop, picked, truth, beat, beanie, session, demo, know, like, always, play, songs, hes, like, spittin, im, like, hes, like, oh, well, okay, uhh, started, talkin, phone, going, back, forth, askin, send, beats, im, thinking, hes, trying, get, managing, producers, cause, ...</td>\n",
       "      <td>[[-0.13820067, -0.21978009, -0.4592038, -0.030046983, 0.15069458, -0.08009393, -0.12440291, 0.6138437, 0.10978931, -0.05533077, -0.07752186, -0.1577714, -0.30607116, 0.41259786, -0.16557756, -0.18022864, 0.056120075, -0.35368544, 0.16741312, -0.0776118, 0.21157797, -0.07628539, -0.058157, 0.1937...</td>\n",
       "    </tr>\n",
       "    <tr>\n",
       "      <th>3957</th>\n",
       "      <td>Kanye West</td>\n",
       "      <td>I was all, I dunno if he was gassin' me or not but he's like he wanna manage me as a rapper AND a producer</td>\n",
       "      <td>[dunno, gassin, hes, like, wan, na, manage, rapper, producer]</td>\n",
       "      <td>[[-0.11788175, 0.41433644, -0.20540674, 0.10569413, -0.119231105, -0.3848049, -0.14003406, 0.22955327, 0.051217627, -0.10564813, -0.035587404, -0.018838549, -0.28940064, -0.05474709, 0.34818166, -0.39481157, -0.11316427, -0.07741255, 0.12338304, -0.3512274, 0.23352297, 0.06445444, 0.16141011, 0....</td>\n",
       "    </tr>\n",
       "    <tr>\n",
       "      <th>3958</th>\n",
       "      <td>Kanye West</td>\n",
       "      <td>I'm like oh shit. I was messin' with, uh, D-Dot also. People were like this, started talking about the ghost production but that's how I got in the game. If it wasn't for that, I wouldn't be here. So you know, after they picked that \"Truth\" beat I was figuring I was gonna do some more work but s...</td>\n",
       "      <td>[im, like, oh, shit, messin, uh, ddot, also, people, like, started, talking, ghost, production, thats, got, game, wasnt, wouldnt, know, picked, truth, beat, figuring, gon, na, work, shit, wasnt, poppin, like, stayin, chicago, apartment, doin, like, beats, local, acts, try, keep, lights, go, buy,...</td>\n",
       "      <td>[[0.12188834, -0.43565154, 0.34084073, -0.8060796, 0.19205038, -0.71717757, 1.2678972, 1.3213547, -1.465972, -0.5656701, -0.08051969, 1.2891339, 1.1333524, 0.58948636, -0.4443255, -0.030862061, 1.2154992, 1.5816468, -1.8806332, -0.15031587, -0.2930959, 0.8411025, 1.1549904, -1.1008632, 1.5331802...</td>\n",
       "    </tr>\n",
       "    <tr>\n",
       "      <th>3959</th>\n",
       "      <td>Kanye West</td>\n",
       "      <td>And he, uh, played the song cause he already spit his verse by the time I got to the studio. You know how he do it, one take. And he said</td>\n",
       "      <td>[uh, played, song, cause, already, spit, verse, time, got, studio, know, one, take, said]</td>\n",
       "      <td>[[-0.001885922, -1.5597379, -1.424612, -0.57347107, 0.115136325, -0.5056577, 4.2586904, 1.6934625, -1.199789, 1.537788, 1.3023874, -2.0982518, 0.49807635, -2.340068, 1.8442397, 0.7975358, 1.6707104, 0.08227449, 0.5156825, 0.14764927, -1.0492773, 0.34247592, -0.44673064, -0.25899267, -1.0729301, ...</td>\n",
       "    </tr>\n",
       "    <tr>\n",
       "      <th>3960</th>\n",
       "      <td>Kanye West</td>\n",
       "      <td>\"Tell me what you think of this.\" And I heard it, and I was thinking like, man, I really wanted more like of the simple type JAY-Z. I ain't want like the, the more introspective, complicated rhy- or the... in my personal opinion. So he asked me, \"What you think of it?\"</td>\n",
       "      <td>[tell, think, heard, thinking, like, man, really, wanted, like, simple, type, jayz, aint, want, like, introspective, complicated, rhy, personal, opinion, asked, think]</td>\n",
       "      <td>[[-0.8033328, 1.262377, -1.3314614, 1.1227783, 0.21895535, 0.4479252, 1.9903641, 0.39137977, 0.7223997, -0.7987705, -1.112227, 0.31747302, -1.8072064, 0.27538264, -2.6281564, 2.8306427, -0.2640844, -2.3837366, -2.1674888, -1.4400388, -2.2658339, 1.0824118, 2.10024, 1.1949687, 1.1499217, -2.37152...</td>\n",
       "    </tr>\n",
       "    <tr>\n",
       "      <th>3961</th>\n",
       "      <td>Kanye West</td>\n",
       "      <td>And I was like, \"Man that shit tight,\" you know what I'm sayin', man what I'ma tell him? I was on the train, man, you know. So after that, I went back home. And man I'm, I'm just in Chicago, I'm trying to do my thing. You know, I got groups. I got acts I'm trying to get on, and like there wasn't...</td>\n",
       "      <td>[like, man, shit, tight, know, im, sayin, man, ima, tell, train, man, know, went, back, home, man, im, im, chicago, im, trying, thing, know, got, groups, got, acts, im, trying, get, like, wasnt, nothin, really, like, poppin, way, one, homies, one, artists, got, signed, supposed, really, go, prod...</td>\n",
       "      <td>[[-1.151783, 0.12924378, 1.7018288, -0.18467335, 0.60015464, -0.43483075, 0.4649704, 0.43684384, 0.43159974, -0.8131354, 0.0352952, 0.24734141, 0.03569845, 1.6284262, 0.967623, 0.98912704, 1.0090365, 0.34491044, 1.9435381, -0.49262795, 0.5824534, -0.6090644, 1.1700573, -0.5604438, 1.3691909, -0....</td>\n",
       "    </tr>\n",
       "    <tr>\n",
       "      <th>3962</th>\n",
       "      <td>Kanye West</td>\n",
       "      <td>...Newark, New Jersey. I hadn't even seen my apartment. I remember I pulled up...</td>\n",
       "      <td>[newark, new, jersey, hadnt, even, seen, apartment, remember, pulled]</td>\n",
       "      <td>[[0.1342291, 0.0035199486, 0.039998297, 0.06715308, 0.095067196, -0.18223086, 0.060857657, 0.33886382, -0.15492795, 0.101673484, 0.15065761, -0.11744322, -0.15511, 0.10350991, 0.111622125, -0.12124746, 0.06359169, -0.03462577, 0.096628, -0.105657, 0.2090883, 0.13282275, 0.16251029, 0.030317035, ...</td>\n",
       "    </tr>\n",
       "    <tr>\n",
       "      <th>3963</th>\n",
       "      <td>Kanye West</td>\n",
       "      <td>...I unpacked all my shit. You know, we went to Ikea, I bought a bed, I put the bed together myself. I loaded up all my equipment, and the first beat I made was, uh, \"Heart of the City.\" And Beans was still working on his album at that time, so I came up there to Baseline, it was Beans' birthday...</td>\n",
       "      <td>[unpacked, shit, know, went, ikea, bought, bed, put, bed, together, loaded, equipment, first, beat, made, uh, heart, city, beans, still, working, album, time, came, baseline, beans, birthday, matter, fact, played, like, seven, beats, know, guess, zone, already, beats, wanted, nothing, like, alre...</td>\n",
       "      <td>[[0.034491144, 0.016888706, -0.06962686, -0.06145078, -0.0058359443, -0.18500262, 0.009402379, 0.113489926, 0.11786491, -0.1583473, -0.008473684, -0.015442526, -0.08579668, 0.072713695, 0.08459968, 0.001733631, 0.088260934, -0.18491781, -0.030303786, -0.17413507, 0.0117505435, 0.01421713, -0.041...</td>\n",
       "    </tr>\n",
       "    <tr>\n",
       "      <th>3964</th>\n",
       "      <td>Kanye West</td>\n",
       "      <td>And I played another beat, and I played another beat. And I remember that Gucci bucket, he took it and like put it over his face and made one of them faces like 'OOOOOOOOOOH.' Two days later I'm in Baseline and I seen Dame. Dame didn't know who I was and I was like, \"Yo what's up I'm Kanye.\"</td>\n",
       "      <td>[played, another, beat, played, another, beat, remember, gucci, bucket, took, like, put, face, made, one, faces, like, ooooooooooh, two, days, later, im, baseline, seen, dame, dame, didnt, know, like, yo, whats, im, kanye]</td>\n",
       "      <td>[[0.6622297, -0.04126135, 0.6114118, -0.57406074, -0.48682055, -1.3175633, 0.5813829, 1.4947764, 0.09051313, -0.81267756, -0.3677978, -1.3030046, -0.63674706, 0.35543388, -0.8753654, 0.109826736, -0.08133878, -0.021173574, -0.38177004, -1.3203733, 1.0146804, -0.44802237, -0.7659813, 0.17352487, ...</td>\n",
       "    </tr>\n",
       "    <tr>\n",
       "      <th>3965</th>\n",
       "      <td>Kanye West</td>\n",
       "      <td>\"You that kid that gave all them beats to Jay? Yo, this nigga got classics to your beats\"</td>\n",
       "      <td>[kid, gave, beats, jay, yo, nigga, got, classics, beats]</td>\n",
       "      <td>[[0.6380858, -1.1234543, -1.0530231, 0.10047837, -1.1764723, -1.7015768, 0.76117474, -0.10712639, -0.050990604, -0.07969075, 0.108257785, -0.067176074, -1.6317002, 1.523965, -0.5466712, -0.36467472, 0.0424454, 0.97946876, 0.7460407, -0.0824653, 0.94123864, -0.23727666, 0.09227144, 1.0090008, -0....</td>\n",
       "    </tr>\n",
       "    <tr>\n",
       "      <th>3966</th>\n",
       "      <td>Kanye West</td>\n",
       "      <td>You know I ain't talkin' shit. I'm like \"oh shit.\" And all this time I'm starstruck, man. I'm still thinking 'bout, you know I'm picturing these niggas on the show, The Streets is Watching, I'm lookin', these were superstars in my eyes. And they still are, you know. So, Jay came in and he spit a...</td>\n",
       "      <td>[know, aint, talkin, shit, im, like, oh, shit, time, im, starstruck, man, im, still, thinking, bout, know, im, picturing, niggas, show, streets, watching, im, lookin, superstars, eyes, still, know, jay, came, spit, songs, like, one, day, two, days, got, ta, bring, one, thing, know, come, back, s...</td>\n",
       "      <td>[[0.18528189, 0.07605789, 0.27870965, 0.62764734, -0.24788415, -0.70944, -0.06095344, -0.8869798, -0.7481392, 0.8215228, -0.4787756, -0.6763346, 0.39255664, -1.0512404, 0.104630165, -1.5296086, 0.69743615, 1.5963961, -0.8875299, -0.13858247, -1.4532378, 0.1170003, 0.38015673, -1.5760437, 0.35502...</td>\n",
       "    </tr>\n",
       "    <tr>\n",
       "      <th>3967</th>\n",
       "      <td>Kanye West</td>\n",
       "      <td>That was it. You know, I ain't get no deal then, hehe. Okay, fast forward. So, Blueprint, \"H to the Izzo,\" my first hit single. And I just took that proudly, built relationships with people. My relationship with Kweli I think was one of the best ones to ever happen to my career as a rapper. Beca...</td>\n",
       "      <td>[know, aint, get, deal, hehe, okay, fast, forward, blueprint, h, izzo, first, hit, single, took, proudly, built, relationships, people, relationship, kweli, think, one, best, ones, ever, happen, career, rapper, know, course, later, allowed, go, tour, man, appre, love, time, know, didnt, deal, so...</td>\n",
       "      <td>[[0.18528189, 0.07605789, 0.27870965, 0.62764734, -0.24788415, -0.70944, -0.06095344, -0.8869798, -0.7481392, 0.8215228, -0.4787756, -0.6763346, 0.39255664, -1.0512404, 0.104630165, -1.5296086, 0.69743615, 1.5963961, -0.8875299, -0.13858247, -1.4532378, 0.1170003, 0.38015673, -1.5760437, 0.35502...</td>\n",
       "    </tr>\n",
       "    <tr>\n",
       "      <th>3968</th>\n",
       "      <td>Kanye West</td>\n",
       "      <td>I'm not gonna say nothin' to mess my promotion up</td>\n",
       "      <td>[im, gon, na, say, nothin, mess, promotion]</td>\n",
       "      <td>[[0.12188834, -0.43565154, 0.34084073, -0.8060796, 0.19205038, -0.71717757, 1.2678972, 1.3213547, -1.465972, -0.5656701, -0.08051969, 1.2891339, 1.1333524, 0.58948636, -0.4443255, -0.030862061, 1.2154992, 1.5816468, -1.8806332, -0.15031587, -0.2930959, 0.8411025, 1.1549904, -1.1008632, 1.5331802...</td>\n",
       "    </tr>\n",
       "    <tr>\n",
       "      <th>3969</th>\n",
       "      <td>Kanye West</td>\n",
       "      <td>Let's just say I didn't get my deal. The nigga that was behind me, I mean, he wasn't even a nigga, you know? The person who actually kicked everything off was Joe 3H from Capitol Records. He wanted to sign me really bad</td>\n",
       "      <td>[lets, say, didnt, get, deal, nigga, behind, mean, wasnt, even, nigga, know, person, actually, kicked, everything, joe, h, capitol, records, wanted, sign, really, bad]</td>\n",
       "      <td>[[0.16937695, 3.357941, 1.3416018, 1.6236997, 1.315976, 0.6885943, 1.2091686, -1.8116816, -2.502218, 0.37838066, 1.5211605, 0.17869961, -1.5705465, -1.552379, -4.2142673, -0.66533446, 3.0100846, 0.64245075, 0.8901923, -2.1478868, -1.5918672, 0.6219974, 0.076922454, 1.4327694, -0.952353, 1.138560...</td>\n",
       "    </tr>\n",
       "    <tr>\n",
       "      <th>3970</th>\n",
       "      <td>Kanye West</td>\n",
       "      <td>Dame was like, \"Yo you got a deal with Capitol? Okay man, just make sure it's not wack.\"</td>\n",
       "      <td>[dame, like, yo, got, deal, capitol, okay, man, make, sure, wack]</td>\n",
       "      <td>[[1.0664681, 0.24797973, -0.32289264, -1.1973749, -0.23462546, -0.6062889, -0.41490322, 1.2329129, 0.5414249, -0.5949559, 0.35295543, -0.581962, -1.1715151, 0.24944454, -1.1752192, 0.2479419, -0.5252655, -0.3908025, 0.29954168, -0.2619232, 0.1460209, 0.032143973, -0.06707391, 0.08805023, -0.3160...</td>\n",
       "    </tr>\n",
       "    <tr>\n",
       "      <th>3971</th>\n",
       "      <td>Kanye West</td>\n",
       "      <td>Then one day I just went ahead and played it, I wanted to play some songs, cause you know Cam was in the room, Young Guru, and Dame was in the room. So I played... actually it's a song that you'll never hear, but maybe I might use it. So, it's called 'Wow.' \"I go to Jacob with 25 thou, you go wi...</td>\n",
       "      <td>[one, day, went, ahead, played, wanted, play, songs, cause, know, cam, room, young, guru, dame, room, played, actually, song, youll, never, hear, maybe, might, use, called, wow, go, jacob, thou, go, hundred, wow, got, plaques, walls, right, got, first, gold, single, damn, nigga, wow, like, choru...</td>\n",
       "      <td>[[-0.5692993, 2.236054, 0.68801224, -1.6793606, 3.0296388, -1.63769, 0.9024277, 0.64014864, 0.080431506, -1.5081371, 0.13812421, 0.6871351, 1.2187583, -0.7796902, -0.06686498, 1.3332527, -1.7404954, 2.4520426, 0.61293495, -0.83633983, -1.952078, 1.6002196, -2.1241195, 1.8983063, 2.824151, 1.0502...</td>\n",
       "    </tr>\n",
       "    <tr>\n",
       "      <th>3972</th>\n",
       "      <td>Kanye West</td>\n",
       "      <td>\"I ain't gonna front, it's kinda hot.\"</td>\n",
       "      <td>[aint, gon, na, front, kinda, hot]</td>\n",
       "      <td>[[1.0235496, -1.5109036, -0.7385181, -0.45566234, 2.8123548, 1.9436979, -1.6466273, -2.079619, -2.6955721, -0.6305326, -0.41434085, 0.24370594, 0.72078437, 1.7452081, -0.1908052, -2.5005689, 1.4937192, 2.4827113, 2.1499612, -0.3603992, 0.22004882, 0.44893962, 1.0078768, -0.9660207, 1.5195798, -0...</td>\n",
       "    </tr>\n",
       "    <tr>\n",
       "      <th>3973</th>\n",
       "      <td>Kanye West</td>\n",
       "      <td>Like they still weren't looking at me like a rapper. And I'm sure Dame figured, 'Like man. If he do a whole album, if his raps is wack at least we can throw Cam on every song and save the album, you know. So uh Dame took me into the office, and he's like \"yo man, B, B, you don't want a brick, yo...</td>\n",
       "      <td>[like, still, werent, looking, like, rapper, im, sure, dame, figured, like, man, whole, album, raps, wack, least, throw, cam, every, song, save, album, know, uh, dame, took, office, hes, like, yo, man, b, b, dont, want, brick, dont, want, brick]</td>\n",
       "      <td>[[-1.151783, 0.12924378, 1.7018288, -0.18467335, 0.60015464, -0.43483075, 0.4649704, 0.43684384, 0.43159974, -0.8131354, 0.0352952, 0.24734141, 0.03569845, 1.6284262, 0.967623, 0.98912704, 1.0090365, 0.34491044, 1.9435381, -0.49262795, 0.5824534, -0.6090644, 1.1700573, -0.5604438, 1.3691909, -0....</td>\n",
       "    </tr>\n",
       "    <tr>\n",
       "      <th>3974</th>\n",
       "      <td>Kanye West</td>\n",
       "      <td>\"You gotta be under an umbrella, you'll get rained on.\" I told Hip-hop and Hip-hop was all, \"oh, word?\" Actually, even with that, I was still about to take the deal with Capitol cause it was already on the table and cause of my relationship with 3H. That, you know, cause I told him I was gonna d...</td>\n",
       "      <td>[got, ta, umbrella, youll, get, rained, told, hiphop, hiphop, oh, word, actually, even, still, take, deal, capitol, cause, already, table, cause, relationship, h, know, cause, told, gon, na, im, man, word, gon, na, roll, said, gon, na, know, im, gon, na, name, names, people, told, oh, hes, produ...</td>\n",
       "      <td>[[-1.4076921, 2.0274742, 1.5291497, 1.3715295, 2.8033414, -0.22239828, -0.54870737, 0.6389802, -0.02050984, -0.7707648, 3.0293097, 0.29562193, 1.6397126, -1.2836523, 1.4997331, -1.2824497, 1.9793553, -2.0260737, -0.5699518, 0.19395247, -0.8003901, 1.356306, 0.926871, 0.959078, -0.21390827, -1.27...</td>\n",
       "    </tr>\n",
       "  </tbody>\n",
       "</table>\n",
       "<p>3039 rows × 4 columns</p>\n",
       "</div>"
      ],
      "text/plain": [
       "          artist  \\\n",
       "0          Drake   \n",
       "1          Drake   \n",
       "2          Drake   \n",
       "3          Drake   \n",
       "4          Drake   \n",
       "5          Drake   \n",
       "8          Drake   \n",
       "9          Drake   \n",
       "10         Drake   \n",
       "11         Drake   \n",
       "13         Drake   \n",
       "14         Drake   \n",
       "15         Drake   \n",
       "16         Drake   \n",
       "17         Drake   \n",
       "18         Drake   \n",
       "19         Drake   \n",
       "20         Drake   \n",
       "21         Drake   \n",
       "22         Drake   \n",
       "23         Drake   \n",
       "24         Drake   \n",
       "25         Drake   \n",
       "26         Drake   \n",
       "27         Drake   \n",
       "28         Drake   \n",
       "30         Drake   \n",
       "33         Drake   \n",
       "36         Drake   \n",
       "37         Drake   \n",
       "...          ...   \n",
       "3945  Kanye West   \n",
       "3946  Kanye West   \n",
       "3947  Kanye West   \n",
       "3948  Kanye West   \n",
       "3949  Kanye West   \n",
       "3950  Kanye West   \n",
       "3951  Kanye West   \n",
       "3952  Kanye West   \n",
       "3953  Kanye West   \n",
       "3954  Kanye West   \n",
       "3955  Kanye West   \n",
       "3956  Kanye West   \n",
       "3957  Kanye West   \n",
       "3958  Kanye West   \n",
       "3959  Kanye West   \n",
       "3960  Kanye West   \n",
       "3961  Kanye West   \n",
       "3962  Kanye West   \n",
       "3963  Kanye West   \n",
       "3964  Kanye West   \n",
       "3965  Kanye West   \n",
       "3966  Kanye West   \n",
       "3967  Kanye West   \n",
       "3968  Kanye West   \n",
       "3969  Kanye West   \n",
       "3970  Kanye West   \n",
       "3971  Kanye West   \n",
       "3972  Kanye West   \n",
       "3973  Kanye West   \n",
       "3974  Kanye West   \n",
       "\n",
       "                                                                                                                                                                                                                                                                                                            verse  \\\n",
       "0                                                                                                                                                                                                                                                                                         Ayy, woah Ayy, ayy Yeah   \n",
       "1                      I'm makin' a change today The liquor been takin' the pain away I heard you was givin' your chain away That's kinda like givin' your fame away What's wrong with you? I sit in a box where the owners do A boss is a role that I've grown into I love you to death but I told you the truth   \n",
       "2     I can't just be with you and only you Yeah, I got one, Virgil got one and that there is the only two Man, how many times have I shown improvement? How many nights I been (Woah) Swervin' them potholes Not tryna fuck up the wheels on the road, okay Funny how life goes He thought he was sick, now h...   \n",
       "3     Well, summer, all I did was rest, okay? And New Year's, all I did was stretch, okay? And Valentine's Day, I had sex, okay? We'll see what's 'bout to happen next Okay? Okay? Okay? We'll see what's 'bout to happen next Okay? Okay? Okay? We'll see what's 'bout to happen, ayy, ayy We'll see what's '...   \n",
       "4                   I'm makin' a change today The liquor been takin' the pain away I heard you was givin' your chain away That's kinda like givin' your fame away What's wrong with you? I sit in a box where the owners do A boss is a role that I've grown into I love you to death but I told you the truth I–   \n",
       "5     Ayy, yeah I got one, Laurie got one and that there is the only two Man, how many times have I told you the truth? Man, how many nights I been (Woah) Swervin' them potholes Not tryna fuck up the wheels or fuck up the deals I'm posted in Stockholm It's me, the owls and the twins, it's only the rea...   \n",
       "8                                                                                                                                                                                                                                                                                            (Six) Yeah Yeah Yeah   \n",
       "9     Leave me out the comments, leave me out the nonsense Speakin' out of context, people need some content Niggas tryna keep up, shit is not a contest Whippin' Benz concept Heaven-sent, God-sent Least that's what my mom says Proof is in the progress, money's not a object Busy than a motherfucker, yo...   \n",
       "10    Sins, I got sins on my mind And some M's, got a lot of M's on my mind And my friends, yeah, I keep my friends on my mind I'm in love, I'm in love with two girls at one time And they tens, that's why I got ten on my mind I got M's, got a lot of M's on my mind And my friends, yeah, I keep my frien...   \n",
       "11    I'm from the four, but I love me a threesome DM her, delete it, she my lil' secret He tryna diss me to blow up, I peep it I can't respond, we just go at your people If I left some racks on the bed, you can keep it This shit gettin' deeper and deeper, I dig it My shovel wasn't bent, I was broke, ...   \n",
       "13                                                            Tryin', tryin', tryin', tryin' I pray these niggas understand how passionate the tale is To get you under my pressure Richer I been tryin', tryin', tryin', tryin' To get you under my pressure Yes, uh Biggest, you feel me? (M-M-M-Maybach Music)   \n",
       "14    Godfather with a garden full of snakes Call Porsche, time to give away a Wraith Bricks boy, tryna turn 'em into bass Big boy, I been tryin' buy the Braves Courtroom soundin' like I'm in the opera Went and got it, now these niggas wanna knock us Bitches fallin' 'cause they need a couple dollars B...   \n",
       "15                                                                                                                                           I been tryin', tryin', tryin', tryin' To get you under my pressure I been tryin', tryin', tryin', tryin' To get you under my pressure Tryin', tryin', tryin', tryin'   \n",
       "16    Yeah, heart just turned purple Three-sixty up front, it all comes full circle Class photographs, Sandy had me on my Urkel (I been tryin', tryin', tryin', tryin') Patty Mahomes, 'bout to fall short a couple hunnid Signed, sealed, delivered, I fucked the notary public She witnessed me sign off on ...   \n",
       "17                                                                                                                                                                          I been tryin', tryin', tryin', tryin' To get you under my pressure I been tryin', tryin', tryin', tryin' To get you under my pressure   \n",
       "18                                                                                                                                                                                  Ayy, yeah Pipe this shit up and I turn this shit up When I was down, I was down Now them diamonds for fun like damn Ayy, yeah   \n",
       "19    Trendsetter, Ben Frank getter (Yeah) Whip whatever, whip whatever I buy diamonds when I'm under pressure (Yeah) When I apply it, shit don’t ever let up, yeah Look, I'm in the cut, The Boy in the cut Jump in the whip where the ceilings go up, we up All of this grindin' for what? It’s funny when y...   \n",
       "20                                                                                                                                                                                                                           Still in the cut, The Boy in the cut Hop in the whip where the ceilings go up, we up   \n",
       "21    And I'm way up at the top of the loft Gotta stay up, ain't no knockin' me off Pull up smooth, A.I. with the cross (Haha) Countin' up wins on wins on wins, for all of my dawgs I lost I might call Pharrell, get the new Chanel Thugger got the YSL, huh I remember when the Feds did the sweep, I pray ...   \n",
       "22                                                                                                                                                                                                                     Still in the cut, The Boy in the cut, yeah Hop in the whip where the ceilings go up, we up   \n",
       "23                                                                                                                        Ayy (Now you know how) Now I gotta tell you how lucky I am (Oh, now you know) This shit could have went a hundred different ways on a thousand different days for real Yeah, whoop, ayy   \n",
       "24    On my way to the boat like I ain't just have on a coat when I landed Owl branded Perched at the edge of the branches They don't wanna talk mansions, mine look like a campus And I'm all about my brothers like the niggas I'm samplin' I'll leave you red-shirted like the twins from Kansas Really liv...   \n",
       "25                                                                                                                                                                                                                                                                                                Woah, woah Yeah   \n",
       "26                          Sometimes we laugh and sometimes we cry, but I guess you know now, baby I took a half and she took the whole thing, slow down, baby We took a trip, now we on your block and it's like a ghost town, baby Where do these niggas be at when they say they doin' all this and all that?   \n",
       "27    Tired of beefin' you bums, you can't even pay me enough to react Been wakin' up in the crib and sometimes I don't even know where I'm at Please don't play that nigga songs in this party, I can't even listen to that Anytime that I ran into somebody, it must be a victory lap, ayy Shawty, come sit ...   \n",
       "28                                                                                                                                                                                                                       I know that they at the crib goin' crazy, down bad What they had didn't last, damn, baby   \n",
       "30    I'm in the trenches, relax Can you not play that lil' boy in the club? 'Cause we do not listen to rats We in Atlanta, I buy her a wig, she tellin' me Tae is the best Point at the nigga who act like a killer, but you only one from the 'net I'm like DaBaby, I'm not just a rapper, you play with me,...   \n",
       "33    When he tell the story, that's not how it went Know they be lyin', a hundred percent Moved out the Ritz and forgot 'bout the Bent' Valet just called me to tell me come get it Knocked that boy off and I don't want no credit If it was me, they wouldn't regret it Left me for dead and now they wan' ...   \n",
       "36                                                                                                                                                                                                                                                                                                 Yeah Yeah, ayy   \n",
       "37                           It was meant to happen, the most trusted going triple platinum Link with Mac, link with Fee, if I'm down in Baton Link with Tez, link with Zhii, when I'm down in Jackson Just got back, overseas I was the main attraction This ain't them, this is me, so you know what's crackin'   \n",
       "...                                                                                                                                                                                                                                                                                                           ...   \n",
       "3945                                                                                                                                                                Rain, rain, rain go away Let the sun come out and all the children say Rain, rain, rain go away Let the sun come out and all the children say   \n",
       "3946  I woke up early this morning with a new state of mind A creative way to rhyme without using knives and guns Keep your nose out the sky, keep your heart to God And keep your face to the risin' sun All my niggas from the Chi, that's my family, dog And my niggas ain't my guys, they my family, dog I...   \n",
       "3947  (All all all the diamond rings diamond rings) They don't mean a thing (all, all, all the things) They don't mean a thing (all, all, all the things) (All all that glitters is not gold, now gold is not reality) They don't mean a thing a thing (All, all, all the things) They don't mean a thing a th...   \n",
       "3948  CLK Mercedes Benz All these things, all these things ... All these things, all these things ... All these things, all these things ... A whole lotta money All these things, all these things All these things, all these things All these things, all these things Mommy and Daddy, will you please sto...   \n",
       "3949                                                                                                                                                     Yo fuck you, Kanye, first and foremost For making me do this shit. Muh'fucker Had to throw everybody out the motherfucking room Cause they don't fucking   \n",
       "3950                                                                                                                                                                                                                                                       I'd like to propose a toast I said toast motherfucker!   \n",
       "3951                   And I am (Here's to the Roc) And they ask me, they ask me, they ask me, I tell them (Here's to Roc-A-Fella) Raise your glasses, your glasses, your glasses to the sky and (Here's to the Roc) This is the last call for alcohol, for the (Mr. Rockefeller) So get your ass up off the wall   \n",
       "3952  The all around the world Digital Underground Pac The Rudolph the red-nosed reindeer of the Roc I take my chain, my 15 seconds of fame And come back next year with the whole fucking game Ain't nobody expect Kanye to end up on top They expected that College Dropout to drop and then flop Then maybe...   \n",
       "3953                   Now I am (Here's to the Roc) And they ask me, they ask me, they ask me, I tell them (Here's to Roc-A-Fella) Raise your glasses, your glasses, your glasses to the sky and (Here's to the Roc) This is the last call for alcohol, for the (Mr. Rockefeller) So get your ass up off the wall   \n",
       "3954  Now was Kanye the most overlooked? Yes sir Now is Kanye the most overbooked? Yes sir Though the fans want the feeling of A Tribe Called Quest But all they got left is this guy called West That'll take Freeway, throw him on tracks with Mos Def Call him Kwa-li or Kwe-li, I put him on songs with JA...   \n",
       "3955             And I am (Here's to the Roc) And they ask me, they ask me, they ask me, I tell them (Here's to Roc-A-Fella) Raise your glasses, your glasses, your glasses to the sky and (Here's to the Roc) This is the last call for alcohol, for my niggas (Mr. Rockefeller) So get your ass up off the wall   \n",
       "3956  So this A&R over at Roc-A-Fella, named Hip Hop Picked the \"Truth\" beat for Beanie. And I was in the session with him. I had my demo with me. You know, like I always do. I play the songs, he's like \"Who that spittin'?\" I'm like \"It's me.\" He's like \"Oh, well okay.\" Uhh, he started talkin' to me o...   \n",
       "3957                                                                                                                                                                                                   I was all, I dunno if he was gassin' me or not but he's like he wanna manage me as a rapper AND a producer   \n",
       "3958  I'm like oh shit. I was messin' with, uh, D-Dot also. People were like this, started talking about the ghost production but that's how I got in the game. If it wasn't for that, I wouldn't be here. So you know, after they picked that \"Truth\" beat I was figuring I was gonna do some more work but s...   \n",
       "3959                                                                                                                                                                    And he, uh, played the song cause he already spit his verse by the time I got to the studio. You know how he do it, one take. And he said   \n",
       "3960                                \"Tell me what you think of this.\" And I heard it, and I was thinking like, man, I really wanted more like of the simple type JAY-Z. I ain't want like the, the more introspective, complicated rhy- or the... in my personal opinion. So he asked me, \"What you think of it?\"   \n",
       "3961  And I was like, \"Man that shit tight,\" you know what I'm sayin', man what I'ma tell him? I was on the train, man, you know. So after that, I went back home. And man I'm, I'm just in Chicago, I'm trying to do my thing. You know, I got groups. I got acts I'm trying to get on, and like there wasn't...   \n",
       "3962                                                                                                                                                                                                                            ...Newark, New Jersey. I hadn't even seen my apartment. I remember I pulled up...   \n",
       "3963  ...I unpacked all my shit. You know, we went to Ikea, I bought a bed, I put the bed together myself. I loaded up all my equipment, and the first beat I made was, uh, \"Heart of the City.\" And Beans was still working on his album at that time, so I came up there to Baseline, it was Beans' birthday...   \n",
       "3964         And I played another beat, and I played another beat. And I remember that Gucci bucket, he took it and like put it over his face and made one of them faces like 'OOOOOOOOOOH.' Two days later I'm in Baseline and I seen Dame. Dame didn't know who I was and I was like, \"Yo what's up I'm Kanye.\"   \n",
       "3965                                                                                                                                                                                                                    \"You that kid that gave all them beats to Jay? Yo, this nigga got classics to your beats\"   \n",
       "3966  You know I ain't talkin' shit. I'm like \"oh shit.\" And all this time I'm starstruck, man. I'm still thinking 'bout, you know I'm picturing these niggas on the show, The Streets is Watching, I'm lookin', these were superstars in my eyes. And they still are, you know. So, Jay came in and he spit a...   \n",
       "3967  That was it. You know, I ain't get no deal then, hehe. Okay, fast forward. So, Blueprint, \"H to the Izzo,\" my first hit single. And I just took that proudly, built relationships with people. My relationship with Kweli I think was one of the best ones to ever happen to my career as a rapper. Beca...   \n",
       "3968                                                                                                                                                                                                                                                            I'm not gonna say nothin' to mess my promotion up   \n",
       "3969                                                                                  Let's just say I didn't get my deal. The nigga that was behind me, I mean, he wasn't even a nigga, you know? The person who actually kicked everything off was Joe 3H from Capitol Records. He wanted to sign me really bad   \n",
       "3970                                                                                                                                                                                                                     Dame was like, \"Yo you got a deal with Capitol? Okay man, just make sure it's not wack.\"   \n",
       "3971  Then one day I just went ahead and played it, I wanted to play some songs, cause you know Cam was in the room, Young Guru, and Dame was in the room. So I played... actually it's a song that you'll never hear, but maybe I might use it. So, it's called 'Wow.' \"I go to Jacob with 25 thou, you go wi...   \n",
       "3972                                                                                                                                                                                                                                                                       \"I ain't gonna front, it's kinda hot.\"   \n",
       "3973  Like they still weren't looking at me like a rapper. And I'm sure Dame figured, 'Like man. If he do a whole album, if his raps is wack at least we can throw Cam on every song and save the album, you know. So uh Dame took me into the office, and he's like \"yo man, B, B, you don't want a brick, yo...   \n",
       "3974  \"You gotta be under an umbrella, you'll get rained on.\" I told Hip-hop and Hip-hop was all, \"oh, word?\" Actually, even with that, I was still about to take the deal with Capitol cause it was already on the table and cause of my relationship with 3H. That, you know, cause I told him I was gonna d...   \n",
       "\n",
       "                                                                                                                                                                                                                                                                                                              seq  \\\n",
       "0                                                                                                                                                                                                                                                                                     [ayy, woah, ayy, ayy, yeah]   \n",
       "1                                                                                                       [im, makin, change, today, liquor, takin, pain, away, heard, givin, chain, away, thats, kinda, like, givin, fame, away, whats, wrong, sit, box, owners, boss, role, ive, grown, love, death, told, truth]   \n",
       "2     [cant, yeah, got, one, virgil, got, one, two, man, many, times, shown, improvement, many, nights, woah, swervin, potholes, tryna, fuck, wheels, road, okay, funny, life, goes, thought, sick, wipin, nose, okay, soon, give, em, soul, blow, say, youre, sеlling, soul, okay, want, life, exposеd, wan, ...   \n",
       "3     [well, summer, rest, okay, new, years, stretch, okay, valentines, day, sex, okay, well, see, whats, bout, happen, next, okay, okay, okay, well, see, whats, bout, happen, next, okay, okay, okay, well, see, whats, bout, happen, ayy, ayy, well, see, whats, bout, happen, ayy, well, see, whats, bout,...   \n",
       "4                                                                                                   [im, makin, change, today, liquor, takin, pain, away, heard, givin, chain, away, thats, kinda, like, givin, fame, away, whats, wrong, sit, box, owners, boss, role, ive, grown, love, death, told, truth, i–]   \n",
       "5     [ayy, yeah, got, one, laurie, got, one, two, man, many, times, told, truth, man, many, nights, woah, swervin, potholes, tryna, fuck, wheels, fuck, deals, im, posted, stockholm, owls, twins, real, im, movin, way, humble, weezy, handed, still, got, fumbles, im, hot, one, hundo, numero, uno, one, a...   \n",
       "8                                                                                                                                                                                                                                                                                         [six, yeah, yeah, yeah]   \n",
       "9     [leave, comments, leave, nonsense, speakin, context, people, need, content, niggas, tryna, keep, shit, contest, whippin, benz, concept, heavensent, godsent, least, thats, mom, says, proof, progress, moneys, object, busy, motherfucker, know, job, get, barkin, wrong, tree, know, dogs, get, havent,...   \n",
       "10                                                  [sins, got, sins, mind, ms, got, lot, ms, mind, friends, yeah, keep, friends, mind, im, love, im, love, two, girls, one, time, tens, thats, got, ten, mind, got, ms, got, lot, ms, mind, friends, yeah, keep, friends, mind, repent, need, jesus, life, amen]   \n",
       "11    [im, four, love, threesome, dm, delete, lil, secret, tryna, diss, blow, peep, cant, respond, go, people, left, racks, bed, keep, shit, gettin, deeper, deeper, dig, shovel, wasnt, bent, broke, fix, shark, water, swim, lil, fishes, hit, today, tomorrow, miss, grab, neck, look, kiss, im, goat, fit,...   \n",
       "13                                                                                                                          [tryin, tryin, tryin, tryin, pray, niggas, understand, passionate, tale, get, pressure, richer, tryin, tryin, tryin, tryin, get, pressure, yes, uh, biggest, feel, mmmmaybach, music]   \n",
       "14    [godfather, garden, full, snakes, call, porsche, time, give, away, wraith, bricks, boy, tryna, turn, em, bass, big, boy, tryin, buy, braves, courtroom, soundin, like, im, opera, went, got, niggas, wan, na, knock, us, bitches, fallin, cause, need, couple, dollars, aint, problem, cause, nigga, rea...   \n",
       "15                                                                                                                                                                                             [tryin, tryin, tryin, tryin, get, pressure, tryin, tryin, tryin, tryin, get, pressure, tryin, tryin, tryin, tryin]   \n",
       "16    [yeah, heart, turned, purple, threesixty, front, comes, full, circle, class, photographs, sandy, urkel, tryin, tryin, tryin, tryin, patty, mahomes, bout, fall, short, couple, hunnid, signed, sealed, delivered, fucked, notary, public, witnessed, sign, undeniable, numbers, tryin, tryin, tryin, try...   \n",
       "17                                                                                                                                                                                                                         [tryin, tryin, tryin, tryin, get, pressure, tryin, tryin, tryin, tryin, get, pressure]   \n",
       "18                                                                                                                                                                                                                                      [ayy, yeah, pipe, shit, turn, shit, diamonds, fun, like, damn, ayy, yeah]   \n",
       "19    [trendsetter, ben, frank, getter, yeah, whip, whatever, whip, whatever, buy, diamonds, im, pressure, yeah, apply, shit, ’, ever, let, yeah, look, im, cut, boy, cut, jump, whip, ceilings, go, grindin, ’, funny, niggas, thought, luck, give, pass, play, money, family, friends, compete, niggas, comp...   \n",
       "20                                                                                                                                                                                                                                                                [still, cut, boy, cut, hop, whip, ceilings, go]   \n",
       "21    [im, way, top, loft, got, ta, stay, aint, knockin, pull, smooth, ai, cross, haha, countin, wins, wins, wins, dawgs, lost, might, call, pharrell, get, new, chanel, thugger, got, ysl, huh, remember, feds, sweep, pray, dawgs, didnt, tell, huh, cruisin, ’, biscayne, miami, gave, top, top, cartier, w...   \n",
       "22                                                                                                                                                                                                                                                          [still, cut, boy, cut, yeah, hop, whip, ceilings, go]   \n",
       "23                                                                                                                                                                    [ayy, know, got, ta, tell, lucky, oh, know, shit, could, went, hundred, different, ways, thousand, different, days, real, yeah, whoop, ayy]   \n",
       "24    [way, boat, like, aint, coat, landed, owl, branded, perched, edge, branches, dont, wan, na, talk, mansions, mine, look, like, campus, im, brothers, like, niggas, im, samplin, ill, leave, redshirted, like, twins, kansas, really, livin, dreams, used, aunts, crib, might, throw, rockefeller, chain, ...   \n",
       "25                                                                                                                                                                                                                                                                                             [woah, woah, yeah]   \n",
       "26                                                                                                                                               [sometimes, laugh, sometimes, cry, guess, know, baby, took, half, took, whole, thing, slow, baby, took, trip, block, like, ghost, town, baby, niggas, say, doin]   \n",
       "27    [tired, beefin, bums, cant, even, pay, enough, react, wakin, crib, sometimes, dont, even, know, im, please, dont, play, nigga, songs, party, cant, even, listen, anytime, ran, somebody, must, victory, lap, ayy, shawty, come, sit, lap, ayy, sayin, drizzy, snap, distance, us, like, store, isnt, clo...   \n",
       "28                                                                                                                                                                                                                                                        [know, crib, goin, crazy, bad, didnt, last, damn, baby]   \n",
       "30    [im, trenches, relax, play, lil, boy, club, cause, listen, rats, atlanta, buy, wig, tellin, tae, best, point, nigga, act, like, killer, one, net, im, like, dababy, im, rapper, play, gon, get, stretched, oohoh, bring, drake, hood, surround, drake, around, dracs, even, though, got, case, ima, take...   \n",
       "33    [tell, story, thats, went, know, lyin, hundred, percent, moved, ritz, forgot, bout, bent, valet, called, tell, come, get, knocked, boy, dont, want, credit, wouldnt, regret, left, dead, wan, dead, yeah, heart, still, beatin, niggas, still, eatin, backyard, look, like, garden, eden, pillow, talk, ...   \n",
       "36                                                                                                                                                                                                                                                                                              [yeah, yeah, ayy]   \n",
       "37                                                                                                                      [meant, happen, trusted, going, triple, platinum, link, mac, link, fee, im, baton, link, tez, link, zhii, im, jackson, got, back, overseas, main, attraction, aint, know, whats, crackin]   \n",
       "...                                                                                                                                                                                                                                                                                                           ...   \n",
       "3945                                                                                                                                                                                       [rain, rain, rain, go, away, let, sun, come, children, say, rain, rain, rain, go, away, let, sun, come, children, say]   \n",
       "3946  [woke, early, morning, new, state, mind, creative, way, rhyme, without, using, knives, guns, keep, nose, sky, keep, heart, god, keep, face, risin, sun, niggas, chi, thats, family, dog, niggas, aint, guys, family, dog, feel, like, one, day, youll, understand, dog, still, love, man, manly, dog, ai...   \n",
       "3947  [diamond, rings, diamond, rings, dont, mean, thing, things, dont, mean, thing, things, glitters, gold, gold, reality, dont, mean, thing, thing, things, dont, mean, thing, thing, thing, dont, care, dont, mean, thing, things, fancy, things, tell, weight, gold, know, know, things, things, things, t...   \n",
       "3948                 [clk, mercedes, benz, things, things, things, things, things, things, whole, lotta, money, things, things, things, things, things, things, mommy, daddy, please, stop, fighting, things, things, things, dont, care, things, things, things, things, things, lets, get, stevie, outta, jail]   \n",
       "3949                                                                                                                                                                                     [yo, fuck, kanye, first, foremost, making, shit, muhfucker, throw, everybody, motherfucking, room, cause, dont, fucking]   \n",
       "3950                                                                                                                                                                                                                                                        [id, like, propose, toast, said, toast, motherfucker]   \n",
       "3951                                                                                                                                                 [heres, roc, ask, ask, ask, tell, heres, rocafella, raise, glasses, glasses, glasses, sky, heres, roc, last, call, alcohol, mr, rockefeller, get, ass, wall]   \n",
       "3952  [around, world, digital, underground, pac, rudolph, rednosed, reindeer, roc, take, chain, seconds, fame, come, back, next, year, whole, fucking, game, aint, nobody, expect, kanye, end, top, expected, college, dropout, drop, flop, maybe, stop, savin, good, beats, rocafellas, niggas, helped, money...   \n",
       "3953                                                                                                                                                 [heres, roc, ask, ask, ask, tell, heres, rocafella, raise, glasses, glasses, glasses, sky, heres, roc, last, call, alcohol, mr, rockefeller, get, ass, wall]   \n",
       "3954  [kanye, overlooked, yes, sir, kanye, overbooked, yes, sir, though, fans, want, feeling, tribe, called, quest, got, left, guy, called, west, thatll, take, freeway, throw, tracks, mos, def, call, kwali, kweli, put, songs, jayz, im, gap, like, banana, republic, old, navy, oooh, come, sweeter, old, ...   \n",
       "3955                                                                                                                                         [heres, roc, ask, ask, ask, tell, heres, rocafella, raise, glasses, glasses, glasses, sky, heres, roc, last, call, alcohol, niggas, mr, rockefeller, get, ass, wall]   \n",
       "3956  [ar, rocafella, named, hip, hop, picked, truth, beat, beanie, session, demo, know, like, always, play, songs, hes, like, spittin, im, like, hes, like, oh, well, okay, uhh, started, talkin, phone, going, back, forth, askin, send, beats, im, thinking, hes, trying, get, managing, producers, cause, ...   \n",
       "3957                                                                                                                                                                                                                                                [dunno, gassin, hes, like, wan, na, manage, rapper, producer]   \n",
       "3958  [im, like, oh, shit, messin, uh, ddot, also, people, like, started, talking, ghost, production, thats, got, game, wasnt, wouldnt, know, picked, truth, beat, figuring, gon, na, work, shit, wasnt, poppin, like, stayin, chicago, apartment, doin, like, beats, local, acts, try, keep, lights, go, buy,...   \n",
       "3959                                                                                                                                                                                                                    [uh, played, song, cause, already, spit, verse, time, got, studio, know, one, take, said]   \n",
       "3960                                                                                                                                      [tell, think, heard, thinking, like, man, really, wanted, like, simple, type, jayz, aint, want, like, introspective, complicated, rhy, personal, opinion, asked, think]   \n",
       "3961  [like, man, shit, tight, know, im, sayin, man, ima, tell, train, man, know, went, back, home, man, im, im, chicago, im, trying, thing, know, got, groups, got, acts, im, trying, get, like, wasnt, nothin, really, like, poppin, way, one, homies, one, artists, got, signed, supposed, really, go, prod...   \n",
       "3962                                                                                                                                                                                                                                        [newark, new, jersey, hadnt, even, seen, apartment, remember, pulled]   \n",
       "3963  [unpacked, shit, know, went, ikea, bought, bed, put, bed, together, loaded, equipment, first, beat, made, uh, heart, city, beans, still, working, album, time, came, baseline, beans, birthday, matter, fact, played, like, seven, beats, know, guess, zone, already, beats, wanted, nothing, like, alre...   \n",
       "3964                                                                               [played, another, beat, played, another, beat, remember, gucci, bucket, took, like, put, face, made, one, faces, like, ooooooooooh, two, days, later, im, baseline, seen, dame, dame, didnt, know, like, yo, whats, im, kanye]   \n",
       "3965                                                                                                                                                                                                                                                     [kid, gave, beats, jay, yo, nigga, got, classics, beats]   \n",
       "3966  [know, aint, talkin, shit, im, like, oh, shit, time, im, starstruck, man, im, still, thinking, bout, know, im, picturing, niggas, show, streets, watching, im, lookin, superstars, eyes, still, know, jay, came, spit, songs, like, one, day, two, days, got, ta, bring, one, thing, know, come, back, s...   \n",
       "3967  [know, aint, get, deal, hehe, okay, fast, forward, blueprint, h, izzo, first, hit, single, took, proudly, built, relationships, people, relationship, kweli, think, one, best, ones, ever, happen, career, rapper, know, course, later, allowed, go, tour, man, appre, love, time, know, didnt, deal, so...   \n",
       "3968                                                                                                                                                                                                                                                                  [im, gon, na, say, nothin, mess, promotion]   \n",
       "3969                                                                                                                                      [lets, say, didnt, get, deal, nigga, behind, mean, wasnt, even, nigga, know, person, actually, kicked, everything, joe, h, capitol, records, wanted, sign, really, bad]   \n",
       "3970                                                                                                                                                                                                                                            [dame, like, yo, got, deal, capitol, okay, man, make, sure, wack]   \n",
       "3971  [one, day, went, ahead, played, wanted, play, songs, cause, know, cam, room, young, guru, dame, room, played, actually, song, youll, never, hear, maybe, might, use, called, wow, go, jacob, thou, go, hundred, wow, got, plaques, walls, right, got, first, gold, single, damn, nigga, wow, like, choru...   \n",
       "3972                                                                                                                                                                                                                                                                           [aint, gon, na, front, kinda, hot]   \n",
       "3973                                                        [like, still, werent, looking, like, rapper, im, sure, dame, figured, like, man, whole, album, raps, wack, least, throw, cam, every, song, save, album, know, uh, dame, took, office, hes, like, yo, man, b, b, dont, want, brick, dont, want, brick]   \n",
       "3974  [got, ta, umbrella, youll, get, rained, told, hiphop, hiphop, oh, word, actually, even, still, take, deal, capitol, cause, already, table, cause, relationship, h, know, cause, told, gon, na, im, man, word, gon, na, roll, said, gon, na, know, im, gon, na, name, names, people, told, oh, hes, produ...   \n",
       "\n",
       "                                                                                                                                                                                                                                                                                                            embed  \n",
       "0     [[-1.7489973, -0.9353843, 3.045907, 0.9955156, -1.635011, -2.6825666, -2.8498957, -0.4187155, -2.2020597, -3.6119843, -1.2225274, -1.0093552, 1.962218, -0.17295271, -0.50632375, -1.619458, 2.9927113, -2.140632, -1.690715, 0.56156003, -2.682254, -1.3792729, 0.7983511, 1.8024687, -1.0167673, 4.902...  \n",
       "1     [[0.12188834, -0.43565154, 0.34084073, -0.8060796, 0.19205038, -0.71717757, 1.2678972, 1.3213547, -1.465972, -0.5656701, -0.08051969, 1.2891339, 1.1333524, 0.58948636, -0.4443255, -0.030862061, 1.2154992, 1.5816468, -1.8806332, -0.15031587, -0.2930959, 0.8411025, 1.1549904, -1.1008632, 1.5331802...  \n",
       "2     [[-0.41990274, -1.8070214, 0.13869573, 1.2310233, 4.422825, 1.4408568, 2.1579492, -1.9580184, -4.0459065, 2.6522543, -0.6429453, -0.25377318, 2.5535347, -1.0946152, 0.044761296, -1.0322977, 1.8113909, -0.590022, 0.0065212916, -2.8506484, 0.783814, 0.19879872, 0.29670212, 0.061386555, -2.666102, ...  \n",
       "3     [[-1.9030457, 0.06557344, 2.8034348, 0.8055785, -0.09644601, -1.9527825, -0.807977, 0.13190414, -2.2703588, 0.44500765, -1.894376, 0.08083263, -0.032572586, -0.7127829, 0.97846824, 0.55727345, 1.6884733, -0.64981437, 1.291722, -3.1601233, -1.2796681, 2.426292, -0.42562303, -0.5862727, 1.9018502,...  \n",
       "4     [[0.12188834, -0.43565154, 0.34084073, -0.8060796, 0.19205038, -0.71717757, 1.2678972, 1.3213547, -1.465972, -0.5656701, -0.08051969, 1.2891339, 1.1333524, 0.58948636, -0.4443255, -0.030862061, 1.2154992, 1.5816468, -1.8806332, -0.15031587, -0.2930959, 0.8411025, 1.1549904, -1.1008632, 1.5331802...  \n",
       "5     [[-1.7489973, -0.9353843, 3.045907, 0.9955156, -1.635011, -2.6825666, -2.8498957, -0.4187155, -2.2020597, -3.6119843, -1.2225274, -1.0093552, 1.962218, -0.17295271, -0.50632375, -1.619458, 2.9927113, -2.140632, -1.690715, 0.56156003, -2.682254, -1.3792729, 0.7983511, 1.8024687, -1.0167673, 4.902...  \n",
       "8     [[-0.37601957, 0.37893364, -0.95591813, -0.39351973, -0.3807331, -0.4940039, -0.3962252, 0.3960694, -0.34640217, 0.09036681, 0.79668707, -1.0847745, 0.6397608, 0.10298203, 0.3429729, -1.2738565, 0.4092755, -0.96095777, 2.2326386, 0.6650753, 1.3856046, -0.34493932, 0.010077048, 0.7201997, -0.6693...  \n",
       "9     [[-1.1586243, 0.09630344, 1.9987541, 0.6637372, 0.38799202, -1.0370307, 0.01620656, 0.6668379, -1.2514604, 2.1471684, -0.12455832, -2.5115292, 3.562884, 0.15019101, 0.16633753, 0.56509036, -0.72725964, 0.20625708, 0.29627535, -0.82739216, 1.291424, 0.6240084, 1.353739, -0.59022987, 1.1367245, 1....  \n",
       "10    [[0.26012045, 0.291193, -0.018313313, 0.08242044, 0.11480901, -0.41633517, -0.2497544, 0.5395485, 0.05406977, -0.063417934, 0.045260284, -0.05692018, -0.04305594, 0.010886482, 0.47268495, -0.5757606, 0.12948525, -0.46310812, 0.16336203, -0.13019708, -0.068484284, -0.49168146, 0.014735492, -0.215...  \n",
       "11    [[0.12188834, -0.43565154, 0.34084073, -0.8060796, 0.19205038, -0.71717757, 1.2678972, 1.3213547, -1.465972, -0.5656701, -0.08051969, 1.2891339, 1.1333524, 0.58948636, -0.4443255, -0.030862061, 1.2154992, 1.5816468, -1.8806332, -0.15031587, -0.2930959, 0.8411025, 1.1549904, -1.1008632, 1.5331802...  \n",
       "13    [[1.3129358, 2.1400907, 1.3453498, 1.0927886, 0.78227085, 1.1999841, 0.88403845, -1.4472708, -2.699282, 1.5272716, 0.30816054, 1.5772566, 0.17625782, 1.2386523, 1.3226773, 0.9180362, 1.6873157, 2.041435, -0.3802084, 1.110457, 0.5579264, -1.2266839, -4.7939095, 2.1367002, -1.2116785, -1.0746092, ...  \n",
       "14    [[0.0020762004, 0.11376761, 0.0015357075, -0.037033424, 0.093040496, -0.015032881, -0.10925501, 0.062300306, 0.024345864, -0.041811924, 0.011940432, -0.05911974, -0.0998498, 0.013440089, -0.05295357, -0.043619536, -0.04752746, -0.10602296, 0.12965405, -0.020147998, -0.03547794, -0.08845158, 0.02...  \n",
       "15    [[1.3129358, 2.1400907, 1.3453498, 1.0927886, 0.78227085, 1.1999841, 0.88403845, -1.4472708, -2.699282, 1.5272716, 0.30816054, 1.5772566, 0.17625782, 1.2386523, 1.3226773, 0.9180362, 1.6873157, 2.041435, -0.3802084, 1.110457, 0.5579264, -1.2266839, -4.7939095, 2.1367002, -1.2116785, -1.0746092, ...  \n",
       "16    [[-0.801846, 0.029387932, -0.33697376, -1.7749062, -1.7970122, -0.10777654, 0.043245822, -1.484089, -1.348094, -0.4362428, -1.8203331, 0.037582755, 0.026335642, -0.70667225, 0.034614686, -1.2491779, -1.2504231, -1.1737561, -0.51277906, -1.3706106, -0.79421115, -0.97691894, 1.3720274, 0.4050224, ...  \n",
       "17    [[1.3129358, 2.1400907, 1.3453498, 1.0927886, 0.78227085, 1.1999841, 0.88403845, -1.4472708, -2.699282, 1.5272716, 0.30816054, 1.5772566, 0.17625782, 1.2386523, 1.3226773, 0.9180362, 1.6873157, 2.041435, -0.3802084, 1.110457, 0.5579264, -1.2266839, -4.7939095, 2.1367002, -1.2116785, -1.0746092, ...  \n",
       "18    [[-1.7489973, -0.9353843, 3.045907, 0.9955156, -1.635011, -2.6825666, -2.8498957, -0.4187155, -2.2020597, -3.6119843, -1.2225274, -1.0093552, 1.962218, -0.17295271, -0.50632375, -1.619458, 2.9927113, -2.140632, -1.690715, 0.56156003, -2.682254, -1.3792729, 0.7983511, 1.8024687, -1.0167673, 4.902...  \n",
       "19    [[-0.040128138, 0.043025438, -0.11310103, 0.011343542, -0.08253471, -0.09548894, 0.02353579, 0.16450842, -0.111879066, -0.012311347, -0.03946012, -0.058607824, -0.0791504, 0.044042278, 0.0607148, -0.096286945, 0.01978017, -0.15613534, -0.023496222, -0.087664485, 0.08950917, -0.06011488, 0.087832...  \n",
       "20    [[-1.0551273, -1.3319361, -0.4293386, -4.5953217, 3.2028055, -0.3867253, -0.6526863, -0.7590355, -2.3279395, -1.7614179, -0.9365841, 0.26150835, 2.2889335, -0.20843624, -0.2650608, -2.3733106, 1.3541001, 0.05127336, -0.7007374, -1.9194276, -1.7377979, 1.9450965, -0.06894601, 0.24076706, -0.64336...  \n",
       "21    [[0.12188834, -0.43565154, 0.34084073, -0.8060796, 0.19205038, -0.71717757, 1.2678972, 1.3213547, -1.465972, -0.5656701, -0.08051969, 1.2891339, 1.1333524, 0.58948636, -0.4443255, -0.030862061, 1.2154992, 1.5816468, -1.8806332, -0.15031587, -0.2930959, 0.8411025, 1.1549904, -1.1008632, 1.5331802...  \n",
       "22    [[-1.0551273, -1.3319361, -0.4293386, -4.5953217, 3.2028055, -0.3867253, -0.6526863, -0.7590355, -2.3279395, -1.7614179, -0.9365841, 0.26150835, 2.2889335, -0.20843624, -0.2650608, -2.3733106, 1.3541001, 0.05127336, -0.7007374, -1.9194276, -1.7377979, 1.9450965, -0.06894601, 0.24076706, -0.64336...  \n",
       "23    [[-1.7489973, -0.9353843, 3.045907, 0.9955156, -1.635011, -2.6825666, -2.8498957, -0.4187155, -2.2020597, -3.6119843, -1.2225274, -1.0093552, 1.962218, -0.17295271, -0.50632375, -1.619458, 2.9927113, -2.140632, -1.690715, 0.56156003, -2.682254, -1.3792729, 0.7983511, 1.8024687, -1.0167673, 4.902...  \n",
       "24    [[1.7998718, -1.6037016, 0.6505064, 3.3458574, -1.5497414, 0.15612547, -0.72092545, 0.3614656, -3.000924, -1.2369602, -0.77465564, -0.57229847, 3.7183867, -0.4200391, 1.260235, -1.2921445, -1.1852366, 1.6780864, -0.98916936, 0.018707203, 3.0836182, 1.7572626, -3.3276348, -0.48637697, 1.5961368, ...  \n",
       "25    [[-1.2332963, 0.099240094, -1.2694288, 1.2276123, -0.4224163, -1.195942, -0.8494697, 0.39352906, -2.0592463, 1.2703395, -2.0926576, -2.1525114, 0.5180665, 1.3897152, 1.3673908, 0.794638, 1.8735675, -3.3023996, 1.4863169, -2.7879212, 0.42327556, -0.4044043, 1.5641094, 0.09876001, -2.1324172, -1.5...  \n",
       "26    [[-0.7775285, 1.92143, 1.0312474, -1.0730075, 2.1723473, -0.5404956, 0.6365258, -0.85602427, -0.18706103, 2.3102262, -0.27620897, -0.07959128, -1.3154289, 1.0713091, 0.58592725, 0.5483903, 0.97249943, -0.33886856, 1.5385785, -2.6495297, -0.86487114, 0.8986464, -0.20016932, 0.073668435, 1.7880846...  \n",
       "27    [[-1.3307753, -0.39927927, 0.6554601, -1.6975374, -0.31615144, -0.6022589, 0.86622685, 1.8951231, -0.97311336, -0.70782286, -0.19925937, 0.6046611, 0.38645905, 1.3742422, -0.21997768, -0.35150814, -1.3776596, -0.9307303, -1.2278517, -0.46567804, -0.4562777, -0.37189046, 0.4293165, -1.2798699, -0...  \n",
       "28    [[0.18528189, 0.07605789, 0.27870965, 0.62764734, -0.24788415, -0.70944, -0.06095344, -0.8869798, -0.7481392, 0.8215228, -0.4787756, -0.6763346, 0.39255664, -1.0512404, 0.104630165, -1.5296086, 0.69743615, 1.5963961, -0.8875299, -0.13858247, -1.4532378, 0.1170003, 0.38015673, -1.5760437, 0.35502...  \n",
       "30    [[0.12188834, -0.43565154, 0.34084073, -0.8060796, 0.19205038, -0.71717757, 1.2678972, 1.3213547, -1.465972, -0.5656701, -0.08051969, 1.2891339, 1.1333524, 0.58948636, -0.4443255, -0.030862061, 1.2154992, 1.5816468, -1.8806332, -0.15031587, -0.2930959, 0.8411025, 1.1549904, -1.1008632, 1.5331802...  \n",
       "33    [[-0.8033328, 1.262377, -1.3314614, 1.1227783, 0.21895535, 0.4479252, 1.9903641, 0.39137977, 0.7223997, -0.7987705, -1.112227, 0.31747302, -1.8072064, 0.27538264, -2.6281564, 2.8306427, -0.2640844, -2.3837366, -2.1674888, -1.4400388, -2.2658339, 1.0824118, 2.10024, 1.1949687, 1.1499217, -2.37152...  \n",
       "36    [[-0.801846, 0.029387932, -0.33697376, -1.7749062, -1.7970122, -0.10777654, 0.043245822, -1.484089, -1.348094, -0.4362428, -1.8203331, 0.037582755, 0.026335642, -0.70667225, 0.034614686, -1.2491779, -1.2504231, -1.1737561, -0.51277906, -1.3706106, -0.79421115, -0.97691894, 1.3720274, 0.4050224, ...  \n",
       "37    [[0.8699848, -0.4178891, -0.4304151, 0.57655275, -0.7109562, -0.31270838, -0.0056399056, 1.3379636, -0.29557976, -0.3567626, -0.0067888745, -0.24625239, 0.10929344, 0.6773883, -0.68945754, -0.56451523, 0.6035881, 0.5254881, 0.5591933, -0.83714986, 1.3467976, -0.5028145, 0.4369666, -0.2804609, 0....  \n",
       "...                                                                                                                                                                                                                                                                                                           ...  \n",
       "3945  [[0.8905007, -0.44041649, -0.39841667, -1.6479619, 0.82377654, -1.0306683, -0.810066, 0.58298695, 0.84287024, -1.8951313, 0.10026765, -2.2364416, 1.955923, -0.46850306, 0.78535753, 0.6586583, 1.060585, -0.73036873, 0.39507082, -2.5421798, 1.0683022, -0.21319091, -0.46741173, -0.8916144, 0.619219...  \n",
       "3946  [[0.28875676, 0.19182575, 0.7089262, -0.35769698, -0.1454836, -1.7464666, -0.43503925, 0.52178866, -0.4193695, -0.5663543, 0.27606067, -0.83148545, -0.5531231, -0.2740835, -0.17717686, 0.26403785, 0.37933636, -0.7716921, 0.19382587, -1.0414834, 1.0766233, 0.11813296, -0.005549765, -0.19206528, -...  \n",
       "3947  [[-0.16351746, 0.52117133, -0.19081609, -0.55474025, 0.7275279, -0.5474024, -0.65487355, -0.2770105, -0.030722355, 0.8911534, -0.67207545, 0.6353495, -0.6533718, 0.5323602, 0.66299146, -1.3037337, -0.11724521, -0.30759314, -1.0258617, 0.16881332, -0.21517508, -0.17508242, 0.03339766, -0.744135, ...  \n",
       "3948  [[-0.0074744597, 0.040896982, -0.11899728, 0.058776297, 0.03264584, -0.043447345, 0.00036059204, 0.1395137, -0.006824301, -0.062596776, 0.028546255, -0.11163594, -0.06259385, 0.028317735, 0.06927496, -0.04142386, 0.07701298, -0.11985729, -0.004132402, -0.04798355, 0.06645186, 0.0107599655, -0.00...  \n",
       "3949  [[-1.4584669, 1.6060878, -1.1865829, 0.7235078, -1.0040756, -1.0000627, -0.77406275, -0.81099206, 0.54772365, -0.27981162, 0.8590145, -2.1151874, -0.87139195, 1.3327084, -2.5747986, 0.51363474, -0.38087058, -1.0869547, 0.4544942, -1.060921, -0.61580765, -0.7446827, -0.24485488, 3.0944204, 0.0205...  \n",
       "3950  [[-1.190572, -2.6399562, 0.8119916, -1.9589714, 0.20147057, -3.05736, 1.2068486, 2.0359485, 0.91239405, -1.0890715, -2.9725168, 1.644289, -1.2673262, -1.5411611, -2.2186427, -1.353724, -0.9453871, 0.7665443, 0.94538367, -1.0817577, 0.9154615, 1.4880432, -1.8332211, 2.69634, 0.4165321, 1.1023589,...  \n",
       "3951  [[1.2372874, 0.66172487, -0.43082052, 0.51327056, 0.5478736, 0.89017963, 0.2475656, 1.2327819, 0.9606356, -0.08445845, -0.4465077, -1.0945772, -1.1713679, 0.37591892, -0.13878143, -0.21658383, 0.46553135, -0.07795094, 0.22468324, -0.7911976, 0.15595865, -0.30749983, -0.1755399, 2.2586625, 0.9340...  \n",
       "3952  [[1.2929103, -2.2129247, -0.9177675, -2.1894505, -0.62845683, 0.61443293, -0.4102747, 0.52969724, 2.6268148, -2.0801775, 1.1174002, -1.9807894, 3.2394574, 0.042014703, 0.79176503, -0.98807156, 1.4740094, 1.4654176, -2.526319, 2.564561, 1.8058634, 1.3403279, 0.9850799, 4.4162607, 0.45878997, -0.0...  \n",
       "3953  [[1.2372874, 0.66172487, -0.43082052, 0.51327056, 0.5478736, 0.89017963, 0.2475656, 1.2327819, 0.9606356, -0.08445845, -0.4465077, -1.0945772, -1.1713679, 0.37591892, -0.13878143, -0.21658383, 0.46553135, -0.07795094, 0.22468324, -0.7911976, 0.15595865, -0.30749983, -0.1755399, 2.2586625, 0.9340...  \n",
       "3954  [[2.1944602, -1.5609143, 0.29563534, -0.828212, -1.2882856, -0.12145205, 0.95379126, 1.127666, 0.27030414, -1.3536502, -1.303941, -0.5149675, -0.3544533, -0.8164072, -1.2695043, -0.5753519, -0.1673983, -1.4916153, 0.36314526, -1.9408063, 0.58126754, 0.9752602, -0.61445755, 0.37312996, -1.7736664...  \n",
       "3955  [[1.2372874, 0.66172487, -0.43082052, 0.51327056, 0.5478736, 0.89017963, 0.2475656, 1.2327819, 0.9606356, -0.08445845, -0.4465077, -1.0945772, -1.1713679, 0.37591892, -0.13878143, -0.21658383, 0.46553135, -0.07795094, 0.22468324, -0.7911976, 0.15595865, -0.30749983, -0.1755399, 2.2586625, 0.9340...  \n",
       "3956  [[-0.13820067, -0.21978009, -0.4592038, -0.030046983, 0.15069458, -0.08009393, -0.12440291, 0.6138437, 0.10978931, -0.05533077, -0.07752186, -0.1577714, -0.30607116, 0.41259786, -0.16557756, -0.18022864, 0.056120075, -0.35368544, 0.16741312, -0.0776118, 0.21157797, -0.07628539, -0.058157, 0.1937...  \n",
       "3957  [[-0.11788175, 0.41433644, -0.20540674, 0.10569413, -0.119231105, -0.3848049, -0.14003406, 0.22955327, 0.051217627, -0.10564813, -0.035587404, -0.018838549, -0.28940064, -0.05474709, 0.34818166, -0.39481157, -0.11316427, -0.07741255, 0.12338304, -0.3512274, 0.23352297, 0.06445444, 0.16141011, 0....  \n",
       "3958  [[0.12188834, -0.43565154, 0.34084073, -0.8060796, 0.19205038, -0.71717757, 1.2678972, 1.3213547, -1.465972, -0.5656701, -0.08051969, 1.2891339, 1.1333524, 0.58948636, -0.4443255, -0.030862061, 1.2154992, 1.5816468, -1.8806332, -0.15031587, -0.2930959, 0.8411025, 1.1549904, -1.1008632, 1.5331802...  \n",
       "3959  [[-0.001885922, -1.5597379, -1.424612, -0.57347107, 0.115136325, -0.5056577, 4.2586904, 1.6934625, -1.199789, 1.537788, 1.3023874, -2.0982518, 0.49807635, -2.340068, 1.8442397, 0.7975358, 1.6707104, 0.08227449, 0.5156825, 0.14764927, -1.0492773, 0.34247592, -0.44673064, -0.25899267, -1.0729301, ...  \n",
       "3960  [[-0.8033328, 1.262377, -1.3314614, 1.1227783, 0.21895535, 0.4479252, 1.9903641, 0.39137977, 0.7223997, -0.7987705, -1.112227, 0.31747302, -1.8072064, 0.27538264, -2.6281564, 2.8306427, -0.2640844, -2.3837366, -2.1674888, -1.4400388, -2.2658339, 1.0824118, 2.10024, 1.1949687, 1.1499217, -2.37152...  \n",
       "3961  [[-1.151783, 0.12924378, 1.7018288, -0.18467335, 0.60015464, -0.43483075, 0.4649704, 0.43684384, 0.43159974, -0.8131354, 0.0352952, 0.24734141, 0.03569845, 1.6284262, 0.967623, 0.98912704, 1.0090365, 0.34491044, 1.9435381, -0.49262795, 0.5824534, -0.6090644, 1.1700573, -0.5604438, 1.3691909, -0....  \n",
       "3962  [[0.1342291, 0.0035199486, 0.039998297, 0.06715308, 0.095067196, -0.18223086, 0.060857657, 0.33886382, -0.15492795, 0.101673484, 0.15065761, -0.11744322, -0.15511, 0.10350991, 0.111622125, -0.12124746, 0.06359169, -0.03462577, 0.096628, -0.105657, 0.2090883, 0.13282275, 0.16251029, 0.030317035, ...  \n",
       "3963  [[0.034491144, 0.016888706, -0.06962686, -0.06145078, -0.0058359443, -0.18500262, 0.009402379, 0.113489926, 0.11786491, -0.1583473, -0.008473684, -0.015442526, -0.08579668, 0.072713695, 0.08459968, 0.001733631, 0.088260934, -0.18491781, -0.030303786, -0.17413507, 0.0117505435, 0.01421713, -0.041...  \n",
       "3964  [[0.6622297, -0.04126135, 0.6114118, -0.57406074, -0.48682055, -1.3175633, 0.5813829, 1.4947764, 0.09051313, -0.81267756, -0.3677978, -1.3030046, -0.63674706, 0.35543388, -0.8753654, 0.109826736, -0.08133878, -0.021173574, -0.38177004, -1.3203733, 1.0146804, -0.44802237, -0.7659813, 0.17352487, ...  \n",
       "3965  [[0.6380858, -1.1234543, -1.0530231, 0.10047837, -1.1764723, -1.7015768, 0.76117474, -0.10712639, -0.050990604, -0.07969075, 0.108257785, -0.067176074, -1.6317002, 1.523965, -0.5466712, -0.36467472, 0.0424454, 0.97946876, 0.7460407, -0.0824653, 0.94123864, -0.23727666, 0.09227144, 1.0090008, -0....  \n",
       "3966  [[0.18528189, 0.07605789, 0.27870965, 0.62764734, -0.24788415, -0.70944, -0.06095344, -0.8869798, -0.7481392, 0.8215228, -0.4787756, -0.6763346, 0.39255664, -1.0512404, 0.104630165, -1.5296086, 0.69743615, 1.5963961, -0.8875299, -0.13858247, -1.4532378, 0.1170003, 0.38015673, -1.5760437, 0.35502...  \n",
       "3967  [[0.18528189, 0.07605789, 0.27870965, 0.62764734, -0.24788415, -0.70944, -0.06095344, -0.8869798, -0.7481392, 0.8215228, -0.4787756, -0.6763346, 0.39255664, -1.0512404, 0.104630165, -1.5296086, 0.69743615, 1.5963961, -0.8875299, -0.13858247, -1.4532378, 0.1170003, 0.38015673, -1.5760437, 0.35502...  \n",
       "3968  [[0.12188834, -0.43565154, 0.34084073, -0.8060796, 0.19205038, -0.71717757, 1.2678972, 1.3213547, -1.465972, -0.5656701, -0.08051969, 1.2891339, 1.1333524, 0.58948636, -0.4443255, -0.030862061, 1.2154992, 1.5816468, -1.8806332, -0.15031587, -0.2930959, 0.8411025, 1.1549904, -1.1008632, 1.5331802...  \n",
       "3969  [[0.16937695, 3.357941, 1.3416018, 1.6236997, 1.315976, 0.6885943, 1.2091686, -1.8116816, -2.502218, 0.37838066, 1.5211605, 0.17869961, -1.5705465, -1.552379, -4.2142673, -0.66533446, 3.0100846, 0.64245075, 0.8901923, -2.1478868, -1.5918672, 0.6219974, 0.076922454, 1.4327694, -0.952353, 1.138560...  \n",
       "3970  [[1.0664681, 0.24797973, -0.32289264, -1.1973749, -0.23462546, -0.6062889, -0.41490322, 1.2329129, 0.5414249, -0.5949559, 0.35295543, -0.581962, -1.1715151, 0.24944454, -1.1752192, 0.2479419, -0.5252655, -0.3908025, 0.29954168, -0.2619232, 0.1460209, 0.032143973, -0.06707391, 0.08805023, -0.3160...  \n",
       "3971  [[-0.5692993, 2.236054, 0.68801224, -1.6793606, 3.0296388, -1.63769, 0.9024277, 0.64014864, 0.080431506, -1.5081371, 0.13812421, 0.6871351, 1.2187583, -0.7796902, -0.06686498, 1.3332527, -1.7404954, 2.4520426, 0.61293495, -0.83633983, -1.952078, 1.6002196, -2.1241195, 1.8983063, 2.824151, 1.0502...  \n",
       "3972  [[1.0235496, -1.5109036, -0.7385181, -0.45566234, 2.8123548, 1.9436979, -1.6466273, -2.079619, -2.6955721, -0.6305326, -0.41434085, 0.24370594, 0.72078437, 1.7452081, -0.1908052, -2.5005689, 1.4937192, 2.4827113, 2.1499612, -0.3603992, 0.22004882, 0.44893962, 1.0078768, -0.9660207, 1.5195798, -0...  \n",
       "3973  [[-1.151783, 0.12924378, 1.7018288, -0.18467335, 0.60015464, -0.43483075, 0.4649704, 0.43684384, 0.43159974, -0.8131354, 0.0352952, 0.24734141, 0.03569845, 1.6284262, 0.967623, 0.98912704, 1.0090365, 0.34491044, 1.9435381, -0.49262795, 0.5824534, -0.6090644, 1.1700573, -0.5604438, 1.3691909, -0....  \n",
       "3974  [[-1.4076921, 2.0274742, 1.5291497, 1.3715295, 2.8033414, -0.22239828, -0.54870737, 0.6389802, -0.02050984, -0.7707648, 3.0293097, 0.29562193, 1.6397126, -1.2836523, 1.4997331, -1.2824497, 1.9793553, -2.0260737, -0.5699518, 0.19395247, -0.8003901, 1.356306, 0.926871, 0.959078, -0.21390827, -1.27...  \n",
       "\n",
       "[3039 rows x 4 columns]"
      ]
     },
     "execution_count": 47,
     "metadata": {},
     "output_type": "execute_result"
    }
   ],
   "source": [
    "data['embed'] = embedding(word2vec, data['seq'])\n",
    "data"
   ]
  },
  {
   "cell_type": "code",
   "execution_count": 50,
   "metadata": {},
   "outputs": [],
   "source": [
    "#and more rapid way\n",
    "#for index, row in data.iterrows():\n",
    "    #vector_list = []\n",
    "    #for word in row['seq']:\n",
    "        #vector_list.append(word2vec.wv[word])\n",
    "    #row['embed1'] = vector_list"
   ]
  },
  {
   "cell_type": "code",
   "execution_count": 51,
   "metadata": {
    "ExecuteTime": {
     "end_time": "2021-06-25T17:22:27.636650Z",
     "start_time": "2021-06-25T17:22:27.634359Z"
    }
   },
   "outputs": [],
   "source": [
    "# Check \n",
    "assert len(data['embed']) == len(data)"
   ]
  },
  {
   "cell_type": "markdown",
   "metadata": {},
   "source": [
    "### 3.2 Create (X,y)"
   ]
  },
  {
   "cell_type": "markdown",
   "metadata": {},
   "source": [
    "❓ **Create a numpy array `X` of shape (number_of_verses, 300, 100)**\n",
    "\n",
    "- 300 words per verse (pad verses shorter than 300 with zeros at the end) \n",
    "- each words being a vector of size 100\n",
    "\n",
    "<img src=\"https://raw.githubusercontent.com/lewagon/data-images/master/DL/padding.png\" width=400>"
   ]
  },
  {
   "cell_type": "code",
   "execution_count": 52,
   "metadata": {
    "ExecuteTime": {
     "end_time": "2021-06-25T17:22:28.272086Z",
     "start_time": "2021-06-25T17:22:27.638449Z"
    },
    "tags": [
     "challengify"
    ]
   },
   "outputs": [],
   "source": [
    "from tensorflow.keras.preprocessing.sequence import pad_sequences\n",
    "X = pad_sequences(data['embed'], dtype='float32', padding='post', maxlen=300)"
   ]
  },
  {
   "cell_type": "code",
   "execution_count": 53,
   "metadata": {},
   "outputs": [
    {
     "data": {
      "text/plain": [
       "(3039, 300, 100)"
      ]
     },
     "execution_count": 53,
     "metadata": {},
     "output_type": "execute_result"
    }
   ],
   "source": [
    "X.shape"
   ]
  },
  {
   "cell_type": "markdown",
   "metadata": {},
   "source": [
    "❓ **Create the numpy array `y` of shape `(n_verses, 3)` that contains the one-hot-encoded list of labels, for the RNN**"
   ]
  },
  {
   "cell_type": "code",
   "execution_count": 54,
   "metadata": {
    "ExecuteTime": {
     "end_time": "2021-06-25T17:22:28.394015Z",
     "start_time": "2021-06-25T17:22:28.274638Z"
    },
    "tags": [
     "challengify"
    ]
   },
   "outputs": [
    {
     "data": {
      "text/plain": [
       "(3039, 3)"
      ]
     },
     "execution_count": 54,
     "metadata": {},
     "output_type": "execute_result"
    }
   ],
   "source": [
    "from sklearn.preprocessing import OneHotEncoder\n",
    "\n",
    "cat_encoder = OneHotEncoder()\n",
    "y_sparse = cat_encoder.fit_transform(data[['artist']])\n",
    "y = y_sparse.toarray()\n",
    "\n",
    "y.shape"
   ]
  },
  {
   "cell_type": "markdown",
   "metadata": {},
   "source": [
    "👉 Train/test split the dataset"
   ]
  },
  {
   "cell_type": "code",
   "execution_count": 55,
   "metadata": {
    "ExecuteTime": {
     "end_time": "2021-06-25T17:22:29.558686Z",
     "start_time": "2021-06-25T17:22:28.400774Z"
    }
   },
   "outputs": [],
   "source": [
    "from sklearn.model_selection import train_test_split\n",
    "\n",
    "X_train, X_test, y_train, y_test = train_test_split(X, y, test_size=0.2)"
   ]
  },
  {
   "cell_type": "code",
   "execution_count": 56,
   "metadata": {
    "ExecuteTime": {
     "end_time": "2021-06-25T17:22:29.803743Z",
     "start_time": "2021-06-25T17:22:29.563431Z"
    }
   },
   "outputs": [],
   "source": [
    "from nbresult import ChallengeResult\n",
    "result = ChallengeResult(\n",
    "    'data_preprocessing',\n",
    "    n_zeros = np.sum(X == 0),\n",
    "    X_shape = X.shape,\n",
    "    y_shape = y.shape,\n",
    ")\n",
    "\n",
    "result.write()"
   ]
  },
  {
   "cell_type": "markdown",
   "metadata": {},
   "source": [
    "## 4. Recurrent Neural Network"
   ]
  },
  {
   "cell_type": "markdown",
   "metadata": {},
   "source": [
    "👉 Building the (X,Y) training sets\n",
    "\n",
    "```python\n",
    "! wget \\\n",
    "'https://wagon-public-datasets.s3.amazonaws.com/certification_france_2021_q2/data_lyrics_solution.pickle'\n",
    "\n",
    "import pickle\n",
    "with open(\"data_lyrics_solution.pickle\", \"rb\") as file:\n",
    "    (X_train, y_train, X_test, y_test) = pickle.load(file)\n",
    "    \n",
    "! rm data_lyrics_solution.pickle\n",
    "```"
   ]
  },
  {
   "cell_type": "markdown",
   "metadata": {},
   "source": [
    "❓ **store the baseline accuracy to beat as `score_baseline`**"
   ]
  },
  {
   "cell_type": "code",
   "execution_count": 60,
   "metadata": {},
   "outputs": [
    {
     "data": {
      "text/plain": [
       "0.16947758124228712"
      ]
     },
     "execution_count": 60,
     "metadata": {},
     "output_type": "execute_result"
    }
   ],
   "source": [
    "dummy_clf = DummyClassifier(strategy=\"stratified\")\n",
    "dummy_clf.fit(X_train, y_train)\n",
    "\n",
    "score_baseline = dummy_clf.score(X_train, y_train)\n",
    "score_baseline"
   ]
  },
  {
   "cell_type": "code",
   "execution_count": 58,
   "metadata": {},
   "outputs": [
    {
     "data": {
      "text/plain": [
       "0.46359522830111066"
      ]
     },
     "execution_count": 58,
     "metadata": {},
     "output_type": "execute_result"
    }
   ],
   "source": [
    "column_sums = y_train.sum(axis=0)\n",
    "\n",
    "score_baseline = np.max(column_sums) / len(X_train)\n",
    "score_baseline"
   ]
  },
  {
   "cell_type": "code",
   "execution_count": 59,
   "metadata": {},
   "outputs": [
    {
     "data": {
      "text/plain": [
       "array([1127.,  705.,  599.])"
      ]
     },
     "execution_count": 59,
     "metadata": {},
     "output_type": "execute_result"
    }
   ],
   "source": [
    "\n",
    "column_sums"
   ]
  },
  {
   "cell_type": "markdown",
   "metadata": {},
   "source": [
    "❓ **Create a RNN architecture to predict the artists `y`  given verses `X`** :\n",
    "\n",
    "- Don't forget to take care of fake \"zeros\" added during preprocessing"
   ]
  },
  {
   "cell_type": "code",
   "execution_count": 61,
   "metadata": {},
   "outputs": [],
   "source": [
    "def init_model():\n",
    "    model = Sequential()\n",
    "    model.add(Masking(mask_value=0, input_shape=(300, 100)))\n",
    "    model.add(LSTM(units=20, activation = 'tanh'))\n",
    "    model.add(Dense(units=100, activation='relu'))\n",
    "    model.add(Dropout(rate = 0.5))\n",
    "    \n",
    "    model.add(Dense(units=3, activation='sigmoid'))\n",
    "    \n",
    "    model.compile(loss='categorical_crossentropy',\n",
    "             optimizer='rmsprop',\n",
    "             metrics = 'accuracy')\n",
    "    return model"
   ]
  },
  {
   "cell_type": "code",
   "execution_count": 63,
   "metadata": {
    "ExecuteTime": {
     "end_time": "2021-06-25T17:27:09.448283Z",
     "start_time": "2021-06-25T17:27:08.796094Z"
    },
    "tags": [
     "challengify"
    ]
   },
   "outputs": [
    {
     "name": "stdout",
     "output_type": "stream",
     "text": [
      "Model: \"sequential\"\n",
      "_________________________________________________________________\n",
      "Layer (type)                 Output Shape              Param #   \n",
      "=================================================================\n",
      "masking (Masking)            (None, 300, 100)          0         \n",
      "_________________________________________________________________\n",
      "lstm (LSTM)                  (None, 20)                9680      \n",
      "_________________________________________________________________\n",
      "dense (Dense)                (None, 100)               2100      \n",
      "_________________________________________________________________\n",
      "dropout (Dropout)            (None, 100)               0         \n",
      "_________________________________________________________________\n",
      "dense_1 (Dense)              (None, 3)                 303       \n",
      "=================================================================\n",
      "Total params: 12,083\n",
      "Trainable params: 12,083\n",
      "Non-trainable params: 0\n",
      "_________________________________________________________________\n"
     ]
    }
   ],
   "source": [
    "model = init_model()\n",
    "model.summary()"
   ]
  },
  {
   "cell_type": "markdown",
   "metadata": {},
   "source": [
    "❓ **Train the `model` on the `(X_train, y_train)` training set**\n",
    "- Adapt the learning rate of the optimizer if convergence is too slow/fast\n",
    "- Make sure the model does not overfit with appropriate control techniques"
   ]
  },
  {
   "cell_type": "code",
   "execution_count": 67,
   "metadata": {
    "ExecuteTime": {
     "end_time": "2021-06-25T17:28:13.790957Z",
     "start_time": "2021-06-25T17:27:09.537171Z"
    },
    "tags": [
     "challengify"
    ]
   },
   "outputs": [
    {
     "name": "stdout",
     "output_type": "stream",
     "text": [
      "Epoch 1/1000\n",
      "107/107 [==============================] - 41s 387ms/step - loss: 0.3032 - accuracy: 0.8907 - val_loss: 1.0816 - val_accuracy: 0.6466\n",
      "Epoch 2/1000\n",
      "107/107 [==============================] - 42s 395ms/step - loss: 0.2428 - accuracy: 0.9089 - val_loss: 1.1727 - val_accuracy: 0.6616\n",
      "Epoch 3/1000\n",
      "107/107 [==============================] - 41s 385ms/step - loss: 0.2069 - accuracy: 0.9259 - val_loss: 1.2589 - val_accuracy: 0.6507\n",
      "Epoch 4/1000\n",
      "107/107 [==============================] - 39s 369ms/step - loss: 0.1508 - accuracy: 0.9524 - val_loss: 1.3498 - val_accuracy: 0.6466\n",
      "Epoch 5/1000\n",
      "107/107 [==============================] - 42s 392ms/step - loss: 0.1264 - accuracy: 0.9594 - val_loss: 1.4692 - val_accuracy: 0.6726\n",
      "Epoch 6/1000\n",
      "107/107 [==============================] - 40s 377ms/step - loss: 0.0964 - accuracy: 0.9677 - val_loss: 1.5363 - val_accuracy: 0.6726\n"
     ]
    }
   ],
   "source": [
    "es = EarlyStopping(patience = 5, restore_best_weights=True)\n",
    "\n",
    "history = model.fit(X_train, y_train,\n",
    "                   batch_size = 16,\n",
    "                   epochs = 1000,\n",
    "                   callbacks=es,\n",
    "                   validation_split=0.3)"
   ]
  },
  {
   "cell_type": "markdown",
   "metadata": {},
   "source": [
    "❓ **Plot the training and validation losses through training**"
   ]
  },
  {
   "cell_type": "code",
   "execution_count": 68,
   "metadata": {
    "ExecuteTime": {
     "end_time": "2021-06-25T17:28:13.814449Z",
     "start_time": "2021-06-25T17:28:13.793297Z"
    }
   },
   "outputs": [
    {
     "data": {
      "image/png": "[encoded data removed]",
      "text/plain": [
       "<Figure size 432x288 with 1 Axes>"
      ]
     },
     "metadata": {
      "needs_background": "light"
     },
     "output_type": "display_data"
    }
   ],
   "source": [
    "plt.rc('font', size=12)\n",
    "\n",
    "plt.plot(history.history['loss'], label='train_loss')\n",
    "plt.plot(history.history['val_loss'], label='val_loss')\n",
    "\n",
    "plt.legend()\n",
    "plt.title(\"train_loss vs val_loss\")\n",
    "plt.xlabel(\"№ of epochs\")\n",
    "plt.ylabel(\"Loss\")\n",
    "\n",
    "# Run also this code to save figure as jpg in path below (it's your job to ensure it works)\n",
    "fig = plt.gcf()\n",
    "plt.savefig(\"tests/history.png\")\n",
    "\n",
    "# Run also this code to save figure as jpg in path below (it's your job to ensure it works)\n",
    "fig = plt.gcf()\n",
    "plt.savefig(\"tests/history.png\")"
   ]
  },
  {
   "cell_type": "markdown",
   "metadata": {},
   "source": [
    "❓ **Save the accuracy on test set as `score_test`**"
   ]
  },
  {
   "cell_type": "code",
   "execution_count": 69,
   "metadata": {
    "ExecuteTime": {
     "end_time": "2021-06-25T17:29:15.350717Z",
     "start_time": "2021-06-25T17:29:14.925473Z"
    },
    "tags": [
     "challengify"
    ]
   },
   "outputs": [
    {
     "name": "stdout",
     "output_type": "stream",
     "text": [
      "19/19 [==============================] - 4s 88ms/step - loss: 1.1834 - accuracy: 0.6299\n"
     ]
    },
    {
     "data": {
      "text/plain": [
       "0.6299341917037964"
      ]
     },
     "execution_count": 69,
     "metadata": {},
     "output_type": "execute_result"
    }
   ],
   "source": [
    "'Model is overfitting despite optimization of the learning rate and the dropout layer. Have no time to adjust it properly.'\n",
    "score_test = model.evaluate(X_test, y_test)[1]\n",
    "score_test"
   ]
  },
  {
   "cell_type": "code",
   "execution_count": 70,
   "metadata": {
    "ExecuteTime": {
     "end_time": "2021-06-25T17:25:11.216908Z",
     "start_time": "2021-06-25T17:25:11.208773Z"
    }
   },
   "outputs": [],
   "source": [
    "from nbresult import ChallengeResult\n",
    "\n",
    "result = ChallengeResult(\n",
    "    \"network\",\n",
    "    loss = model.loss,\n",
    "    input_shape = list(model.input.shape),\n",
    "    layer_names = [layer.name for layer in model.layers],\n",
    "    final_activation = model.layers[-1].activation.__wrapped__._keras_api_names[0],\n",
    "    score_baseline = score_baseline,\n",
    "    score_test = score_test,\n",
    ")\n",
    "result.write()"
   ]
  },
  {
   "cell_type": "code",
   "execution_count": null,
   "metadata": {},
   "outputs": [],
   "source": []
  }
 ],
 "metadata": {
  "celltoolbar": "Edit Metadata",
  "kernelspec": {
   "display_name": "Python 3",
   "language": "python",
   "name": "python3"
  },
  "language_info": {
   "codemirror_mode": {
    "name": "ipython",
    "version": 3
   },
   "file_extension": ".py",
   "mimetype": "text/x-python",
   "name": "python",
   "nbconvert_exporter": "python",
   "pygments_lexer": "ipython3",
   "version": "3.7.1"
  },
  "toc": {
   "base_numbering": 1,
   "nav_menu": {},
   "number_sections": false,
   "sideBar": true,
   "skip_h1_title": false,
   "title_cell": "Table of Contents",
   "title_sidebar": "Contents",
   "toc_cell": false,
   "toc_position": {
    "height": "calc(100% - 180px)",
    "left": "10px",
    "top": "150px",
    "width": "330.513px"
   },
   "toc_section_display": true,
   "toc_window_display": true
  }
 },
 "nbformat": 4,
 "nbformat_minor": 2
}
